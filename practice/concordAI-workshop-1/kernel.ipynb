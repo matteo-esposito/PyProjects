{
  "nbformat": 4,
  "nbformat_minor": 0,
  "metadata": {
    "colab": {
      "name": "kernel.ipynb",
      "version": "0.3.2",
      "provenance": [],
      "collapsed_sections": [
        "F1poPKde-BBC",
        "aHfk6PXE-BCI",
        "uDfQPHfZ-BCs",
        "b8EENeyd-BHg",
        "unPcz0A1-BHq",
        "YM68Gia7-BHs",
        "PD8lqE-M-BHw",
        "BfT8PT8J-BH4",
        "PK0WNrQy-BH_",
        "Q1i7rfd6-BIH",
        "jjFkN-UX-BIN",
        "g4NYZrk7-BIS",
        "-IY6qjb0-BJz"
      ]
    },
    "kernelspec": {
      "display_name": "Python 3",
      "language": "python",
      "name": "python3"
    }
  },
  "cells": [
    {
      "metadata": {
        "_uuid": "a8f9622945156d6337ba73c481da2de7efef7384",
        "id": "ZWqX471j-A3B",
        "colab_type": "text"
      },
      "cell_type": "markdown",
      "source": [
        "# <div align=\"center\">  Artificial Intelligence Concordia Workshop 1: <br /> </div>\n",
        "## <div align=\"center\"> Basics of Machine Learning, Linear Regression and Logistic Regression</div>\n",
        "\n",
        "<div align=\"center\">\n",
        "  <img src=\"https://github.com/olibel270/Workshop1JupyterNote/blob/master/images/AICLogo.jpg?raw=1\" style=\"width: 300px\" /></div>\n",
        "\n",
        "---------------------------------------------------------------------\n",
        "\n",
        "<div align=\"right\">\n",
        "  Follow us on:<br />\n",
        "[ Facebook](https://www.facebook.com/AISConU/)<br />\n",
        "[Our Website](https://www.aisconcordia.com)<br />\n",
        "  </div>\n",
        " \n"
      ]
    },
    {
      "metadata": {
        "id": "FPuEX-v_O4g7",
        "colab_type": "text"
      },
      "cell_type": "markdown",
      "source": [
        "# Introduction"
      ]
    },
    {
      "metadata": {
        "id": "s5KjdaB7Dio9",
        "colab_type": "text"
      },
      "cell_type": "markdown",
      "source": [
        "#Machine Learning"
      ]
    },
    {
      "metadata": {
        "id": "227wfIDMDeu6",
        "colab_type": "text"
      },
      "cell_type": "markdown",
      "source": [
        "Machine learning is the technique of getting computers to act without being explicitly programmed."
      ]
    },
    {
      "metadata": {
        "id": "YIRgz5h2DfNR",
        "colab_type": "text"
      },
      "cell_type": "markdown",
      "source": [
        "![alt text](https://cdn-images-1.medium.com/max/2000/1*U3sbKOU9B18NECml1UAyKA.png)"
      ]
    },
    {
      "metadata": {
        "id": "UMg6QMwYGUju",
        "colab_type": "text"
      },
      "cell_type": "markdown",
      "source": [
        "### Classes of problems in ML"
      ]
    },
    {
      "metadata": {
        "id": "uL9DyA07De6a",
        "colab_type": "text"
      },
      "cell_type": "markdown",
      "source": [
        "![alt text](https://cdn-images-1.medium.com/max/2000/1*8wU0hfUY3UK_D8Y7tbIyFQ.png)"
      ]
    },
    {
      "metadata": {
        "id": "41ecLXDFz6hN",
        "colab_type": "text"
      },
      "cell_type": "markdown",
      "source": [
        "# Python"
      ]
    },
    {
      "metadata": {
        "id": "yQaehA03AOrW",
        "colab_type": "text"
      },
      "cell_type": "markdown",
      "source": [
        "Python is an interpreted programming language. It is object oriented, and has many available libraries, or modules to help implement simple or complex functions.\n",
        "\n",
        " Some Python libraries useful for machine learning: \n",
        "* Numpy\n",
        "* Matlplotlib\n",
        "* Pandas\n",
        "* Pytorch\n",
        "* Keras\n",
        "* Tensorflow\n",
        "* Scikit-Learn\n",
        "  \n",
        "The Python libraries used in machine learning implementations are highly optimized to make use of multiple cores and GPUs when performing computations.\n",
        "\n",
        "Python has a very large community of users. It is considered one of the more intuitive, yet powerful programming languages available. As such, it is easy to find information on specific issues simply by doing a google search of the problem or function required.\n",
        "\n",
        "For more information on how to get started with Python, there are plenty of tutorials available online, such as: \n",
        "https://realpython.com/python-first-steps/\n",
        "  \n",
        "The Google Colab Environment will allow you to run Python scripts and snippets of code without requiring any setup on your part. Google also provides a free Tesla K80 GPU for rapid machine learning computations."
      ]
    },
    {
      "metadata": {
        "id": "QWgvkTf1Smtg",
        "colab_type": "text"
      },
      "cell_type": "markdown",
      "source": [
        "## Required Libraries"
      ]
    },
    {
      "metadata": {
        "id": "1NiuZn9oSdl4",
        "colab_type": "text"
      },
      "cell_type": "markdown",
      "source": [
        "Before we get started, let's import all the necessary libraries to our notebook:"
      ]
    },
    {
      "metadata": {
        "_cell_guid": "b1076dfc-b9ad-4769-8c92-a6c4dae69d19",
        "_uuid": "8f2839f25d086af736a60e9eeb907d3b93b6e0e5",
        "id": "aY1DxfDg-A4U",
        "colab_type": "code",
        "outputId": "fd7e7aac-aac6-4afc-a4b6-e812c7f3edb3",
        "colab": {
          "base_uri": "https://localhost:8080/",
          "height": 170
        }
      },
      "cell_type": "code",
      "source": [
        "# Import Python Packages\n",
        "import warnings\n",
        "import sys\n",
        "import os\n",
        "\n",
        "# Relevant Libraries for ML\n",
        "import csv\n",
        "import scipy\n",
        "import matplotlib\n",
        "import numpy as np\n",
        "import pandas as pd\n",
        "import seaborn as sns\n",
        "import matplotlib.pyplot as plt\n",
        "import sklearn\n",
        "\n",
        "# Show Packages versions\n",
        "print('Installed packages and their versions:')\n",
        "print('csv: {}'.format(csv.__version__))\n",
        "print('scipy: {}'.format(scipy.__version__))\n",
        "print('matplotlib: {}'.format(matplotlib.__version__))\n",
        "print('numpy: {}'.format(np.__version__))\n",
        "print('pandas: {}'.format(pd.__version__))\n",
        "print('seaborn: {}'.format(sns.__version__))\n",
        "print('matplotlib: {}'.format(matplotlib.__version__))\n",
        "print('sklearn: {}'.format(sklearn.__version__))\n",
        "\n",
        "# Setting some Parameters\n",
        "sns.set(color_codes=True)\n",
        "%matplotlib inline\n",
        "pd.set_option('display.float_format', lambda x: '{:.3f}'.format(x)) #Limiting floats output to 3 decimal points\n",
        "\n"
      ],
      "execution_count": 1,
      "outputs": [
        {
          "output_type": "stream",
          "text": [
            "Installed packages and their versions:\n",
            "csv: 1.0\n",
            "scipy: 0.19.1\n",
            "matplotlib: 2.1.2\n",
            "numpy: 1.14.6\n",
            "pandas: 0.22.0\n",
            "seaborn: 0.7.1\n",
            "matplotlib: 2.1.2\n",
            "sklearn: 0.19.2\n"
          ],
          "name": "stdout"
        }
      ]
    },
    {
      "metadata": {
        "id": "BMt7IWKMDxc-",
        "colab_type": "code",
        "colab": {}
      },
      "cell_type": "code",
      "source": [
        "# Importing metrics for evaluation\n",
        "from sklearn.metrics import accuracy_score\n",
        "from sklearn.metrics import confusion_matrix\n",
        "from sklearn.metrics import classification_report\n",
        "from scipy import stats\n",
        "from scipy.stats import norm, skew #for some statistics"
      ],
      "execution_count": 0,
      "outputs": []
    },
    {
      "metadata": {
        "id": "r22tdM7-zs8_",
        "colab_type": "text"
      },
      "cell_type": "markdown",
      "source": [
        "# General Framework of Machine Learning"
      ]
    },
    {
      "metadata": {
        "id": "RUaSqWNwD3wB",
        "colab_type": "text"
      },
      "cell_type": "markdown",
      "source": [
        "<a id=\"8\"></a> <br>\n",
        "### 4-1 Inputs\n",
        "* train.csv - the training set\n",
        "\n",
        "<a id=\"9\"></a> <br>\n",
        "\n",
        "### 4-2 Outputs\n",
        "* sale prices for every record in test.csv\n",
        "\n",
        "* Define Problem \n",
        "* Specify Inputs & Outputs\n",
        "* Exploratory data analysis\n",
        "* Data Collection\n",
        "* Data Preprocessing\n",
        "* Data Cleaning\n",
        "* Visualization\n",
        "* Model Design, Training, and Offline Evaluation\n",
        "* Model Deployment, Online Evaluation, and Monitoring\n",
        "* Model Maintenance, Diagnosis, and Retraining\n",
        "\n",
        " <img src=\"http://s9.picofile.com/file/8338227634/workflow.png\" />\n",
        " \n",
        "Regression Vs. Classification\n",
        "\n",
        "\n",
        "## 2-1 How to solve Problem?\n",
        "**Data Science has so many techniques and procedures that can confuse anyone.**\n",
        "\n",
        "**Step 1**: Translate your business problem statement into technical one\n",
        "\n",
        "**Step 2**: Decide on the supervised learning technique\n",
        "\n",
        "Classification Vs. regression\n",
        "\n",
        "**Step 3**: Literature survey\n",
        "\n",
        "**Step 4**: Data cleaning\n",
        "\n",
        "Missing values\n",
        "\n",
        "different techniques to impute missing values \n",
        "\n",
        "Duplicate records\n",
        "\n",
        "Incorrect values\n",
        "3 standard deviations from the mean\n",
        "\n",
        "**Step 5**: Feature engineering\n",
        "\n",
        "Removing redundant features\n",
        " metrics like AIC and BIC to identify redundant features. There are built in packages to perform operations like forward selection, backward selection etc. to remove redundant features.\n",
        "\n",
        "Transforming a feature\n",
        "A feature might have a non linear relationship with the output column. While complex models can capture this with enough data, simple models might not be able to capture this. I usually try to visualize different functions of each column like log, inverse, quadratic, cubic etc. and choose the transformation that looks closest to a normal curve.\n",
        "\n",
        "**Step 6**: Data modification\n",
        "\n",
        "Scaling\n",
        "Skew\n",
        "Up-sample\n",
        "Down-sample\n",
        "\n",
        "**Step 7**: Modelling\n",
        "\n",
        "Start with simple models, then more complex ones\n",
        "\n",
        "Knowledge of the assumptions of each models\n",
        "\n",
        "**Step 8**: Model comparison\n",
        "Cross validation basically brings out an average performance of a model. avoid over-fitting. \n",
        "randomize data before cross validation.\n",
        "\n",
        "A good technique to compare performance of different models is ROC curves. ROC curves help you visualize performance of different models across different thresholds. While ROC curves give a holistic sense of model performance, based on the business decision, you must choose the performance metric like Accuracy, True Positive Rate, False Positive Rate, F1-Score etc.\n",
        "\n",
        "**Step 9**: Error analysis\n",
        "\n",
        "\n",
        "**Step 10**: Improving your best model\n",
        "\n",
        "Once I have the best model, I usually plot training vs testing accuracy [or the right metric] against the number of parameters. Usually, it is easy to check training and testing accuracy against number of data points. Basically this plot will tell you whether your model is over-fitting or under-fitting. This articleDetecting over-fitting vs under-fitting explains this concept clearly.\n",
        "\n",
        "Understanding if your model is over-fitting or under-fitting will tell you how to proceed with the next steps. If the model is over-fitting, you might consider collecting more data. If the model is under-fitting, you might consider making the models more complex. [Eg. Adding higher order terms to a linear / logistic regression]\n",
        "\n",
        "**Step 11**: Deploying the model\n",
        "\n",
        "\n",
        "**Step 12**: Adding feedback\n",
        " historical data. \n",
        "capture the current trends or changes\n",
        "\n",
        "\n"
      ]
    },
    {
      "metadata": {
        "colab_type": "text",
        "id": "xn9DGzlP2JfA"
      },
      "cell_type": "markdown",
      "source": [
        "# Problem Definition\n"
      ]
    },
    {
      "metadata": {
        "id": "kz77Rv8_3OA5",
        "colab_type": "text"
      },
      "cell_type": "markdown",
      "source": [
        "In this workshop, we will try to solve the following problem using basic machine learning techniques:\n",
        "\n",
        "> *Given a housing dataset describing in detail the **features** of different houses for sale, we want to predict with the highest possible accuracy the **sale price** of any given house *\n",
        "\n",
        "\n"
      ]
    },
    {
      "metadata": {
        "id": "XDvE_cWLDxIo",
        "colab_type": "text"
      },
      "cell_type": "markdown",
      "source": [
        "# Data"
      ]
    },
    {
      "metadata": {
        "id": "vtPRm-JKAbks",
        "colab_type": "text"
      },
      "cell_type": "markdown",
      "source": [
        "\n",
        "  ## Datasets"
      ]
    },
    {
      "metadata": {
        "id": "-Q485TIOETY4",
        "colab_type": "text"
      },
      "cell_type": "markdown",
      "source": [
        "In the past years, many quality datasets have been made available online :\n",
        "\n",
        "https://en.wikipedia.org/wiki/List_of_datasets_for_machine_learning_research\n",
        "\n",
        "https://www.analyticsvidhya.com/blog/2018/03/comprehensive-collection-deep-learning-datasets/\n",
        "\n",
        "https://www.kaggle.com/datasets\n",
        "\n",
        "\n"
      ]
    },
    {
      "metadata": {
        "id": "g5EQruLqU6Ep",
        "colab_type": "text"
      },
      "cell_type": "markdown",
      "source": [
        "In this workshop, we will be using the Ames Housing Dataset from Kaggle:\n",
        "\n",
        "https://www.kaggle.com/c/house-prices-advanced-regression-techniques/data"
      ]
    },
    {
      "metadata": {
        "id": "aOBmW0p8-2u7",
        "colab_type": "text"
      },
      "cell_type": "markdown",
      "source": [
        "### The Housing Dataset\n",
        "  \n",
        "\n",
        "<img src=\"https://kaggle2.blob.core.windows.net/competitions/kaggle/5407/media/housesbanner.png\"></img>\n",
        "\n",
        "\n",
        "\n"
      ]
    },
    {
      "metadata": {
        "id": "DYzTG1Qm_pUw",
        "colab_type": "text"
      },
      "cell_type": "markdown",
      "source": [
        "#### Variables\n"
      ]
    },
    {
      "metadata": {
        "id": "5_xRNfnFBXz2",
        "colab_type": "text"
      },
      "cell_type": "markdown",
      "source": [
        "The variables are :\n",
        "* SalePrice - the property's sale price in dollars. This is the target variable that you're trying to predict.\n",
        "* MSSubClass: The building class\n",
        "* MSZoning: The general zoning classification\n",
        "* LotFrontage: Linear feet of street connected to property\n",
        "* LotArea: Lot size in square feet\n",
        "* Street: Type of road access\n",
        "* Alley: Type of alley access\n",
        "* LotShape: General shape of property\n",
        "* LandContour: Flatness of the property\n",
        "* Utilities: Type of utilities available\n",
        "* LotConfig: Lot configuration\n",
        "* LandSlope: Slope of property\n",
        "* Neighborhood: Physical locations within Ames city limits\n",
        "* Condition1: Proximity to main road or railroad\n",
        "* Condition2: Proximity to main road or railroad (if a second is present)\n",
        "* BldgType: Type of dwelling\n",
        "* HouseStyle: Style of dwelling\n",
        "* OverallQual: Overall material and finish quality\n",
        "* OverallCond: Overall condition rating\n",
        "* YearBuilt: Original construction date\n",
        "* YearRemodAdd: Remodel date\n",
        "* RoofStyle: Type of roof\n",
        "* RoofMatl: Roof material\n",
        "* Exterior1st: Exterior covering on house\n",
        "* Exterior2nd: Exterior covering on house (if more than one material)\n",
        "* MasVnrType: Masonry veneer type\n",
        "* MasVnrArea: Masonry veneer area in square feet\n",
        "* ExterQual: Exterior material quality\n",
        "* ExterCond: Present condition of the material on the exterior\n",
        "* Foundation: Type of foundation\n",
        "* BsmtQual: Height of the basement\n",
        "* BsmtCond: General condition of the basement\n",
        "* BsmtExposure: Walkout or garden level basement walls\n",
        "* BsmtFinType1: Quality of basement finished area\n",
        "* BsmtFinSF1: Type 1 finished square feet\n",
        "* BsmtFinType2: Quality of second finished area (if present)\n",
        "* BsmtFinSF2: Type 2 finished square feet\n",
        "* BsmtUnfSF: Unfinished square feet of basement area\n",
        "* TotalBsmtSF: Total square feet of basement area\n",
        "* Heating: Type of heating\n",
        "* HeatingQC: Heating quality and condition\n",
        "* CentralAir: Central air conditioning\n",
        "* Electrical: Electrical system\n",
        "* 1stFlrSF: First Floor square feet\n",
        "* 2ndFlrSF: Second floor square feet\n",
        "*  LowQualFinSF: Low quality finished square feet (all floors)\n",
        "* GrLivArea: Above grade (ground) living area square feet\n",
        "* BsmtFullBath: Basement full bathrooms\n",
        "* BsmtHalfBath: Basement half bathrooms\n",
        "* FullBath: Full bathrooms above grade\n",
        "* HalfBath: Half baths above grade\n",
        "* Bedroom: Number of bedrooms above basement level\n",
        "* Kitchen: Number of kitchens\n",
        "* KitchenQual: Kitchen quality\n",
        "* TotRmsAbvGrd: Total rooms above grade (does not include bathrooms)\n",
        "* Functional: Home functionality rating\n",
        "* Fireplaces: Number of fireplaces\n",
        "* FireplaceQu: Fireplace quality\n",
        "* GarageType: Garage location\n",
        "* GarageYrBlt: Year garage was built\n",
        "* GarageFinish: Interior finish of the garage\n",
        "* GarageCars: Size of garage in car capacity\n",
        "* GarageArea: Size of garage in square feet\n",
        "* GarageQual: Garage quality\n",
        "* GarageCond: Garage condition\n",
        "* PavedDrive: Paved driveway\n",
        "* WoodDeckSF: Wood deck area in square feet\n",
        "* OpenPorchSF: Open porch area in square feet\n",
        "* EnclosedPorch: Enclosed porch area in square feet\n",
        "* 3SsnPorch: Three season porch area in square feet\n",
        "* ScreenPorch: Screen porch area in square feet\n",
        "* PoolArea: Pool area in square feet\n",
        "* PoolQC: Pool quality\n",
        "* Fence: Fence quality\n",
        "* MiscFeature: Miscellaneous feature not covered in other categories\n",
        "* MiscVal: $Value of miscellaneous feature\n",
        "* MoSold: Month Sold\n",
        "* YrSold: Year Sold\n",
        "* SaleType: Type of sale\n",
        "* SaleCondition: Condition of sale"
      ]
    },
    {
      "metadata": {
        "id": "e-sPjwjj04VS",
        "colab_type": "text"
      },
      "cell_type": "markdown",
      "source": [
        "## Importing the dataset"
      ]
    },
    {
      "metadata": {
        "id": "YM8xov3Km_BC",
        "colab_type": "code",
        "colab": {}
      },
      "cell_type": "code",
      "source": [
        "if not os.path.exists('Workshop1JupyterNote'):\n",
        "  ! git clone https://github.com/olibel270/Workshop1JupyterNote.git --quiet\n",
        "\n",
        "%cd Workshop1JupyterNote\n",
        "!git checkout master --quiet\n",
        "\n",
        "from subprocess import check_output\n",
        "\n",
        "print(\"Checking whether the dataset import properly:\")\n",
        "print(check_output([\"ls\", \"./dataset\"]).decode(\"utf8\")) #check the files available in the directory"
      ],
      "execution_count": 0,
      "outputs": []
    },
    {
      "metadata": {
        "id": "LIbVTmTVFYLD",
        "colab_type": "text"
      },
      "cell_type": "markdown",
      "source": [
        "## Challenges of the dataset"
      ]
    },
    {
      "metadata": {
        "colab_type": "text",
        "id": "ANRrGYLu2Je8"
      },
      "cell_type": "markdown",
      "source": [
        "1- Attributes are numeric and categorical so you have to figure out how to load and handle data.\n",
        "\n",
        "2- It is a Regression problem, allowing you to practice with easier types of supervised learning algorithm."
      ]
    },
    {
      "metadata": {
        "id": "ySk0sGM9AxLi",
        "colab_type": "text"
      },
      "cell_type": "markdown",
      "source": [
        "## Representing Data"
      ]
    },
    {
      "metadata": {
        "id": "MOvmikuVJ4Ta",
        "colab_type": "text"
      },
      "cell_type": "markdown",
      "source": [
        "Numpy"
      ]
    },
    {
      "metadata": {
        "id": "vM2ab8sVJc7t",
        "colab_type": "code",
        "colab": {}
      },
      "cell_type": "code",
      "source": [
        "training_set = open('dataset/train.csv')\n",
        "csv_training_set = csv.DictReader(training_set)"
      ],
      "execution_count": 0,
      "outputs": []
    },
    {
      "metadata": {
        "id": "bnVkoq61J3yp",
        "colab_type": "text"
      },
      "cell_type": "markdown",
      "source": [
        "Pandas"
      ]
    },
    {
      "metadata": {
        "_uuid": "9269ae851b744856bce56840637030a16a5877e1",
        "id": "Pt0a4V4j-A4y",
        "colab_type": "code",
        "colab": {}
      },
      "cell_type": "code",
      "source": [
        "train = pd.read_csv('dataset/train.csv')\n",
        "test= pd.read_csv('dataset/test.csv')"
      ],
      "execution_count": 0,
      "outputs": []
    },
    {
      "metadata": {
        "id": "8zIT9F0mGZJ8",
        "colab_type": "text"
      },
      "cell_type": "markdown",
      "source": [
        "## Exploring the Dataset"
      ]
    },
    {
      "metadata": {
        "_uuid": "581b90e6a869c3793472c7edd59091d6d6342fb2",
        "id": "SJR7Qakp-A59",
        "colab_type": "text"
      },
      "cell_type": "markdown",
      "source": [
        "**Googling for Pandas documentation or anything else, can you:**\n",
        "\n",
        "- Find the dimensions of the training dataset.\n",
        "\n",
        "- Show info on the training set.\n",
        "\n",
        "- Print the features of the first 5 houses in the dataset\n",
        "\n",
        "- Do the same for the last 10\n",
        "\n",
        "- Show a statistical summary of all attributes.\n",
        "\n",
        "- Show the columns of the training set (the name of the features)\n",
        "\n",
        "- What does train.describe() do?\n",
        "\n",
        "\n",
        "**Slighltly more advanced:**\n",
        "- Show how many houses have the value 0 assigned to specific features\n",
        "\n",
        "- Rearrange/group the information in the training set by sale type\n",
        "\n",
        "\n",
        "**More advanced:**\n",
        "- Display the houses in the training set with a sale price greater than 700 000$\n",
        "\n",
        "\n",
        "**Pandas Cheat Sheet: **\n",
        "*https://s3.amazonaws.com/assets.datacamp.com/blog_assets/PandasPythonForDataScience.pdf*"
      ]
    },
    {
      "metadata": {
        "id": "E3TED9l_ZPb_",
        "colab_type": "text"
      },
      "cell_type": "markdown",
      "source": [
        "**Example**\n",
        "\n",
        "Showing a random sample of 5 houses:"
      ]
    },
    {
      "metadata": {
        "_uuid": "09eb18d1fcf4a2b73ba2f5ddce99dfa521681140",
        "id": "Qt5ca7fJ-A71",
        "colab_type": "code",
        "colab": {}
      },
      "cell_type": "code",
      "source": [
        "train.sample(5) "
      ],
      "execution_count": 0,
      "outputs": []
    },
    {
      "metadata": {
        "id": "7dE3HjSzAsFD",
        "colab_type": "text"
      },
      "cell_type": "markdown",
      "source": [
        "## Visualizing Data\n"
      ]
    },
    {
      "metadata": {
        "id": "rGYFlFN1F_mr",
        "colab_type": "text"
      },
      "cell_type": "markdown",
      "source": [
        "### Scatter plot"
      ]
    },
    {
      "metadata": {
        "_uuid": "b0014a7a52e714996bc443981c853095926d20e5",
        "id": "OUH5ER5k-A-P",
        "colab_type": "text"
      },
      "cell_type": "markdown",
      "source": [
        "Purpose:  To identify the type of relationship (if any) between two quantitative variables.\n",
        "\n",
        "\n"
      ]
    },
    {
      "metadata": {
        "_uuid": "af099546eed64ebc796403d4139cb4c977c27b03",
        "id": "Kdtqj1u1-A-S",
        "colab_type": "code",
        "colab": {}
      },
      "cell_type": "code",
      "source": [
        "columns = ['SalePrice','OverallQual']\n",
        "sns.FacetGrid(train[columns], size=5).map(plt.scatter, \"OverallQual\", \"SalePrice\")\n",
        "plt.show()"
      ],
      "execution_count": 0,
      "outputs": []
    },
    {
      "metadata": {
        "_uuid": "af099546eed64ebc796403d4139cb4c977c27b03",
        "colab_type": "code",
        "id": "IE-QIzcRDdWK",
        "colab": {}
      },
      "cell_type": "code",
      "source": [
        "columns = ['SalePrice','1stFlrSF']\n",
        "sns.FacetGrid(train[columns], size=5).map(plt.scatter, \"1stFlrSF\", \"SalePrice\")\n",
        "plt.show()"
      ],
      "execution_count": 0,
      "outputs": []
    },
    {
      "metadata": {
        "id": "pHNVnwYVGEPd",
        "colab_type": "text"
      },
      "cell_type": "markdown",
      "source": [
        "### Multivariate Plots"
      ]
    },
    {
      "metadata": {
        "_uuid": "3bbff56707484f88625eb8ef309b712ba03f939e",
        "id": "iJZMJqIV-A_l",
        "colab_type": "text"
      },
      "cell_type": "markdown",
      "source": [
        "Now we can look at the interactions between the variables.\n",
        "\n",
        "Let’s look at scatterplots of all pairs of attributes. This can be helpful to spot structured relationships between input variables."
      ]
    },
    {
      "metadata": {
        "_uuid": "eb4e5d117e4ef40d7668632f42130206a5537bd0",
        "id": "MLItpdBF-A_n",
        "colab_type": "code",
        "colab": {}
      },
      "cell_type": "code",
      "source": [
        "columns = ['SalePrice','OverallQual','TotalBsmtSF','GrLivArea','GarageArea','FullBath','YearBuilt','YearRemodAdd']\n",
        "pd.plotting.scatter_matrix(train[columns],figsize=(12,12))\n",
        "plt.figure()"
      ],
      "execution_count": 0,
      "outputs": []
    },
    {
      "metadata": {
        "_uuid": "8e73333289d17dd648b7b2112d7fe3fe7ea444d0",
        "id": "F1poPKde-BBC",
        "colab_type": "text"
      },
      "cell_type": "markdown",
      "source": [
        "### Heatmap"
      ]
    },
    {
      "metadata": {
        "_uuid": "e798f483a3a92e37830225d644a9656e34dcd5d6",
        "id": "j098VPV--BGv",
        "colab_type": "code",
        "colab": {}
      },
      "cell_type": "code",
      "source": [
        "# Adding total sqfootage feature \n",
        "train['TotalSF'] = train['TotalBsmtSF'] + train['1stFlrSF'] + train['2ndFlrSF']"
      ],
      "execution_count": 0,
      "outputs": []
    },
    {
      "metadata": {
        "_uuid": "3100955ca9dc61ac7d435e9c064d10d06f26afa7",
        "id": "7JnH5_Ax-BBN",
        "colab_type": "code",
        "colab": {}
      },
      "cell_type": "code",
      "source": [
        "plt.figure(figsize=(7,4)) \n",
        "columns = ['SalePrice','OverallQual','TotalBsmtSF','GrLivArea','GarageArea','FullBath','YearBuilt','YearRemodAdd', 'TotalSF']\n",
        "sns.heatmap(train[columns].corr(),annot=True)\n",
        "plt.show()"
      ],
      "execution_count": 0,
      "outputs": []
    },
    {
      "metadata": {
        "id": "EEhbIny9GNN1",
        "colab_type": "text"
      },
      "cell_type": "markdown",
      "source": [
        "### Histogram"
      ]
    },
    {
      "metadata": {
        "_uuid": "743a92c3c2fff1a1f99845518247f7971ad18b7c",
        "id": "7C_TgddY-A_V",
        "colab_type": "text"
      },
      "cell_type": "markdown",
      "source": [
        "We can also create a **histogram** of each input variable to get an idea of the distribution.\n",
        "\n"
      ]
    },
    {
      "metadata": {
        "_uuid": "5da0520ed3e738ee8814b2d91843ed4acec2b6e6",
        "id": "yxhFZjKW-A_Z",
        "colab_type": "code",
        "colab": {}
      },
      "cell_type": "code",
      "source": [
        "# histograms\n",
        "train.hist(figsize=(15,20))\n",
        "plt.figure()"
      ],
      "execution_count": 0,
      "outputs": []
    },
    {
      "metadata": {
        "id": "Mmvca3PCsTA0",
        "colab_type": "text"
      },
      "cell_type": "markdown",
      "source": [
        "### Scraping the Data (Optional for the workshop)\n",
        "\n",
        "- Removing ID\n",
        "- Imputing missing/NA values (selection: 0, None, mean, median, ML, what makes sense....)\n",
        "- Transform some numerical values that are really categorical (MSSubClass, OverallCond, YrSold, MonthSold)\n",
        "- LabelEncoding\n",
        "- Adding TotalSF (done in workshop)"
      ]
    },
    {
      "metadata": {
        "id": "GExdX60s0E_X",
        "colab_type": "text"
      },
      "cell_type": "markdown",
      "source": [
        "# Linear Regression : One Variable"
      ]
    },
    {
      "metadata": {
        "id": "pOGDjgHhEA-G",
        "colab_type": "text"
      },
      "cell_type": "markdown",
      "source": [
        "## Picking the target variable\n"
      ]
    },
    {
      "metadata": {
        "id": "iKnnRP9zOCs_",
        "colab_type": "code",
        "colab": {}
      },
      "cell_type": "code",
      "source": [
        "training_set = open('dataset/train.csv')\n",
        "csv_training_set = csv.DictReader(training_set)\n",
        "\n",
        "total_sf = []\n",
        "sale_price = []\n",
        "\n",
        "#There is a better way to combine the total square footage\n",
        "for row in csv_training_set:\n",
        "  temp_total_sf = 0\n",
        "  temp_total_sf += float(row['TotalBsmtSF'])\n",
        "  temp_total_sf += float(row['1stFlrSF'])\n",
        "  temp_total_sf += float(row['2ndFlrSF'])\n",
        "  total_sf.append(temp_total_sf)\n",
        "  sale_price.append(row['SalePrice'])\n",
        "\n",
        "total_sf = np.array(total_sf, dtype='float64')\n",
        "sale_price = np.array(sale_price, dtype='float64')\n",
        "print('total square footage array:', total_sf)\n",
        "print('sale price array:', sale_price)"
      ],
      "execution_count": 0,
      "outputs": []
    },
    {
      "metadata": {
        "_uuid": "1c92b300076a232321c915857d8a7c5685a97865",
        "id": "zEDyrD3i-BCK",
        "colab_type": "code",
        "colab": {}
      },
      "cell_type": "code",
      "source": [
        "fig, ax = plt.subplots()\n",
        "ax.scatter(x = total_sf, y = sale_price)\n",
        "plt.ylabel('SalePrice', fontsize=13)\n",
        "plt.xlabel('Total SF', fontsize=13)\n",
        "plt.show()"
      ],
      "execution_count": 0,
      "outputs": []
    },
    {
      "metadata": {
        "_uuid": "1756ad43f10e017c7d3af76f640b8c948a65fe02",
        "id": "aHfk6PXE-BCI",
        "colab_type": "text"
      },
      "cell_type": "markdown",
      "source": [
        "## Noise filtering"
      ]
    },
    {
      "metadata": {
        "_uuid": "9269ae851b744856bce56840637030a16a5877e1",
        "colab_type": "code",
        "id": "k1UId9duVWLV",
        "colab": {}
      },
      "cell_type": "code",
      "source": [
        "train = pd.read_csv('dataset/train.csv')\n",
        "test= pd.read_csv('dataset/test.csv')"
      ],
      "execution_count": 0,
      "outputs": []
    },
    {
      "metadata": {
        "_uuid": "e798f483a3a92e37830225d644a9656e34dcd5d6",
        "colab_type": "code",
        "id": "oJ214YQaVnMP",
        "colab": {}
      },
      "cell_type": "code",
      "source": [
        "# Adding total sqfootage feature \n",
        "train['TotalSF'] = train['TotalBsmtSF'] + train['1stFlrSF'] + train['2ndFlrSF']"
      ],
      "execution_count": 0,
      "outputs": []
    },
    {
      "metadata": {
        "_uuid": "def67c793d2e365f07e90b190ae8211c0afd886c",
        "id": "lnMKp2b7-BCa",
        "colab_type": "code",
        "colab": {}
      },
      "cell_type": "code",
      "source": [
        "\n",
        "#Deleting outliers\n",
        "train = train.drop(train[(train['TotalSF']>7000) & (train['SalePrice']<300000)].index)\n",
        "\n",
        "#Check the graphic again\n",
        "fig, ax = plt.subplots()\n",
        "ax.scatter(train['TotalSF'], train['SalePrice'])\n",
        "plt.ylabel('SalePrice', fontsize=13)\n",
        "plt.xlabel('TotalSF', fontsize=13)\n",
        "plt.show()"
      ],
      "execution_count": 0,
      "outputs": []
    },
    {
      "metadata": {
        "id": "Aijy_NYPNU2d",
        "colab_type": "text"
      },
      "cell_type": "markdown",
      "source": [
        "## The Cost Function"
      ]
    },
    {
      "metadata": {
        "id": "aRiNl-l9e-PY",
        "colab_type": "text"
      },
      "cell_type": "markdown",
      "source": [
        "$$ cost(\\theta) = \\frac{1}{2n} (\\theta^T \\tilde{X} - y)^2$$\n",
        "\n",
        "$ n $ - Number of datapoints in the dataset\n",
        "\n",
        "$ \\theta $ - Vector of parameters $ [\\theta_0,  \\theta_1, ... \\theta_n] $ in general \n",
        "\n",
        "$ \\tilde{X}$ - Data matrix $X$ augmented with column of 1's to account for bias parameter $\\theta_0$ \n",
        "\n",
        "$ y $ - Target vector "
      ]
    },
    {
      "metadata": {
        "id": "YitVDnZaNQgy",
        "colab_type": "code",
        "colab": {}
      },
      "cell_type": "code",
      "source": [
        "$ [\\theta_0,  \\theta_1, ... \\theta_n] $def computeCost(X,theta,y):\n",
        "    predicted = np.dot(theta, X)\n",
        "    cost = np.sum(np.square(predicted - y))\n",
        "    cost /= (2 * len(y))\n",
        "    return cost\n"
      ],
      "execution_count": 0,
      "outputs": []
    },
    {
      "metadata": {
        "id": "goM87kLaNbe5",
        "colab_type": "text"
      },
      "cell_type": "markdown",
      "source": [
        "## Gradient Descent\n",
        "\n"
      ]
    },
    {
      "metadata": {
        "id": "5JCYJC4VUKSM",
        "colab_type": "text"
      },
      "cell_type": "markdown",
      "source": [
        "### The Algorithm"
      ]
    },
    {
      "metadata": {
        "id": "bNuJ3dImNo2e",
        "colab_type": "code",
        "colab": {}
      },
      "cell_type": "code",
      "source": [
        "def gradient_descent(X, y, theta, alpha, num_iters):\n",
        "    # Performs gradient descent to learn theta\n",
        "    # updates theta by taking 'num_iters' gradient steps with learning rate 'alpha'\n",
        "\n",
        "    # initialize some useful values\n",
        "    m = len(y)  # number of training examples\n",
        "    cost_history = np.zeros(num_iters)\n",
        "\n",
        "    for iter in range(num_iters):\n",
        "        temp = np.sum((np.dot(theta, X) - y)*X, axis=1)\n",
        "\n",
        "        theta = theta - (alpha / m) * temp\n",
        "\n",
        "        cost_history[iter] = computeCost(X, theta, y)\n",
        "        \n",
        "    # The following steps are not part of the algorithm, but help keep track of the performance of the algorithm.\n",
        "    ## Feel free to ignore them for your comprehension\n",
        "    print('cost_history:', '\\n', cost_history)\n",
        "    step = [cost_history[idx+1]-cost for idx, cost in enumerate(cost_history) if idx<num_iters-1]\n",
        "    step = np.array(step)\n",
        "    print(step)\n",
        "    print('final theta:', theta)\n",
        "    \n",
        "    x = np.linspace(0, num_iters-2, num_iters-1)\n",
        "    y = np.abs(step)\n",
        "    print(x)\n",
        "    print('steps:', y)\n",
        "    plt.plot(x, y)\n",
        "    plt.xlabel(\"# iterations\")\n",
        "    plt.ylabel(\"error cost\")\n",
        "    plt.show()\n",
        "    \n",
        "    return theta"
      ],
      "execution_count": 0,
      "outputs": []
    },
    {
      "metadata": {
        "id": "LaAJJGUqUEma",
        "colab_type": "text"
      },
      "cell_type": "markdown",
      "source": [
        "### Implementation"
      ]
    },
    {
      "metadata": {
        "id": "sPVbM4qQUDF1",
        "colab_type": "code",
        "colab": {}
      },
      "cell_type": "code",
      "source": [
        "#Gradient Descent\n",
        "#Some gradient descent settings\n",
        "iterations = 10\n",
        "alpha = 0.0000002\n",
        "\n",
        "theta = np.zeros(2)\n",
        "print('theta array:', theta)\n",
        "\n",
        "\n",
        "# initial cost\n",
        "# first row of X = ones\n",
        "num_training_ex = len(sale_price)\n",
        "print(num_training_ex)\n",
        "X = np.vstack((np.ones(num_training_ex),total_sf))\n",
        "print('first floor square footage array(ones inserted):''\\n', X)\n",
        "\n",
        "initial_cost = computeCost(X, theta, sale_price)\n",
        "print('initial cost:', initial_cost)\n",
        "\n",
        "\n",
        "# run gradient descent\n",
        "theta = gradient_descent(X, sale_price, theta, alpha, iterations)\n"
      ],
      "execution_count": 0,
      "outputs": []
    },
    {
      "metadata": {
        "id": "L_IJmBAMXw36",
        "colab_type": "text"
      },
      "cell_type": "markdown",
      "source": [
        "**Plotting Performance**"
      ]
    },
    {
      "metadata": {
        "id": "nsh1f8JBeWOW",
        "colab_type": "text"
      },
      "cell_type": "markdown",
      "source": [
        "### Scikit-learn implementation"
      ]
    },
    {
      "metadata": {
        "id": "y6sz4z_-xFDd",
        "colab_type": "code",
        "colab": {}
      },
      "cell_type": "code",
      "source": [
        "from sklearn import linear_model\n",
        "import matplotlib.pyplot as plt\n",
        "\n",
        "model = linear_model.LinearRegression()\n",
        "\n",
        "train = train[train['LotArea'] < 30000]\n",
        "test = test[test['LotArea'] < 30000]\n",
        "\n",
        "X_train = train['LotArea']\n",
        "X_train = X_train.values.reshape(-1, 1)\n",
        "\n",
        "Y_train = train['SalePrice']\n",
        "Y_train = Y_train.values.reshape(-1, 1)\n",
        "\n",
        "X_test = test['LotArea']\n",
        "X_test = X_test.values.reshape(-1, 1)\n",
        "\n",
        "model.fit(X_train, Y_train)\n",
        "pred = model.predict(X_test)\n",
        "\n",
        "plt.scatter(X_train, Y_train, color='red')\n",
        "plt.plot(X_test, pred, color='blue')"
      ],
      "execution_count": 0,
      "outputs": []
    },
    {
      "metadata": {
        "_uuid": "183141b0c586eaf07701807196a48f792e10e374",
        "id": "uDfQPHfZ-BCs",
        "colab_type": "text"
      },
      "cell_type": "markdown",
      "source": [
        "## Normalizing the sale price (Extra Material)\n",
        "SalePrice is the variable we need to predict. So let's do some analysis on this variable first."
      ]
    },
    {
      "metadata": {
        "_uuid": "8e9795273f50c45e5e582bf8af30facfb9087b8f",
        "id": "ZYTRQuX9-BCw",
        "colab_type": "code",
        "colab": {}
      },
      "cell_type": "code",
      "source": [
        "sns.distplot(train['SalePrice'] , fit=norm);\n",
        "\n",
        "# Get the fitted parameters used by the function\n",
        "(mu, sigma) = norm.fit(train['SalePrice'])\n",
        "print( '\\n mu = {:.2f} and sigma = {:.2f}\\n'.format(mu, sigma))\n",
        "\n",
        "#Now plot the distribution\n",
        "plt.legend(['Normal dist. ($\\mu=$ {:.2f} and $\\sigma=$ {:.2f} )'.format(mu, sigma)],\n",
        "            loc='best')\n",
        "plt.ylabel('Frequency')\n",
        "plt.title('SalePrice distribution')\n",
        "\n",
        "#Get also the QQ-plot\n",
        "fig = plt.figure()\n",
        "res = stats.probplot(train['SalePrice'], plot=plt)\n",
        "plt.show()"
      ],
      "execution_count": 0,
      "outputs": []
    },
    {
      "metadata": {
        "_uuid": "1440b564cfa5fdd2059d684af5b1b1711658d929",
        "id": "1liNVsRK-BC7",
        "colab_type": "text"
      },
      "cell_type": "markdown",
      "source": [
        "The target variable is right skewed. **As linear models love normally distributed data** , we need to transform this variable and make it more normally distributed.\n"
      ]
    },
    {
      "metadata": {
        "_uuid": "ce6f0b8460a6ed6e0170885e25cb8a9c15199746",
        "id": "v3QPJRno-BC8",
        "colab_type": "text"
      },
      "cell_type": "markdown",
      "source": [
        "Log-transformation of the target variable"
      ]
    },
    {
      "metadata": {
        "_uuid": "e13d451c514c35bf24c6bbd634bf6162cd0bfbed",
        "id": "pVzBDySq-BC_",
        "colab_type": "code",
        "colab": {}
      },
      "cell_type": "code",
      "source": [
        "#We use the numpy fuction log1p which  applies log(1+x) to all elements of the column\n",
        "train[\"SalePrice\"] = np.log1p(train[\"SalePrice\"])\n",
        "\n",
        "#Check the new distribution \n",
        "sns.distplot(train['SalePrice'] , fit=norm);\n",
        "\n",
        "# Get the fitted parameters used by the function\n",
        "(mu, sigma) = norm.fit(train['SalePrice'])\n",
        "print( '\\n mu = {:.2f} and sigma = {:.2f}\\n'.format(mu, sigma))\n",
        "\n",
        "#Now plot the distribution\n",
        "plt.legend(['Normal dist. ($\\mu=$ {:.2f} and $\\sigma=$ {:.2f} )'.format(mu, sigma)],\n",
        "            loc='best')\n",
        "plt.ylabel('Frequency')\n",
        "plt.title('SalePrice distribution')\n",
        "\n",
        "#Get also the QQ-plot\n",
        "fig = plt.figure()\n",
        "res = stats.probplot(train['SalePrice'], plot=plt)\n",
        "plt.show()"
      ],
      "execution_count": 0,
      "outputs": []
    },
    {
      "metadata": {
        "id": "YqMAnR-YhK6y",
        "colab_type": "text"
      },
      "cell_type": "markdown",
      "source": [
        "What happens if you use this new representation of the sale price in your model?"
      ]
    },
    {
      "metadata": {
        "id": "A4WRcpLTETSO",
        "colab_type": "text"
      },
      "cell_type": "markdown",
      "source": [
        "# Linear Regression : Multiple Variables"
      ]
    },
    {
      "metadata": {
        "id": "NzpPg4BwYCcq",
        "colab_type": "code",
        "colab": {}
      },
      "cell_type": "code",
      "source": [
        "training_set = open('dataset/train.csv')\n",
        "csv_training_set = csv.DictReader(training_set)\n",
        "\n",
        "feature_list = [\n",
        "  'OverallQual',\n",
        "  'YearBuilt',\n",
        "  'TotalBsmtSF',\n",
        "  '1stFlrSF',\n",
        "  '2ndFlrSF',\n",
        "  'FullBath'\n",
        "]\n",
        "\n",
        "nb_features = len(feature_list)\n",
        "feature_matrix = np.empty([nb_features,1])\n",
        "sale_price = []\n",
        "num_training_ex = 0\n",
        "\n",
        "for idx, row in enumerate(csv_training_set):\n",
        "    feature_column = []\n",
        "    for feature in feature_list:\n",
        "        #if row[feature] == 'NA':\n",
        "        #    row[feature] = 0\n",
        "        feature_column.append(row[feature])\n",
        "    feature_vector = np.array([feature_column], dtype='float64').T\n",
        "    if idx is 0:\n",
        "        feature_matrix = feature_vector\n",
        "    else:\n",
        "        feature_matrix = np.concatenate([feature_matrix, feature_vector], axis=1)\n",
        "    sale_price.append(row['SalePrice'])\n",
        "\n",
        "sale_price = np.array(sale_price, dtype='float64')\n",
        "print('Features Matrix:', '\\n', feature_matrix)\n",
        "print('Sale Price Array:', '\\n', sale_price)"
      ],
      "execution_count": 0,
      "outputs": []
    },
    {
      "metadata": {
        "id": "S6H2SkuwiOxV",
        "colab_type": "text"
      },
      "cell_type": "markdown",
      "source": [
        "## Feature Scaling"
      ]
    },
    {
      "metadata": {
        "id": "82SH_tUTZ9OU",
        "colab_type": "code",
        "colab": {}
      },
      "cell_type": "code",
      "source": [
        "for i, column in enumerate(feature_matrix):\n",
        "    max = np.max(column)\n",
        "    min = np.min(column)\n",
        "    spread = max - min\n",
        "    mean = np.mean(column)\n",
        "    # print('Column before Scaling:', column)\n",
        "\n",
        "    for j, content in enumerate(column):\n",
        "        column[j] = (content-mean)/spread\n",
        "    # print('Column after Scaling:', column)\n",
        "    feature_matrix[i] = column\n",
        "\n",
        "print('Feature Matrix After Scaling:', '\\n', feature_matrix)"
      ],
      "execution_count": 0,
      "outputs": []
    },
    {
      "metadata": {
        "id": "2hSkyituaJm-",
        "colab_type": "code",
        "colab": {}
      },
      "cell_type": "code",
      "source": [
        "#Gradient Descent\n",
        "#Some gradient descent settings\n",
        "iterations = 5000\n",
        "alpha = 1.5\n",
        "\n",
        "theta = np.zeros(nb_features+1)\n",
        "print('theta array:', theta)\n",
        "\n",
        "\n",
        "# initial cost\n",
        "# first row of X = ones\n",
        "num_training_ex = len(sale_price) \n",
        "X = np.vstack((np.ones(num_training_ex),feature_matrix))\n",
        "print('first floor square footage array(ones inserted):''\\n', X)\n",
        "\n",
        "current_cost = computeCost(X, theta, sale_price)\n",
        "print('initial cost:', current_cost)\n",
        "\n",
        "\n",
        "# run gradient descent\n",
        "theta = gradient_descent(X, sale_price, theta, alpha, iterations)"
      ],
      "execution_count": 0,
      "outputs": []
    },
    {
      "metadata": {
        "id": "33mWZ_4Dh00W",
        "colab_type": "text"
      },
      "cell_type": "markdown",
      "source": [
        "## Other scikit-learn implementation"
      ]
    },
    {
      "metadata": {
        "colab_type": "code",
        "id": "xdvnFZiOyxQm",
        "colab": {}
      },
      "cell_type": "code",
      "source": [
        "features = ['LotArea', 'BedroomAbvGr', 'KitchenAbvGr', 'TotRmsAbvGrd']\n",
        "\n",
        "X_train = train[features]\n",
        "X_test = test[features]\n",
        "\n",
        "Y_train = train['SalePrice']\n",
        "Y_train = Y_train.values.reshape(-1, 1)\n",
        "\n",
        "model.fit(X_train, Y_train)\n",
        "pred = model.predict(X_test)\n",
        "\n",
        "print(pred)"
      ],
      "execution_count": 0,
      "outputs": []
    },
    {
      "metadata": {
        "id": "7ISiPECAh8Be",
        "colab_type": "text"
      },
      "cell_type": "markdown",
      "source": [
        "Can you find variables or sets of features that help your model perform better?"
      ]
    },
    {
      "metadata": {
        "id": "qSyh614pEcjr",
        "colab_type": "text"
      },
      "cell_type": "markdown",
      "source": [
        "# Polynomial Regression\n",
        "\n"
      ]
    },
    {
      "metadata": {
        "id": "4iyC2GNdaMk3",
        "colab_type": "text"
      },
      "cell_type": "markdown",
      "source": [
        "Linear regression requires the relation between the dependent variable and the independent variable to be linear. \n",
        "\n",
        "* What if the distribution of the data was more complex ? \n",
        "* Can linear models be used to fit non-linear data? "
      ]
    },
    {
      "metadata": {
        "id": "JGitLDbraXgk",
        "colab_type": "text"
      },
      "cell_type": "markdown",
      "source": [
        "Let us generate some random dataset to understand the need for polynomial regression."
      ]
    },
    {
      "metadata": {
        "id": "dFuvdsKRn2iB",
        "colab_type": "code",
        "colab": {}
      },
      "cell_type": "code",
      "source": [
        "import numpy as np\n",
        "import matplotlib.pyplot as plt"
      ],
      "execution_count": 0,
      "outputs": []
    },
    {
      "metadata": {
        "id": "uRaMRAdiaryt",
        "colab_type": "code",
        "colab": {
          "base_uri": "https://localhost:8080/",
          "height": 265
        },
        "outputId": "f23b0e20-4965-422d-809f-97cccebcce00"
      },
      "cell_type": "code",
      "source": [
        "## Generating some random data\n",
        "\n",
        "np.random.seed(0)   # To generate the same randomness for every execution    \n",
        "\n",
        "x = np.random.uniform(-5,5,(20,1))\n",
        "y = np.sin(x) + 0.3*x - 1\n",
        "plt.scatter(x,y)\n",
        "plt.show()"
      ],
      "execution_count": 156,
      "outputs": [
        {
          "output_type": "display_data",
          "data": {
            "image/png": "[encoded data removed]",
            "text/plain": [
              "<matplotlib.figure.Figure at 0x7fdfc1df57b8>"
            ]
          },
          "metadata": {
            "tags": []
          }
        }
      ]
    },
    {
      "metadata": {
        "id": "X1ryukRLkpNx",
        "colab_type": "text"
      },
      "cell_type": "markdown",
      "source": [
        "Let us apply a linear regression model to this dataset."
      ]
    },
    {
      "metadata": {
        "id": "6q2-E8P7kEsq",
        "colab_type": "code",
        "colab": {
          "base_uri": "https://localhost:8080/",
          "height": 265
        },
        "outputId": "55dd03b6-e121-4269-f1dd-10b86898300a"
      },
      "cell_type": "code",
      "source": [
        "from sklearn.linear_model import LinearRegression\n",
        "\n",
        "model = LinearRegression()\n",
        "model.fit(x, y)\n",
        "y_pred = model.predict(x)\n",
        "\n",
        "plt.scatter(x, y)\n",
        "plt.plot(x, y_pred, color='r')\n",
        "plt.show()\n",
        "\n",
        "mse = mean_squared_error(y,y_pred)\n"
      ],
      "execution_count": 159,
      "outputs": [
        {
          "output_type": "display_data",
          "data": {
            "image/png": "[encoded data removed]",
            "text/plain": [
              "<matplotlib.figure.Figure at 0x7fdfc21e82e8>"
            ]
          },
          "metadata": {
            "tags": []
          }
        }
      ]
    },
    {
      "metadata": {
        "id": "tRkqpHVuk1mA",
        "colab_type": "text"
      },
      "cell_type": "markdown",
      "source": [
        "We can see that the straight line is unable to capture the patterns in the data. This is an example of **under-fitting**.\n",
        "\n",
        "**To overcome under-fitting, we need to increase the complexity of the model.**"
      ]
    },
    {
      "metadata": {
        "id": "sJeq5aKLlJ2m",
        "colab_type": "text"
      },
      "cell_type": "markdown",
      "source": [
        "To generate a higher order equation we can add powers of the original features as new features. \n",
        "\n",
        "\n",
        "The linear model,\n",
        "\n",
        "$$  y = \\theta_0 + \\theta_1 x $$\n",
        "\n",
        "\n",
        "can be transformed to\n",
        "\n",
        "$$  y = \\theta_0 +  \\theta_1 x  + \\theta_2 x^2 $$\n",
        "\n"
      ]
    },
    {
      "metadata": {
        "id": "PC0-nKJCmFHo",
        "colab_type": "text"
      },
      "cell_type": "markdown",
      "source": [
        "This is still considered to be **linear model** as the coefficients/weights associated with the features are still linear.\n",
        "\n",
        "$ x^2 $ is considered to be an additional feature. \n",
        "\n",
        "However the curve that we are fitting is quadratic in nature."
      ]
    },
    {
      "metadata": {
        "id": "8Cl_D36Wkr3k",
        "colab_type": "code",
        "colab": {}
      },
      "cell_type": "code",
      "source": [
        "import operator\n",
        "\n",
        "from sklearn.preprocessing import PolynomialFeatures\n",
        "\n",
        "\n",
        "def regress_polynomial(x,y,degree):\n",
        "\n",
        "  polynomial_features= PolynomialFeatures(degree=degree)\n",
        "  x_poly = polynomial_features.fit_transform(x)\n",
        "  \n",
        "  model = LinearRegression()\n",
        "  model.fit(x_poly, y)\n",
        "  \n",
        "  print(\"polynomial degree = \", degree)\n",
        "  \n",
        "  y_poly_pred = model.predict(x_poly)\n",
        "\n",
        "  plt.scatter(x, y)\n",
        "\n",
        "# sort the values of x before line plot\n",
        "  sort_axis = operator.itemgetter(0)\n",
        "  sorted_zip = sorted(zip(x,y_poly_pred), key=sort_axis)\n",
        "  x, y_poly_pred = zip(*sorted_zip)\n",
        "\n",
        "  plt.plot(x, y_poly_pred, color='r')\n",
        "  plt.show()\n",
        "\n",
        "  print(\"\\n\\n\")"
      ],
      "execution_count": 0,
      "outputs": []
    },
    {
      "metadata": {
        "id": "kJ7xcfDnrJ3c",
        "colab_type": "code",
        "colab": {
          "base_uri": "https://localhost:8080/",
          "height": 333
        },
        "outputId": "b575258b-3572-4f50-a58d-82053f0840b9"
      },
      "cell_type": "code",
      "source": [
        "regress_polynomial(x,y,2)"
      ],
      "execution_count": 161,
      "outputs": [
        {
          "output_type": "stream",
          "text": [
            "polynomial degree =  2\n"
          ],
          "name": "stdout"
        },
        {
          "output_type": "display_data",
          "data": {
            "image/png": "[encoded data removed]",
            "text/plain": [
              "<matplotlib.figure.Figure at 0x7fdfc7781c88>"
            ]
          },
          "metadata": {
            "tags": []
          }
        },
        {
          "output_type": "stream",
          "text": [
            "\n",
            "\n",
            "\n"
          ],
          "name": "stdout"
        }
      ]
    },
    {
      "metadata": {
        "id": "ZQjEYFy1rQj6",
        "colab_type": "code",
        "colab": {
          "base_uri": "https://localhost:8080/",
          "height": 333
        },
        "outputId": "6f489a73-79f1-4fee-f1a7-ad4e95b1b392"
      },
      "cell_type": "code",
      "source": [
        "regress_polynomial(x,y,9)"
      ],
      "execution_count": 162,
      "outputs": [
        {
          "output_type": "stream",
          "text": [
            "polynomial degree =  9\n"
          ],
          "name": "stdout"
        },
        {
          "output_type": "display_data",
          "data": {
            "image/png": "[encoded data removed]",
            "text/plain": [
              "<matplotlib.figure.Figure at 0x7fdfc20a95f8>"
            ]
          },
          "metadata": {
            "tags": []
          }
        },
        {
          "output_type": "stream",
          "text": [
            "\n",
            "\n",
            "\n"
          ],
          "name": "stdout"
        }
      ]
    },
    {
      "metadata": {
        "id": "kGt57nZEx14O",
        "colab_type": "code",
        "colab": {
          "base_uri": "https://localhost:8080/",
          "height": 2545
        },
        "outputId": "471225e2-b31a-434c-e9e9-9a2e5b66c99a"
      },
      "cell_type": "code",
      "source": [
        "for degree in np.arange(8):\n",
        "  regress_polynomial(x,y,degree)"
      ],
      "execution_count": 163,
      "outputs": [
        {
          "output_type": "stream",
          "text": [
            "polynomial degree =  0\n"
          ],
          "name": "stdout"
        },
        {
          "output_type": "display_data",
          "data": {
            "image/png": "[encoded data removed]",
            "text/plain": [
              "<matplotlib.figure.Figure at 0x7fdfc1da2780>"
            ]
          },
          "metadata": {
            "tags": []
          }
        },
        {
          "output_type": "stream",
          "text": [
            "\n",
            "\n",
            "\n",
            "polynomial degree =  1\n"
          ],
          "name": "stdout"
        },
        {
          "output_type": "display_data",
          "data": {
            "image/png": "[encoded data removed]",
            "text/plain": [
              "<matplotlib.figure.Figure at 0x7fdfc1e39a90>"
            ]
          },
          "metadata": {
            "tags": []
          }
        },
        {
          "output_type": "stream",
          "text": [
            "\n",
            "\n",
            "\n",
            "polynomial degree =  2\n"
          ],
          "name": "stdout"
        },
        {
          "output_type": "display_data",
          "data": {
            "image/png": "[encoded data removed]",
            "text/plain": [
              "<matplotlib.figure.Figure at 0x7fdfc20825c0>"
            ]
          },
          "metadata": {
            "tags": []
          }
        },
        {
          "output_type": "stream",
          "text": [
            "\n",
            "\n",
            "\n",
            "polynomial degree =  3\n"
          ],
          "name": "stdout"
        },
        {
          "output_type": "display_data",
          "data": {
            "image/png": "[encoded data removed]",
            "text/plain": [
              "<matplotlib.figure.Figure at 0x7fdfc2082550>"
            ]
          },
          "metadata": {
            "tags": []
          }
        },
        {
          "output_type": "stream",
          "text": [
            "\n",
            "\n",
            "\n",
            "polynomial degree =  4\n"
          ],
          "name": "stdout"
        },
        {
          "output_type": "display_data",
          "data": {
            "image/png": "[encoded data removed]",
            "text/plain": [
              "<matplotlib.figure.Figure at 0x7fdfc1fc8eb8>"
            ]
          },
          "metadata": {
            "tags": []
          }
        },
        {
          "output_type": "stream",
          "text": [
            "\n",
            "\n",
            "\n",
            "polynomial degree =  5\n"
          ],
          "name": "stdout"
        },
        {
          "output_type": "display_data",
          "data": {
            "image/png": "[encoded data removed]",
            "text/plain": [
              "<matplotlib.figure.Figure at 0x7fdfc212d518>"
            ]
          },
          "metadata": {
            "tags": []
          }
        },
        {
          "output_type": "stream",
          "text": [
            "\n",
            "\n",
            "\n",
            "polynomial degree =  6\n"
          ],
          "name": "stdout"
        },
        {
          "output_type": "display_data",
          "data": {
            "image/png": "[encoded data removed]",
            "text/plain": [
              "<matplotlib.figure.Figure at 0x7fdfc2199f60>"
            ]
          },
          "metadata": {
            "tags": []
          }
        },
        {
          "output_type": "stream",
          "text": [
            "\n",
            "\n",
            "\n",
            "polynomial degree =  7\n"
          ],
          "name": "stdout"
        },
        {
          "output_type": "display_data",
          "data": {
            "image/png": "[encoded data removed]",
            "text/plain": [
              "<matplotlib.figure.Figure at 0x7fdfc1da2c88>"
            ]
          },
          "metadata": {
            "tags": []
          }
        },
        {
          "output_type": "stream",
          "text": [
            "\n",
            "\n",
            "\n"
          ],
          "name": "stdout"
        }
      ]
    },
    {
      "metadata": {
        "id": "vvGnkL40Nrg8",
        "colab_type": "text"
      },
      "cell_type": "markdown",
      "source": [
        "### Underfitting and Overfitting\n",
        "\n",
        "![alt text](https://cdn-images-1.medium.com/max/1600/1*zOl_ztYqnzyWRkBffeOsRQ.png)"
      ]
    },
    {
      "metadata": {
        "id": "El79ajgNN5RG",
        "colab_type": "text"
      },
      "cell_type": "markdown",
      "source": [
        "* **Bias** refers to the error due to the model’s simplistic assumptions in fitting the data. \n",
        "A high bias means that the model is unable to capture the patterns in the data and this results in under-fitting.\n",
        "\n",
        "* **Variance** refers to the error due to the complex model trying to fit the data. \n",
        "High variance means the model passes through most of the data points and it results in over-fitting the data."
      ]
    },
    {
      "metadata": {
        "id": "EXBta5_4ODbK",
        "colab_type": "text"
      },
      "cell_type": "markdown",
      "source": [
        "### Bias - Variance Tradeoff\n",
        "\n",
        "![alt text](https://cdn-images-1.medium.com/max/1600/1*kADA5Q4al9DRLoXck6_6Xw.png)"
      ]
    },
    {
      "metadata": {
        "id": "rftT19XBOT7t",
        "colab_type": "text"
      },
      "cell_type": "markdown",
      "source": [
        "Ideally, a machine learning model should have **low variance and low bias**. \n",
        "But practically it’s impossible to have both. \n",
        "\n",
        "Therefore to achieve a good model that performs well both on the train and unseen data, a trade-off is made."
      ]
    },
    {
      "metadata": {
        "id": "3yNT-K79Ejjy",
        "colab_type": "text"
      },
      "cell_type": "markdown",
      "source": [
        "# Logistic Regression"
      ]
    },
    {
      "metadata": {
        "id": "wgbGx1xGPVrs",
        "colab_type": "text"
      },
      "cell_type": "markdown",
      "source": [
        "# Pytorch Introduction"
      ]
    },
    {
      "metadata": {
        "id": "dy9Dx3I5Zuui",
        "colab_type": "text"
      },
      "cell_type": "markdown",
      "source": [
        "## Set up"
      ]
    },
    {
      "metadata": {
        "id": "AhxOUKwh84fv",
        "colab_type": "code",
        "colab": {}
      },
      "cell_type": "code",
      "source": [
        "!pip install torch"
      ],
      "execution_count": 0,
      "outputs": []
    },
    {
      "metadata": {
        "id": "SdlNB5fNESUV",
        "colab_type": "code",
        "colab": {}
      },
      "cell_type": "code",
      "source": [
        "!apt-get install graphviz"
      ],
      "execution_count": 0,
      "outputs": []
    },
    {
      "metadata": {
        "id": "JuRDGcSmCrRH",
        "colab_type": "code",
        "colab": {}
      },
      "cell_type": "code",
      "source": [
        "!pip install git+https://github.com/szagoruyko/pytorchviz\n"
      ],
      "execution_count": 0,
      "outputs": []
    },
    {
      "metadata": {
        "id": "ZosMJjsDZ0lo",
        "colab_type": "text"
      },
      "cell_type": "markdown",
      "source": [
        "## Code"
      ]
    },
    {
      "metadata": {
        "id": "NbNQH_RX9xCs",
        "colab_type": "code",
        "colab": {}
      },
      "cell_type": "code",
      "source": [
        "#!/usr/bin/env python\n",
        "from __future__ import print_function\n",
        "from itertools import count\n",
        "\n",
        "import torch\n",
        "import torch.autograd\n",
        "import torch.nn.functional as F"
      ],
      "execution_count": 0,
      "outputs": []
    },
    {
      "metadata": {
        "id": "0Hy18GEd9x6e",
        "colab_type": "code",
        "colab": {}
      },
      "cell_type": "code",
      "source": [
        "POLY_DEGREE = 4\n",
        "W_target = torch.randn(POLY_DEGREE, 1) * 2\n",
        "b_target = torch.randn(1) * 2"
      ],
      "execution_count": 0,
      "outputs": []
    },
    {
      "metadata": {
        "id": "DUxgkvQgC9sM",
        "colab_type": "code",
        "colab": {}
      },
      "cell_type": "code",
      "source": [
        ""
      ],
      "execution_count": 0,
      "outputs": []
    },
    {
      "metadata": {
        "id": "xXd63NrK90Lm",
        "colab_type": "code",
        "colab": {}
      },
      "cell_type": "code",
      "source": [
        "def make_features(x):\n",
        "    \"\"\"Builds features i.e. a matrix with columns [x, x^2, x^3, x^4].\"\"\"\n",
        "    x = x.unsqueeze(1)\n",
        "    return torch.cat([x ** i for i in range(1, POLY_DEGREE+1)], 1)\n",
        "\n",
        "\n",
        "def f(x):\n",
        "    \"\"\"Approximated function.\"\"\"\n",
        "    return x.mm(W_target) + b_target.item()\n",
        "\n",
        "\n",
        "def poly_desc(W, b):\n",
        "    \"\"\"Creates a string description of a polynomial.\"\"\"\n",
        "    result = 'y = '\n",
        "    for i, w in enumerate(W):\n",
        "        result += '{:+.2f} x^{} '.format(w, len(W) - i)\n",
        "    result += '{:+.2f}'.format(b[0])\n",
        "    return result\n",
        "\n",
        "\n",
        "def get_batch(batch_size=32):\n",
        "    \"\"\"Builds a batch i.e. (x, f(x)) pair.\"\"\"\n",
        "    random = torch.randn(batch_size)\n",
        "    x = make_features(random)\n",
        "    y = f(x)\n",
        "    return x, y"
      ],
      "execution_count": 0,
      "outputs": []
    },
    {
      "metadata": {
        "id": "-ZkLdkQV-ELj",
        "colab_type": "code",
        "colab": {}
      },
      "cell_type": "code",
      "source": [
        "# Define model\n",
        "fc = torch.nn.Linear(W_target.size(0), 1)"
      ],
      "execution_count": 0,
      "outputs": []
    },
    {
      "metadata": {
        "id": "pV_nnD62-HAA",
        "colab_type": "code",
        "colab": {}
      },
      "cell_type": "code",
      "source": [
        "for batch_idx in count(1):\n",
        "    # Get data\n",
        "    batch_x, batch_y = get_batch()\n",
        "\n",
        "    # Reset gradients\n",
        "    fc.zero_grad()\n",
        "\n",
        "    # Forward pass\n",
        "    output = F.smooth_l1_loss(fc(batch_x), batch_y)\n",
        "    loss = output.item()\n",
        "\n",
        "    # Backward pass\n",
        "    output.backward()\n",
        "\n",
        "    # Apply gradients\n",
        "    for param in fc.parameters():\n",
        "        param.data.add_(-0.1 * param.grad.data)\n",
        "\n",
        "    # Stop criterion\n",
        "    if loss < 1e-3:\n",
        "        break"
      ],
      "execution_count": 0,
      "outputs": []
    },
    {
      "metadata": {
        "id": "cFfAFBF7-MEj",
        "colab_type": "code",
        "colab": {}
      },
      "cell_type": "code",
      "source": [
        "print('Loss: {:.6f} after {} batches'.format(loss, batch_idx))\n",
        "print('==> Learned function:\\t' + poly_desc(fc.weight.view(-1), fc.bias))\n",
        "print('==> Actual function:\\t' + poly_desc(W_target.view(-1), b_target))"
      ],
      "execution_count": 0,
      "outputs": []
    },
    {
      "metadata": {
        "id": "_j63BO1qZtbV",
        "colab_type": "text"
      },
      "cell_type": "markdown",
      "source": [
        "## Now let's look at the computation graph"
      ]
    },
    {
      "metadata": {
        "id": "mrHtQPVzBxIg",
        "colab_type": "code",
        "colab": {}
      },
      "cell_type": "code",
      "source": [
        "from graphviz import Digraph\n",
        "import torch\n",
        "from torch.autograd import Variable\n",
        "\n",
        "from torchviz import make_dot\n",
        "\n",
        "batch_x, batch_y = get_batch()\n",
        "output = F.smooth_l1_loss(fc(batch_x), batch_y)\n",
        "make_dot(output,params=dict(fc.named_parameters()))"
      ],
      "execution_count": 0,
      "outputs": []
    },
    {
      "metadata": {
        "id": "KydTXCWadfHv",
        "colab_type": "text"
      },
      "cell_type": "markdown",
      "source": [
        "# More Regression Algorithms (Extra Material)"
      ]
    },
    {
      "metadata": {
        "_uuid": "e3e85e82fe0cb48e92f5c28b416bc268f2308404",
        "id": "w72ECgkY-BHb",
        "colab_type": "code",
        "colab": {}
      },
      "cell_type": "code",
      "source": [
        "!pip install lightgbm\n",
        "from sklearn.linear_model import ElasticNet, Lasso,  BayesianRidge, LassoLarsIC\n",
        "from sklearn.ensemble import RandomForestRegressor,  GradientBoostingRegressor\n",
        "from sklearn.kernel_ridge import KernelRidge\n",
        "from sklearn.pipeline import make_pipeline\n",
        "from sklearn.preprocessing import RobustScaler\n",
        "from sklearn.base import BaseEstimator, TransformerMixin, RegressorMixin, clone\n",
        "from sklearn.model_selection import KFold, cross_val_score, train_test_split\n",
        "from sklearn.metrics import mean_squared_error\n",
        "import xgboost as xgb\n",
        "import lightgbm as lgb"
      ],
      "execution_count": 0,
      "outputs": []
    },
    {
      "metadata": {
        "id": "9Txc8Yarm4j_",
        "colab_type": "text"
      },
      "cell_type": "markdown",
      "source": [
        "## Operations on the data\n"
      ]
    },
    {
      "metadata": {
        "_uuid": "9269ae851b744856bce56840637030a16a5877e1",
        "colab_type": "code",
        "id": "JkAykwFroZI8",
        "colab": {}
      },
      "cell_type": "code",
      "source": [
        "train = pd.read_csv('dataset/train.csv')\n",
        "test= pd.read_csv('dataset/test.csv')"
      ],
      "execution_count": 0,
      "outputs": []
    },
    {
      "metadata": {
        "_uuid": "55651cdda3b812451c08875762b9708155f53ce2",
        "trusted": true,
        "id": "pJZtPFnyn0RA",
        "colab_type": "code",
        "colab": {}
      },
      "cell_type": "code",
      "source": [
        "numberic_features=train.select_dtypes(include=[np.number])\n",
        "categorical_features=train.select_dtypes(include=[np.object])"
      ],
      "execution_count": 0,
      "outputs": []
    },
    {
      "metadata": {
        "_uuid": "3487e242b0c6ef83c93730c1b8eab2e231fff269",
        "trusted": false,
        "id": "C_EbK3MCn0Sz",
        "colab_type": "code",
        "colab": {}
      },
      "cell_type": "code",
      "source": [
        "# Save Id and drop it\n",
        "train_ID=train['Id']\n",
        "test_ID=test['Id']\n",
        "train.drop('Id',axis=1,inplace=True)\n",
        "test.drop('Id',axis=1,inplace=True)"
      ],
      "execution_count": 0,
      "outputs": []
    },
    {
      "metadata": {
        "_uuid": "def67c793d2e365f07e90b190ae8211c0afd886c",
        "trusted": false,
        "id": "sTvmm9RAn0S_",
        "colab_type": "code",
        "colab": {}
      },
      "cell_type": "code",
      "source": [
        "#Deleting outliers\n",
        "train = train.drop(train[(train['GrLivArea']>4000) & (train['SalePrice']<300000)].index)"
      ],
      "execution_count": 0,
      "outputs": []
    },
    {
      "metadata": {
        "_uuid": "e13d451c514c35bf24c6bbd634bf6162cd0bfbed",
        "trusted": false,
        "id": "qQC9NcK2n0TF",
        "colab_type": "code",
        "colab": {}
      },
      "cell_type": "code",
      "source": [
        "#We use the numpy fuction log1p which  applies log(1+x) to all elements of the column\n",
        "train[\"SalePrice\"] = np.log1p(train[\"SalePrice\"])"
      ],
      "execution_count": 0,
      "outputs": []
    },
    {
      "metadata": {
        "_uuid": "5584b10a50a819f6e5eb684efa01e69536d6e910",
        "trusted": false,
        "id": "1cTekFthn0TI",
        "colab_type": "code",
        "colab": {}
      },
      "cell_type": "code",
      "source": [
        "ntrain = train.shape[0]\n",
        "ntest = test.shape[0]\n",
        "y_train = train.SalePrice.values\n",
        "all_data = pd.concat((train, test)).reset_index(drop=True)\n",
        "all_data.drop(['SalePrice'], axis=1, inplace=True)"
      ],
      "execution_count": 0,
      "outputs": []
    },
    {
      "metadata": {
        "_uuid": "4f37f9033ce20f8f60455419038b643e227f4eb7",
        "trusted": false,
        "id": "QG7zZWorn0TL",
        "colab_type": "code",
        "colab": {}
      },
      "cell_type": "code",
      "source": [
        "all_data_na = (all_data.isnull().sum() / len(all_data)) * 100\n",
        "all_data_na = all_data_na.drop(all_data_na[all_data_na == 0].index).sort_values(ascending=False)[:30]\n",
        "missing_data = pd.DataFrame({'Missing Ratio' :all_data_na})"
      ],
      "execution_count": 0,
      "outputs": []
    },
    {
      "metadata": {
        "_uuid": "cb7ae811b45fd5288639b3933a7cb76117d9e918",
        "trusted": false,
        "id": "WHsnDK9Hn0TU",
        "colab_type": "code",
        "colab": {}
      },
      "cell_type": "code",
      "source": [
        "all_data[\"PoolQC\"] = all_data[\"PoolQC\"].fillna(\"None\")"
      ],
      "execution_count": 0,
      "outputs": []
    },
    {
      "metadata": {
        "_uuid": "63c20b645a9b8885ed0421ab0fbe4f7e762c1e80",
        "trusted": false,
        "id": "-q3KADImn0TZ",
        "colab_type": "code",
        "colab": {}
      },
      "cell_type": "code",
      "source": [
        "all_data[\"MiscFeature\"] = all_data[\"MiscFeature\"].fillna(\"None\")"
      ],
      "execution_count": 0,
      "outputs": []
    },
    {
      "metadata": {
        "_uuid": "d513b815317dfa095ca32de6158fe34e3d8b630a",
        "trusted": false,
        "id": "HCLD2BEUn0Tc",
        "colab_type": "code",
        "colab": {}
      },
      "cell_type": "code",
      "source": [
        "all_data[\"Alley\"] = all_data[\"Alley\"].fillna(\"None\")"
      ],
      "execution_count": 0,
      "outputs": []
    },
    {
      "metadata": {
        "_uuid": "ca718d780d6523767d8721ffe2a5776f3318c21e",
        "trusted": false,
        "id": "DMDODy4an0Te",
        "colab_type": "code",
        "colab": {}
      },
      "cell_type": "code",
      "source": [
        "all_data[\"Fence\"] = all_data[\"Fence\"].fillna(\"None\")"
      ],
      "execution_count": 0,
      "outputs": []
    },
    {
      "metadata": {
        "_uuid": "043fd8463ce9e9ce9a204c36793cacb0bc9e7da7",
        "trusted": false,
        "id": "AqN21G5Tn0Th",
        "colab_type": "code",
        "colab": {}
      },
      "cell_type": "code",
      "source": [
        "#Group by neighborhood and fill in missing value by the median LotFrontage of all the neighborhood\n",
        "all_data[\"LotFrontage\"] = all_data.groupby(\"Neighborhood\")[\"LotFrontage\"].transform(\n",
        "    lambda x: x.fillna(x.median()))"
      ],
      "execution_count": 0,
      "outputs": []
    },
    {
      "metadata": {
        "_uuid": "9e891f0e9f74e1c73df4eb4b6998ca0145ef2cf4",
        "trusted": false,
        "id": "IcXO4ahpn0Tk",
        "colab_type": "code",
        "colab": {}
      },
      "cell_type": "code",
      "source": [
        "for col in ('GarageType', 'GarageFinish', 'GarageQual', 'GarageCond'):\n",
        "    all_data[col] = all_data[col].fillna('None')"
      ],
      "execution_count": 0,
      "outputs": []
    },
    {
      "metadata": {
        "_uuid": "2299992e24897468a34357457ced6e0a48ed4af9",
        "trusted": false,
        "id": "0iUTLuCqn0To",
        "colab_type": "code",
        "colab": {}
      },
      "cell_type": "code",
      "source": [
        "for col in ('GarageYrBlt', 'GarageArea', 'GarageCars'):\n",
        "    all_data[col] = all_data[col].fillna(0)"
      ],
      "execution_count": 0,
      "outputs": []
    },
    {
      "metadata": {
        "_uuid": "626a388694a294d0e4a7196c30b78bcdcd76049f",
        "trusted": false,
        "id": "SfNzNOSHn0Tr",
        "colab_type": "code",
        "colab": {}
      },
      "cell_type": "code",
      "source": [
        "for col in ('BsmtFinSF1', 'BsmtFinSF2', 'BsmtUnfSF','TotalBsmtSF', 'BsmtFullBath', 'BsmtHalfBath'):\n",
        "    all_data[col] = all_data[col].fillna(0)"
      ],
      "execution_count": 0,
      "outputs": []
    },
    {
      "metadata": {
        "_uuid": "3837452a0ff8a13fa9a586460de324990cde7681",
        "trusted": false,
        "id": "oVFes1Ken0Tw",
        "colab_type": "code",
        "colab": {}
      },
      "cell_type": "code",
      "source": [
        "for col in ('BsmtQual', 'BsmtCond', 'BsmtExposure', 'BsmtFinType1', 'BsmtFinType2'):\n",
        "    all_data[col] = all_data[col].fillna('None')"
      ],
      "execution_count": 0,
      "outputs": []
    },
    {
      "metadata": {
        "_uuid": "5943301908ccdbc320559eebe0fa039768f483b0",
        "trusted": false,
        "id": "2QlVVqHDn0T1",
        "colab_type": "code",
        "colab": {}
      },
      "cell_type": "code",
      "source": [
        "all_data[\"MasVnrType\"] = all_data[\"MasVnrType\"].fillna(\"None\")\n",
        "all_data[\"MasVnrArea\"] = all_data[\"MasVnrArea\"].fillna(0)"
      ],
      "execution_count": 0,
      "outputs": []
    },
    {
      "metadata": {
        "_uuid": "a3e9c2f67447bdc7bcff9cede08347e57ccd6fc8",
        "trusted": false,
        "id": "0QBI1Uren0T4",
        "colab_type": "code",
        "colab": {}
      },
      "cell_type": "code",
      "source": [
        "all_data['MSZoning'] = all_data['MSZoning'].fillna(all_data['MSZoning'].mode()[0])"
      ],
      "execution_count": 0,
      "outputs": []
    },
    {
      "metadata": {
        "_uuid": "27c02c0abbb923d886107d3c905b7445c6be002a",
        "trusted": false,
        "id": "3aj0mTJbn0T7",
        "colab_type": "code",
        "colab": {}
      },
      "cell_type": "code",
      "source": [
        "all_data[\"Functional\"] = all_data[\"Functional\"].fillna(\"Typ\")"
      ],
      "execution_count": 0,
      "outputs": []
    },
    {
      "metadata": {
        "_uuid": "c3c3270ff082eece4143bc770fc8e47f4d170868",
        "trusted": false,
        "id": "XQPCFKw4n0T9",
        "colab_type": "code",
        "colab": {}
      },
      "cell_type": "code",
      "source": [
        "all_data['Electrical'] = all_data['Electrical'].fillna(all_data['Electrical'].mode()[0])"
      ],
      "execution_count": 0,
      "outputs": []
    },
    {
      "metadata": {
        "_uuid": "b43419729c3a74bcfde64130805fbbd339d80ca0",
        "trusted": false,
        "id": "HRmZBsD2n0UB",
        "colab_type": "code",
        "colab": {}
      },
      "cell_type": "code",
      "source": [
        "all_data['KitchenQual'] = all_data['KitchenQual'].fillna(all_data['KitchenQual'].mode()[0])"
      ],
      "execution_count": 0,
      "outputs": []
    },
    {
      "metadata": {
        "_uuid": "7546dfbcafcc04f672654be1408eeb554882aef2",
        "trusted": false,
        "id": "sPKra9NHn0UD",
        "colab_type": "code",
        "colab": {}
      },
      "cell_type": "code",
      "source": [
        "\n",
        "all_data['Exterior1st'] = all_data['Exterior1st'].fillna(all_data['Exterior1st'].mode()[0])\n",
        "all_data['Exterior2nd'] = all_data['Exterior2nd'].fillna(all_data['Exterior2nd'].mode()[0])"
      ],
      "execution_count": 0,
      "outputs": []
    },
    {
      "metadata": {
        "_uuid": "60cb2511b84686d61d82a89b3915357eef08cafb",
        "trusted": false,
        "id": "Py4EtoAln0UG",
        "colab_type": "code",
        "colab": {}
      },
      "cell_type": "code",
      "source": [
        "all_data['SaleType'] = all_data['SaleType'].fillna(all_data['SaleType'].mode()[0])"
      ],
      "execution_count": 0,
      "outputs": []
    },
    {
      "metadata": {
        "_uuid": "91b32f390489a4bf3002d45a170437cadc0799b6",
        "trusted": false,
        "id": "31ivORqCn0UJ",
        "colab_type": "code",
        "colab": {}
      },
      "cell_type": "code",
      "source": [
        "all_data['MSSubClass'] = all_data['MSSubClass'].fillna(\"None\")"
      ],
      "execution_count": 0,
      "outputs": []
    },
    {
      "metadata": {
        "_uuid": "a641088283207c78240be69c4df50b3199bbc4ac",
        "trusted": false,
        "id": "3PJzAWn4n0UL",
        "colab_type": "code",
        "colab": {}
      },
      "cell_type": "code",
      "source": [
        "all_data[\"FireplaceQu\"] = all_data[\"FireplaceQu\"].fillna(\"None\")"
      ],
      "execution_count": 0,
      "outputs": []
    },
    {
      "metadata": {
        "_uuid": "58706fd1525df4334577d7e5c8e502dd745af232",
        "trusted": false,
        "id": "J6Pl4-can0UN",
        "colab_type": "code",
        "colab": {}
      },
      "cell_type": "code",
      "source": [
        "#Check remaining missing values if any \n",
        "all_data_na = (all_data.isnull().sum() / len(all_data)) * 100\n",
        "all_data_na = all_data_na.drop(all_data_na[all_data_na == 0].index).sort_values(ascending=False)\n",
        "missing_data = pd.DataFrame({'Missing Ratio' :all_data_na})"
      ],
      "execution_count": 0,
      "outputs": []
    },
    {
      "metadata": {
        "_uuid": "62cb0d2fdf9f7c43145549f95b50fd3a72645db9",
        "trusted": false,
        "id": "VGcGm03Vn0UQ",
        "colab_type": "code",
        "colab": {}
      },
      "cell_type": "code",
      "source": [
        "#MSSubClass=The building class\n",
        "all_data['MSSubClass'] = all_data['MSSubClass'].apply(str)\n",
        "\n",
        "\n",
        "#Changing OverallCond into a categorical variable\n",
        "all_data['OverallCond'] = all_data['OverallCond'].astype(str)\n",
        "\n",
        "\n",
        "#Year and month sold are transformed into categorical features.\n",
        "all_data['YrSold'] = all_data['YrSold'].astype(str)\n",
        "all_data['MoSold'] = all_data['MoSold'].astype(str)"
      ],
      "execution_count": 0,
      "outputs": []
    },
    {
      "metadata": {
        "_uuid": "76dfc757e71406abfe2a46c6f9b5d851833173c8",
        "trusted": false,
        "id": "rcoA8HuRn0US",
        "colab_type": "code",
        "colab": {}
      },
      "cell_type": "code",
      "source": [
        "from sklearn.preprocessing import LabelEncoder\n",
        "cols = ('FireplaceQu', 'BsmtQual', 'BsmtCond', 'GarageQual', 'GarageCond', \n",
        "        'ExterQual', 'ExterCond','HeatingQC', 'PoolQC', 'KitchenQual', 'BsmtFinType1', \n",
        "        'BsmtFinType2', 'Functional', 'Fence', 'BsmtExposure', 'GarageFinish', 'LandSlope',\n",
        "        'LotShape', 'PavedDrive', 'Street', 'Alley', 'CentralAir', 'MSSubClass', 'OverallCond', \n",
        "        'YrSold', 'MoSold')\n",
        "# process columns, apply LabelEncoder to categorical features\n",
        "for c in cols:\n",
        "    lbl = LabelEncoder() \n",
        "    lbl.fit(list(all_data[c].values)) \n",
        "    all_data[c] = lbl.transform(list(all_data[c].values))"
      ],
      "execution_count": 0,
      "outputs": []
    },
    {
      "metadata": {
        "_uuid": "e798f483a3a92e37830225d644a9656e34dcd5d6",
        "trusted": false,
        "id": "rXDRKA4qn0UU",
        "colab_type": "code",
        "colab": {}
      },
      "cell_type": "code",
      "source": [
        "# Adding total sqfootage feature \n",
        "all_data['TotalSF'] = all_data['TotalBsmtSF'] + all_data['1stFlrSF'] + all_data['2ndFlrSF']"
      ],
      "execution_count": 0,
      "outputs": []
    },
    {
      "metadata": {
        "_uuid": "e6084e1a715325e47d110bb30aed9b662b205444",
        "trusted": false,
        "id": "pTr4W5rRn0UW",
        "colab_type": "code",
        "colab": {}
      },
      "cell_type": "code",
      "source": [
        "numeric_feats = all_data.dtypes[all_data.dtypes != \"object\"].index\n",
        "\n",
        "# Check the skew of all numerical features\n",
        "skewed_feats = all_data[numeric_feats].apply(lambda x: skew(x.dropna())).sort_values(ascending=False)\n",
        "print(\"\\nSkew in numerical features: \\n\")\n",
        "skewness = pd.DataFrame({'Skew' :skewed_feats})"
      ],
      "execution_count": 0,
      "outputs": []
    },
    {
      "metadata": {
        "_uuid": "cf4f2d574d61654a43bd5d51e905a43bee1a8a63",
        "trusted": false,
        "id": "V0MYDhcZn0Uc",
        "colab_type": "code",
        "colab": {}
      },
      "cell_type": "code",
      "source": [
        "skewness = skewness[abs(skewness) > 0.75]\n",
        "print(\"There are {} skewed numerical features to Box Cox transform\".format(skewness.shape[0]))\n",
        "\n",
        "from scipy.special import boxcox1p\n",
        "skewed_features = skewness.index\n",
        "lam = 0.15\n",
        "for feat in skewed_features:\n",
        "    #all_data[feat] += 1\n",
        "    all_data[feat] = boxcox1p(all_data[feat], lam)\n",
        "    \n",
        "#all_data[skewed_features] = np.log1p(all_data[skewed_features])"
      ],
      "execution_count": 0,
      "outputs": []
    },
    {
      "metadata": {
        "_uuid": "289cf5d2051cdc8ecaf6c65526ddb57ca400a28a",
        "trusted": false,
        "id": "vet5ECF9n0Uf",
        "colab_type": "code",
        "colab": {}
      },
      "cell_type": "code",
      "source": [
        "all_data = pd.get_dummies(all_data)\n",
        "print(all_data.shape)"
      ],
      "execution_count": 0,
      "outputs": []
    },
    {
      "metadata": {
        "_uuid": "cc337f5030c5e10f798ea070e9db87ad205a219a",
        "trusted": false,
        "id": "vcdPfQMQn0Ui",
        "colab_type": "code",
        "colab": {}
      },
      "cell_type": "code",
      "source": [
        "train = all_data[:ntrain]\n",
        "test = all_data[ntrain:]"
      ],
      "execution_count": 0,
      "outputs": []
    },
    {
      "metadata": {
        "_uuid": "b2a62eeab41a10c4dce5a17d519325e19b928c1c",
        "id": "b8EENeyd-BHg",
        "colab_type": "text"
      },
      "cell_type": "markdown",
      "source": [
        "## Defining a cross validation strategy"
      ]
    },
    {
      "metadata": {
        "_uuid": "361202ee3e187da7bdfedfe0a22ccee402fc5529",
        "id": "0CGjoqMf-BHk",
        "colab_type": "text"
      },
      "cell_type": "markdown",
      "source": [
        "We use the cross_val_score function of **Sklearn**. However this function has not a shuffle attribut, we add then one line of code, in order to shuffle the dataset prior to cross-validation"
      ]
    },
    {
      "metadata": {
        "_uuid": "8c0a3918a57cf88a08f7784d71271bdda86a8b1a",
        "id": "R9hppoZx-BHm",
        "colab_type": "code",
        "colab": {}
      },
      "cell_type": "code",
      "source": [
        "\n",
        "#Validation function\n",
        "n_folds = 5\n",
        "\n",
        "def rmsle_cv(model):\n",
        "    kf = KFold(n_folds, shuffle=True, random_state=42).get_n_splits(train.values)\n",
        "    rmse= np.sqrt(-cross_val_score(model, train.values, y_train, scoring=\"neg_mean_squared_error\", cv = kf))\n",
        "    return(rmse)"
      ],
      "execution_count": 0,
      "outputs": []
    },
    {
      "metadata": {
        "_uuid": "8750d7d0b0d3c19b43fc27beec890055022635df",
        "id": "unPcz0A1-BHq",
        "colab_type": "text"
      },
      "cell_type": "markdown",
      "source": [
        "## Models"
      ]
    },
    {
      "metadata": {
        "_uuid": "23e42d6030d979df79b81ea58da45effc31f0d4d",
        "id": "YM68Gia7-BHs",
        "colab_type": "text"
      },
      "cell_type": "markdown",
      "source": [
        "#### LASSO Regression \n",
        "In statistics and machine learning, lasso (least absolute shrinkage and selection operator)  is a **regression analysis** method that performs both variable selection and regularization in order to enhance the prediction accuracy and interpretability of the statistical model it produces.  Lasso was originally formulated for least squares models and this simple case reveals a substantial amount about the behavior of the estimator, including its relationship to ridge regression and best subset selection and the connections between lasso coefficient estimates and so-called soft thresholding. It also reveals that (like standard linear regression) the coefficient estimates need not be unique if covariates are collinear.\n",
        "\n",
        "This model may be very sensitive to outliers. So we need to made it more robust on them. For that we use the sklearn's Robustscaler() method on pipeline"
      ]
    },
    {
      "metadata": {
        "_uuid": "a0edc93fc6298e4696eaab1430467b8262037f2a",
        "id": "9O2uyNfP-BHs",
        "colab_type": "code",
        "colab": {}
      },
      "cell_type": "code",
      "source": [
        "lasso = make_pipeline(RobustScaler(), Lasso(alpha =0.0005, random_state=1))"
      ],
      "execution_count": 0,
      "outputs": []
    },
    {
      "metadata": {
        "_uuid": "e6084e1a715325e47d110bb30aed9b662b205444",
        "id": "ChA7L_mA-BG1",
        "colab_type": "code",
        "colab": {}
      },
      "cell_type": "code",
      "source": [
        "numeric_feats = all_data.dtypes[all_data.dtypes != \"object\"].index\n",
        "\n",
        "# Check the skew of all numerical features\n",
        "skewed_feats = all_data[numeric_feats].apply(lambda x: skew(x.dropna())).sort_values(ascending=False)\n",
        "print(\"\\nSkew in numerical features: \\n\")\n",
        "skewness = pd.DataFrame({'Skew' :skewed_feats})\n",
        "skewness.head(10)"
      ],
      "execution_count": 0,
      "outputs": []
    },
    {
      "metadata": {
        "_uuid": "8273cf674a3d93d8d5edc8849ea0ca81d80c453c",
        "id": "PD8lqE-M-BHw",
        "colab_type": "text"
      },
      "cell_type": "markdown",
      "source": [
        "#### Elastic Net Regression \n",
        "the elastic net is a regularized regression method that linearly combines the L1 and L2 penalties of the lasso and ridge methods.\n",
        "again made robust to outliers"
      ]
    },
    {
      "metadata": {
        "_uuid": "36065ec44f99bffc2e61904d444918a3f8d15104",
        "id": "TE9AkABE-BHz",
        "colab_type": "code",
        "colab": {}
      },
      "cell_type": "code",
      "source": [
        "ENet = make_pipeline(RobustScaler(), ElasticNet(alpha=0.0005, l1_ratio=.9, random_state=3))"
      ],
      "execution_count": 0,
      "outputs": []
    },
    {
      "metadata": {
        "_uuid": "8e92dca79ca3291620ba7d07de3c9879030aee90",
        "id": "BfT8PT8J-BH4",
        "colab_type": "text"
      },
      "cell_type": "markdown",
      "source": [
        "#### Kernel Ridge Regression \n",
        "Kernel ridge regression (KRR)  combines Ridge Regression (linear least squares with l2-norm regularization) with the kernel trick. It thus learns a linear function in the space induced by the respective kernel and the data. For non-linear kernels, this corresponds to a non-linear function in the original space."
      ]
    },
    {
      "metadata": {
        "_uuid": "d9242099a3f75392efe6dfe23a06f8b472bbf6b0",
        "id": "VMyreKgg-BH5",
        "colab_type": "code",
        "colab": {}
      },
      "cell_type": "code",
      "source": [
        "KRR = KernelRidge(alpha=0.6, kernel='polynomial', degree=2, coef0=2.5)"
      ],
      "execution_count": 0,
      "outputs": []
    },
    {
      "metadata": {
        "_uuid": "0b2f64974b200069e751844090c32044a2ab08aa",
        "id": "PK0WNrQy-BH_",
        "colab_type": "text"
      },
      "cell_type": "markdown",
      "source": [
        "#### Gradient Boosting Regression\n",
        "With huber loss that makes it robust to outliers"
      ]
    },
    {
      "metadata": {
        "_uuid": "29f20b79c32d0083171671453399bf28f0677ce2",
        "id": "t5TzK_Rg-BID",
        "colab_type": "code",
        "colab": {}
      },
      "cell_type": "code",
      "source": [
        "GBoost = GradientBoostingRegressor(n_estimators=3000, learning_rate=0.05,\n",
        "                                   max_depth=4, max_features='sqrt',\n",
        "                                   min_samples_leaf=15, min_samples_split=10, \n",
        "                                   loss='huber', random_state =5)"
      ],
      "execution_count": 0,
      "outputs": []
    },
    {
      "metadata": {
        "_uuid": "55a55a6cfca539fd9a8b110ab6143a09e4962972",
        "id": "Q1i7rfd6-BIH",
        "colab_type": "text"
      },
      "cell_type": "markdown",
      "source": [
        "#### XGBoost"
      ]
    },
    {
      "metadata": {
        "_uuid": "64f958e8e7e3c4880eb23a7f654f405a3dbff163",
        "id": "dh9dNSSl-BIJ",
        "colab_type": "code",
        "colab": {}
      },
      "cell_type": "code",
      "source": [
        "model_xgb = xgb.XGBRegressor(colsample_bytree=0.4603, gamma=0.0468, \n",
        "                             learning_rate=0.05, max_depth=3, \n",
        "                             min_child_weight=1.7817, n_estimators=2200,\n",
        "                             reg_alpha=0.4640, reg_lambda=0.8571,\n",
        "                             subsample=0.5213, silent=1,\n",
        "                             random_state =7, nthread = -1)"
      ],
      "execution_count": 0,
      "outputs": []
    },
    {
      "metadata": {
        "_uuid": "1fef6eaaf1cf5780ec134cf3e1017750e500dfc7",
        "id": "jjFkN-UX-BIN",
        "colab_type": "text"
      },
      "cell_type": "markdown",
      "source": [
        "#### LightGBM"
      ]
    },
    {
      "metadata": {
        "_uuid": "b08f8cb3235e85ccd962dd26c030ca38c6c1ddb5",
        "id": "5ub_TkSK-BIO",
        "colab_type": "code",
        "colab": {}
      },
      "cell_type": "code",
      "source": [
        "model_lgb = lgb.LGBMRegressor(objective='regression',num_leaves=5,\n",
        "                              learning_rate=0.05, n_estimators=720,\n",
        "                              max_bin = 55, bagging_fraction = 0.8,\n",
        "                              bagging_freq = 5, feature_fraction = 0.2319,\n",
        "                              feature_fraction_seed=9, bagging_seed=9,\n",
        "                              min_data_in_leaf =6, min_sum_hessian_in_leaf = 11)"
      ],
      "execution_count": 0,
      "outputs": []
    },
    {
      "metadata": {
        "_uuid": "4811c189f288825b7a3d4a73589bea75966ad6f8",
        "id": "g4NYZrk7-BIS",
        "colab_type": "text"
      },
      "cell_type": "markdown",
      "source": [
        "### Base models scores\n",
        "\n",
        "Let's see how these base models perform on the data by evaluating the cross-validation rmsle error"
      ]
    },
    {
      "metadata": {
        "_uuid": "432cfefb8fd0481baa754ee142900da68e1242a1",
        "id": "8k6DlHkg-BIU",
        "colab_type": "code",
        "colab": {}
      },
      "cell_type": "code",
      "source": [
        "score = rmsle_cv(lasso)\n",
        "print(\"\\nLasso score: {:.4f} ({:.4f})\\n\".format(score.mean(), score.std()))"
      ],
      "execution_count": 0,
      "outputs": []
    },
    {
      "metadata": {
        "_uuid": "1a1b1442588e8027fa3e322336d429a6bd0a0698",
        "id": "TTRofPuw-BIb",
        "colab_type": "code",
        "colab": {}
      },
      "cell_type": "code",
      "source": [
        "score = rmsle_cv(ENet)\n",
        "print(\"ElasticNet score: {:.4f} ({:.4f})\\n\".format(score.mean(), score.std()))"
      ],
      "execution_count": 0,
      "outputs": []
    },
    {
      "metadata": {
        "_uuid": "2733161f02721cfedf6fb87b75c4ec02373c11b6",
        "id": "sMv7yuGn-BIh",
        "colab_type": "code",
        "colab": {}
      },
      "cell_type": "code",
      "source": [
        "score = rmsle_cv(KRR)\n",
        "print(\"Kernel Ridge score: {:.4f} ({:.4f})\\n\".format(score.mean(), score.std()))"
      ],
      "execution_count": 0,
      "outputs": []
    },
    {
      "metadata": {
        "_uuid": "f47e020b29a530a41262d1e303c30db37b73adc7",
        "id": "CiogKACq-BIl",
        "colab_type": "code",
        "colab": {}
      },
      "cell_type": "code",
      "source": [
        "score = rmsle_cv(GBoost)\n",
        "print(\"Gradient Boosting score: {:.4f} ({:.4f})\\n\".format(score.mean(), score.std()))"
      ],
      "execution_count": 0,
      "outputs": []
    },
    {
      "metadata": {
        "_uuid": "c2a6b8ae0750efcb82851f5bca5fe1052e105a78",
        "id": "Ghow0M1e-BIp",
        "colab_type": "code",
        "colab": {}
      },
      "cell_type": "code",
      "source": [
        "score = rmsle_cv(model_xgb)\n",
        "print(\"Xgboost score: {:.4f} ({:.4f})\\n\".format(score.mean(), score.std()))"
      ],
      "execution_count": 0,
      "outputs": []
    },
    {
      "metadata": {
        "_uuid": "abc7b6c547d39419c7b61924cfea81b55f353a4c",
        "id": "cCeZ2YYI-BIw",
        "colab_type": "code",
        "colab": {}
      },
      "cell_type": "code",
      "source": [
        "score = rmsle_cv(model_lgb)\n",
        "print(\"LGBM score: {:.4f} ({:.4f})\\n\" .format(score.mean(), score.std()))"
      ],
      "execution_count": 0,
      "outputs": []
    },
    {
      "metadata": {
        "_uuid": "feb056008e799b45ef4c34b09a288606c9587857",
        "id": "slEQ8qlS-BI2",
        "colab_type": "text"
      },
      "cell_type": "markdown",
      "source": [
        "Stacking models"
      ]
    },
    {
      "metadata": {
        "_uuid": "bce02781b5a07d0fdd1e5f53908d2d7c7410b1a3",
        "id": "3XRuP7uX-BI3",
        "colab_type": "text"
      },
      "cell_type": "markdown",
      "source": [
        "Simplest Stacking approach : Averaging base models\n",
        "We begin with this simple approach of averaging base models. We build a new class to extend scikit-learn with our model and also to laverage encapsulation and code reuse (inheritance)"
      ]
    },
    {
      "metadata": {
        "_uuid": "47bf4fec6d2a926a04b3eecfe4c32a092b00037f",
        "id": "jMF2mcI3-BI5",
        "colab_type": "text"
      },
      "cell_type": "markdown",
      "source": [
        "Averaged base models class"
      ]
    },
    {
      "metadata": {
        "_uuid": "45f494d3bf43f0e7d54802555ea75e52c3d71a0b",
        "id": "qyGa89NJ-BI_",
        "colab_type": "code",
        "colab": {}
      },
      "cell_type": "code",
      "source": [
        "\n",
        "class AveragingModels(BaseEstimator, RegressorMixin, TransformerMixin):\n",
        "    def __init__(self, models):\n",
        "        self.models = models\n",
        "        \n",
        "    # we define clones of the original models to fit the data in\n",
        "    def fit(self, X, y):\n",
        "        self.models_ = [clone(x) for x in self.models]\n",
        "        \n",
        "        # Train cloned base models\n",
        "        for model in self.models_:\n",
        "            model.fit(X, y)\n",
        "\n",
        "        return self\n",
        "    \n",
        "    #Now we do the predictions for cloned models and average them\n",
        "    def predict(self, X):\n",
        "        predictions = np.column_stack([\n",
        "            model.predict(X) for model in self.models_\n",
        "        ])\n",
        "        return np.mean(predictions, axis=1) "
      ],
      "execution_count": 0,
      "outputs": []
    },
    {
      "metadata": {
        "_uuid": "0a277422c2957a9780a723b78d3420dded90876c",
        "id": "wxPKEqg_-BJD",
        "colab_type": "text"
      },
      "cell_type": "markdown",
      "source": [
        "\n",
        "Averaged base models score\n",
        "\n",
        "We just average four models here ENet, GBoost, KRR and lasso. Of course we could easily add more models in the mix."
      ]
    },
    {
      "metadata": {
        "_uuid": "219536044d4f86e0787854c61e47fe066d7c74ea",
        "id": "JqfHfqSY-BJE",
        "colab_type": "code",
        "colab": {}
      },
      "cell_type": "code",
      "source": [
        "averaged_models = AveragingModels(models = (ENet, GBoost, KRR, lasso))\n",
        "\n",
        "score = rmsle_cv(averaged_models)\n",
        "print(\" Averaged base models score: {:.4f} ({:.4f})\\n\".format(score.mean(), score.std()))"
      ],
      "execution_count": 0,
      "outputs": []
    },
    {
      "metadata": {
        "_uuid": "d7c6a15fce609c765ea854ac4b6b159eaad681a1",
        "id": "WHlx1TMV-BJI",
        "colab_type": "code",
        "colab": {}
      },
      "cell_type": "code",
      "source": [
        "class StackingAveragedModels(BaseEstimator, RegressorMixin, TransformerMixin):\n",
        "    def __init__(self, base_models, meta_model, n_folds=5):\n",
        "        self.base_models = base_models\n",
        "        self.meta_model = meta_model\n",
        "        self.n_folds = n_folds\n",
        "   # We again fit the data on clones of the original models\n",
        "    def fit(self, X, y):\n",
        "        self.base_models_ = [list() for x in self.base_models]\n",
        "        self.meta_model_ = clone(self.meta_model)\n",
        "        kfold = KFold(n_splits=self.n_folds, shuffle=True, random_state=156)\n",
        "        \n",
        "        # Train cloned base models then create out-of-fold predictions\n",
        "        # that are needed to train the cloned meta-model\n",
        "        out_of_fold_predictions = np.zeros((X.shape[0], len(self.base_models)))\n",
        "        for i, model in enumerate(self.base_models):\n",
        "            for train_index, holdout_index in kfold.split(X, y):\n",
        "                instance = clone(model)\n",
        "                self.base_models_[i].append(instance)\n",
        "                instance.fit(X[train_index], y[train_index])\n",
        "                y_pred = instance.predict(X[holdout_index])\n",
        "                out_of_fold_predictions[holdout_index, i] = y_pred\n",
        "                \n",
        "        # Now train the cloned  meta-model using the out-of-fold predictions as new feature\n",
        "        self.meta_model_.fit(out_of_fold_predictions, y)\n",
        "        return self\n",
        "   #Do the predictions of all base models on the test data and use the averaged predictions as \n",
        "    #meta-features for the final prediction which is done by the meta-model\n",
        "    def predict(self, X):\n",
        "        meta_features = np.column_stack([\n",
        "            np.column_stack([model.predict(X) for model in base_models]).mean(axis=1)\n",
        "            for base_models in self.base_models_ ])\n",
        "        return self.meta_model_.predict(meta_features)"
      ],
      "execution_count": 0,
      "outputs": []
    },
    {
      "metadata": {
        "_uuid": "4906e53b1fcf685b054ea884cc2281b613a78918",
        "id": "4O7q4B8d-BJM",
        "colab_type": "code",
        "colab": {}
      },
      "cell_type": "code",
      "source": [
        "stacked_averaged_models = StackingAveragedModels(base_models = (ENet, GBoost, KRR),\n",
        "                                                 meta_model = lasso)\n",
        "\n",
        "score = rmsle_cv(stacked_averaged_models)\n",
        "print(\"Stacking Averaged models score: {:.4f} ({:.4f})\".format(score.mean(), score.std()))"
      ],
      "execution_count": 0,
      "outputs": []
    },
    {
      "metadata": {
        "_uuid": "a67243faf709d764428b6b7451aa61e917da0bab",
        "id": "-RxWTLvV-BJP",
        "colab_type": "code",
        "colab": {}
      },
      "cell_type": "code",
      "source": [
        "def rmsle(y, y_pred):\n",
        "    return np.sqrt(mean_squared_error(y, y_pred))"
      ],
      "execution_count": 0,
      "outputs": []
    },
    {
      "metadata": {
        "_uuid": "45edc8ed4de1313734facc50567a74ccf7f7075b",
        "id": "RdXh4W4H-BJT",
        "colab_type": "code",
        "colab": {}
      },
      "cell_type": "code",
      "source": [
        "#StackedRegressor\n",
        "#Final Training and Prediction\n",
        "stacked_averaged_models.fit(train.values, y_train)\n",
        "stacked_train_pred = stacked_averaged_models.predict(train.values)\n",
        "stacked_pred = np.expm1(stacked_averaged_models.predict(test.values))\n",
        "print(rmsle(y_train, stacked_train_pred))"
      ],
      "execution_count": 0,
      "outputs": []
    },
    {
      "metadata": {
        "_uuid": "ca83502d37f38b6cce5928220538749982352f2e",
        "id": "fV2_3655-BJW",
        "colab_type": "code",
        "colab": {}
      },
      "cell_type": "code",
      "source": [
        "#XGBoost\n",
        "model_xgb.fit(train, y_train)\n",
        "xgb_train_pred = model_xgb.predict(train)\n",
        "xgb_pred = np.expm1(model_xgb.predict(test))\n",
        "print(rmsle(y_train, xgb_train_pred))"
      ],
      "execution_count": 0,
      "outputs": []
    },
    {
      "metadata": {
        "_uuid": "9611bf793492523c101226912037b78ad54b2bdc",
        "id": "FtJ_kTEa-BJa",
        "colab_type": "code",
        "colab": {}
      },
      "cell_type": "code",
      "source": [
        "#lightGBM\n",
        "model_lgb.fit(train, y_train)\n",
        "lgb_train_pred = model_lgb.predict(train)\n",
        "lgb_pred = np.expm1(model_lgb.predict(test.values))\n",
        "print(rmsle(y_train, lgb_train_pred))"
      ],
      "execution_count": 0,
      "outputs": []
    },
    {
      "metadata": {
        "_uuid": "435ff580ab2d73f4709ad871af48f254ddabbc7b",
        "id": "46Ic2UIj-BJv",
        "colab_type": "code",
        "colab": {}
      },
      "cell_type": "code",
      "source": [
        "'''RMSE on the entire Train data when averaging'''\n",
        "\n",
        "print('RMSLE score on train data:')\n",
        "print(rmsle(y_train,stacked_train_pred*0.70 +\n",
        "               xgb_train_pred*0.15 + lgb_train_pred*0.15 ))"
      ],
      "execution_count": 0,
      "outputs": []
    },
    {
      "metadata": {
        "_uuid": "9e18ae69a5e4a12f5b4042f91e65b88da7d1b6ba",
        "id": "-IY6qjb0-BJz",
        "colab_type": "text"
      },
      "cell_type": "markdown",
      "source": [
        "### Ensemble prediction"
      ]
    },
    {
      "metadata": {
        "_uuid": "f82001f0b991dd92f701d9781e2fe5c5dbfbdaac",
        "id": "ZgVjdOgn-BJ1",
        "colab_type": "code",
        "colab": {}
      },
      "cell_type": "code",
      "source": [
        "ensemble = stacked_pred*0.70 + xgb_pred*0.15 + lgb_pred*0.15"
      ],
      "execution_count": 0,
      "outputs": []
    },
    {
      "metadata": {
        "_uuid": "b1839af2f826485972714196d8ea8ee17400808e",
        "id": "qHcNFj_6-BJ9",
        "colab_type": "code",
        "colab": {}
      },
      "cell_type": "code",
      "source": [
        "sub = pd.DataFrame()\n",
        "sub['Id'] = test_ID\n",
        "sub['SalePrice'] = ensemble\n",
        "sub.to_csv('submission.csv',index=False)\n"
      ],
      "execution_count": 0,
      "outputs": []
    },
    {
      "metadata": {
        "_uuid": "dfa3549f9cca97eb1d11cc398b24f4c2f3bcc6e1",
        "id": "SdBKzjMH-BG5",
        "colab_type": "text"
      },
      "cell_type": "markdown",
      "source": [
        "Box Cox Transformation of (highly) skewed features\n",
        "\n",
        "We use the scipy function boxcox1p which computes the Box-Cox transformation of \n",
        "1+x\n",
        "1+x\n",
        ".\n",
        "Note that setting \n",
        "λ=0\n",
        "λ=0\n",
        "is equivalent to log1p used above for the target variable.\n",
        "See this page for more details on Box Cox Transformation as well as the scipy function's page"
      ]
    },
    {
      "metadata": {
        "_uuid": "cf4f2d574d61654a43bd5d51e905a43bee1a8a63",
        "id": "m-yZmwpx-BG8",
        "colab_type": "code",
        "colab": {}
      },
      "cell_type": "code",
      "source": [
        "skewness = skewness[abs(skewness) > 0.75]\n",
        "print(\"There are {} skewed numerical features to Box Cox transform\".format(skewness.shape[0]))\n",
        "\n",
        "from scipy.special import boxcox1p\n",
        "skewed_features = skewness.index\n",
        "lam = 0.15\n",
        "for feat in skewed_features:\n",
        "    #all_data[feat] += 1\n",
        "    all_data[feat] = boxcox1p(all_data[feat], lam)\n",
        "    \n",
        "#all_data[skewed_features] = np.log1p(all_data[skewed_features])"
      ],
      "execution_count": 0,
      "outputs": []
    },
    {
      "metadata": {
        "_uuid": "97adc471c068fbd8d36ca19a4db0d98b0924c731",
        "id": "gPrGWNhN-BKJ",
        "colab_type": "text"
      },
      "cell_type": "markdown",
      "source": [
        "# Conclusion"
      ]
    },
    {
      "metadata": {
        "_cell_guid": "79c7e3d0-c299-4dcb-8224-4455121ee9b0",
        "_uuid": "d629ff2d2480ee46fbb7e2d37f6b5fab8052498a",
        "collapsed": true,
        "id": "wl11WN3H-BKO",
        "colab_type": "text"
      },
      "cell_type": "markdown",
      "source": [
        "## 9- References\n",
        "* [1] https://www.kaggle.com/mjbahmani/a-comprehensive-ml-workflow-for-house-prices\n",
        "* [2] [https://skymind.ai/wiki/machine-learning-workflow](https://skymind.ai/wiki/machine-learning-workflow)\n",
        "* [3] [Problem-define](https://machinelearningmastery.com/machine-learning-in-python-step-by-step/)\n",
        "* [4] [Sklearn](http://scikit-learn.org/)\n",
        "* [5] [machine-learning-in-python-step-by-step](https://machinelearningmastery.com/machine-learning-in-python-step-by-step/)\n",
        "* [6] [Data Cleaning](http://wp.sigmod.org/?p=2288)\n",
        "* [7] [kaggle kernel](https://www.kaggle.com/serigne/stacked-regressions-top-4-on-leaderboard)\n",
        "* [8] https://towardsdatascience.com/polynomial-regression-bbe8b9d97491\n",
        "* [9] https://towardsdatascience.com/coding-deep-learning-for-beginners-types-of-machine-learning-b9e651e1ed9d"
      ]
    },
    {
      "metadata": {
        "id": "3bNemIpdPLuW",
        "colab_type": "code",
        "colab": {}
      },
      "cell_type": "code",
      "source": [
        ""
      ],
      "execution_count": 0,
      "outputs": []
    }
  ]
}