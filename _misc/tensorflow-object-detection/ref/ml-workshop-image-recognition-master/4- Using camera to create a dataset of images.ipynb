{
 "cells": [
  {
   "cell_type": "markdown",
   "metadata": {},
   "source": [
    "<img src=\"https://camo.githubusercontent.com/cc5541fa8bc6f822cb8d5b4261a23f20ec8321f4/68747470733a2f2f757365722d696d616765732e67697468756275736572636f6e74656e742e636f6d2f373036353430312f33393131393438362d34373138653338362d343665632d313165382d396663332d3532353061343965663537302e706e67\">\n",
    "\n",
    "---\n",
    "\n",
    "# 5- Using camera to create a dataset of images\n",
    "\n",
    "Import necessary libraries:"
   ]
  },
  {
   "cell_type": "code",
   "execution_count": 6,
   "metadata": {},
   "outputs": [],
   "source": [
    "import matplotlib.pyplot as plt\n",
    "import numpy as np\n",
    "import cv2\n",
    "\n",
    "%matplotlib inline"
   ]
  },
  {
   "cell_type": "markdown",
   "metadata": {},
   "source": [
    "Modify a little bit out camera code, to save frames marked as `TYPE_1` if `1` is pressed, and frames marked as `TYPE_2` if `2` is pressed.\n",
    "\n",
    "_⚠️It's recommendable take at least 10 pictures of each type!_"
   ]
  },
  {
   "cell_type": "code",
   "execution_count": 7,
   "metadata": {
    "scrolled": true
   },
   "outputs": [],
   "source": [
    "# get the reference to the webcam\n",
    "camera = cv2.VideoCapture(0)\n",
    "camera_height = 500\n",
    "raw_frames_type_1 = []\n",
    "raw_frames_type_2 = []\n",
    "\n",
    "while(True):\n",
    "    # read a new frame\n",
    "    _, frame = camera.read()\n",
    "    \n",
    "    # flip the frame\n",
    "    frame = cv2.flip(frame, 1)\n",
    "\n",
    "    # rescaling camera output\n",
    "    aspect = frame.shape[1] / float(frame.shape[0])\n",
    "    res = int(aspect * camera_height) # landscape orientation - wide image\n",
    "    frame = cv2.resize(frame, (res, camera_height))\n",
    "\n",
    "    # add rectangle\n",
    "    cv2.rectangle(frame, (300, 75), (650, 425), (0, 255, 0), 2)\n",
    "\n",
    "    # show the frame\n",
    "    cv2.imshow(\"Capturing frames\", frame)\n",
    "\n",
    "    key = cv2.waitKey(1)\n",
    "\n",
    "    # quit camera if 'q' key is pressed\n",
    "    if key & 0xFF == ord(\"q\"):\n",
    "        break\n",
    "    elif key & 0xFF == ord(\"1\"):\n",
    "        # save the frame\n",
    "        raw_frames_type_1.append(frame)\n",
    "        print('1 key pressed - saved TYPE_1 frame')\n",
    "        \n",
    "    elif key & 0xFF == ord(\"2\"):\n",
    "        # save the frame\n",
    "        raw_frames_type_2.append(frame)\n",
    "        print('2 key pressed - Saved TYPE_2 frame')\n",
    "\n",
    "camera.release()\n",
    "cv2.destroyAllWindows()"
   ]
  },
  {
   "cell_type": "markdown",
   "metadata": {},
   "source": [
    "Now crop ROI from the frames, resize it to `224*224` and persist them to `data/images_type_1` and `data/images_type_2` folders."
   ]
  },
  {
   "cell_type": "code",
   "execution_count": 5,
   "metadata": {},
   "outputs": [],
   "source": [
    "for i, frame in enumerate(raw_frames_type_1):\n",
    "    # get ROI\n",
    "    roi = frame[75+2:425-2, 300+2:650-2]\n",
    "    \n",
    "    # parse BRG to RGB\n",
    "    roi = cv2.cvtColor(roi, cv2.COLOR_BGR2RGB)\n",
    "\n",
    "    # resize to 224*224\n",
    "    roi = cv2.resize(roi, (224, 224))\n",
    "    \n",
    "    # persist the image\n",
    "    cv2.imwrite('./data/images_type_1/{}.png'.format(i), cv2.cvtColor(roi,cv2.COLOR_BGR2RGB))\n",
    "\n",
    "for i, frame in enumerate(raw_frames_type_2):\n",
    "    # get ROI\n",
    "    roi = frame[75+2:425-2, 300+2:650-2]\n",
    "    \n",
    "    # parse BRG to RGB\n",
    "    roi = cv2.cvtColor(roi, cv2.COLOR_BGR2RGB)\n",
    "\n",
    "    # resize to 224*224\n",
    "    roi = cv2.resize(roi, (224, 224))\n",
    "    \n",
    "    # persist the image\n",
    "    cv2.imwrite('./data/images_type_2/{}.png'.format(i), cv2.cvtColor(roi,cv2.COLOR_BGR2RGB))"
   ]
  },
  {
   "cell_type": "markdown",
   "metadata": {},
   "source": [
    "Take a look at `data/images_type_1` and `data/images_type_2` folder to see if images were saved correctly."
   ]
  },
  {
   "cell_type": "markdown",
   "metadata": {},
   "source": [
    "<img src=\"https://camo.githubusercontent.com/53f6fb6ccefefd87dc93af20b8e7972573de9828/68747470733a2f2f757365722d696d616765732e67697468756275736572636f6e74656e742e636f6d2f373036353430312f33393131393531382d35396661353163652d343665632d313165382d383530332d3566383133363535386632622e706e67\">\n",
    "<a href=\"https://rmotr.com\" target=\"_blank\">rmotr.com</a>"
   ]
  }
 ],
 "metadata": {
  "kernelspec": {
   "display_name": "Python 3",
   "language": "python",
   "name": "python3"
  },
  "language_info": {
   "codemirror_mode": {
    "name": "ipython",
    "version": 3
   },
   "file_extension": ".py",
   "mimetype": "text/x-python",
   "name": "python",
   "nbconvert_exporter": "python",
   "pygments_lexer": "ipython3",
   "version": "3.6.5"
  }
 },
 "nbformat": 4,
 "nbformat_minor": 2
}
