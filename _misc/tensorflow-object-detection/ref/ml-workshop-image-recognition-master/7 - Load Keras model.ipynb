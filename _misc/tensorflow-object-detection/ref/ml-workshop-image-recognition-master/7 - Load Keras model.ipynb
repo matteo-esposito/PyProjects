{
 "cells": [
  {
   "cell_type": "markdown",
   "metadata": {},
   "source": [
    "# 7 - Using our pre-trained model\n",
    "\n",
    "Once you've trained a Keras model, you can load it and start predictions without the need of re-training it."
   ]
  },
  {
   "cell_type": "code",
   "execution_count": 1,
   "metadata": {},
   "outputs": [],
   "source": [
    "import cv2\n",
    "import numpy as np"
   ]
  },
  {
   "cell_type": "code",
   "execution_count": 2,
   "metadata": {},
   "outputs": [
    {
     "name": "stderr",
     "output_type": "stream",
     "text": [
      "Using TensorFlow backend.\n",
      "/Users/santiagobasulto/.virtualenvs/keras-wine-model/lib/python3.6/importlib/_bootstrap.py:219: RuntimeWarning: compiletime version 3.5 of module 'tensorflow.python.framework.fast_tensor_util' does not match runtime version 3.6\n",
      "  return f(*args, **kwds)\n"
     ]
    }
   ],
   "source": [
    "from keras.models import load_model"
   ]
  },
  {
   "cell_type": "code",
   "execution_count": 3,
   "metadata": {},
   "outputs": [],
   "source": [
    "class_names = ['BANANA', 'RED APPLE', 'PEAR', 'GREEN APPLE']\n",
    "width = 96\n",
    "height = 96"
   ]
  },
  {
   "cell_type": "markdown",
   "metadata": {},
   "source": [
    "Load the model:"
   ]
  },
  {
   "cell_type": "code",
   "execution_count": 4,
   "metadata": {},
   "outputs": [],
   "source": [
    "model = load_model('fruit_cnn_model.h5')"
   ]
  },
  {
   "cell_type": "code",
   "execution_count": 5,
   "metadata": {
    "scrolled": false
   },
   "outputs": [
    {
     "name": "stdout",
     "output_type": "stream",
     "text": [
      "_________________________________________________________________\n",
      "Layer (type)                 Output Shape              Param #   \n",
      "=================================================================\n",
      "conv2d_3 (Conv2D)            (None, 94, 94, 16)        448       \n",
      "_________________________________________________________________\n",
      "max_pooling2d_3 (MaxPooling2 (None, 47, 47, 16)        0         \n",
      "_________________________________________________________________\n",
      "dropout_5 (Dropout)          (None, 47, 47, 16)        0         \n",
      "_________________________________________________________________\n",
      "conv2d_4 (Conv2D)            (None, 45, 45, 32)        4640      \n",
      "_________________________________________________________________\n",
      "max_pooling2d_4 (MaxPooling2 (None, 22, 22, 32)        0         \n",
      "_________________________________________________________________\n",
      "dropout_6 (Dropout)          (None, 22, 22, 32)        0         \n",
      "_________________________________________________________________\n",
      "flatten_2 (Flatten)          (None, 15488)             0         \n",
      "_________________________________________________________________\n",
      "dense_4 (Dense)              (None, 1024)              15860736  \n",
      "_________________________________________________________________\n",
      "dropout_7 (Dropout)          (None, 1024)              0         \n",
      "_________________________________________________________________\n",
      "dense_5 (Dense)              (None, 512)               524800    \n",
      "_________________________________________________________________\n",
      "dropout_8 (Dropout)          (None, 512)               0         \n",
      "_________________________________________________________________\n",
      "dense_6 (Dense)              (None, 4)                 2052      \n",
      "=================================================================\n",
      "Total params: 16,392,676\n",
      "Trainable params: 16,392,676\n",
      "Non-trainable params: 0\n",
      "_________________________________________________________________\n"
     ]
    }
   ],
   "source": [
    "model.summary()"
   ]
  },
  {
   "cell_type": "markdown",
   "metadata": {},
   "source": [
    "Start predicting!"
   ]
  },
  {
   "cell_type": "code",
   "execution_count": null,
   "metadata": {},
   "outputs": [],
   "source": [
    "import time \n",
    "\n",
    "# get the reference to the webcam\n",
    "camera = cv2.VideoCapture(0)\n",
    "camera_height = 500\n",
    "\n",
    "while(True):\n",
    "    # read a new frame\n",
    "    _, frame = camera.read()\n",
    "    \n",
    "    # flip the frameq\n",
    "    frame = cv2.flip(frame, 1)\n",
    "\n",
    "    # rescaling camera output\n",
    "    aspect = frame.shape[1] / float(frame.shape[0])\n",
    "    res = int(aspect * camera_height) # landscape orientation - wide image\n",
    "    frame = cv2.resize(frame, (res, camera_height))\n",
    "\n",
    "    # add rectangle\n",
    "    cv2.rectangle(frame, (300, 75), (650, 425), (240, 100, 0), 2)\n",
    "\n",
    "    # get ROI\n",
    "    roi = frame[75+2:425-2, 300+2:650-2]\n",
    "    \n",
    "    # parse BRG to RGB\n",
    "    roi = cv2.cvtColor(roi, cv2.COLOR_BGR2RGB)\n",
    "\n",
    "    # resize\n",
    "    roi = cv2.resize(roi, (width, height))\n",
    "    \n",
    "    # predict!\n",
    "    roi_X = np.expand_dims(roi, axis=0)\n",
    "\n",
    "    predictions = model.predict(roi_X)\n",
    "    type_1_pred, type_2_pred, type_3_pred, type_4_pred = predictions[0]\n",
    "\n",
    "    # add text\n",
    "    type_1_text = '{}: {}%'.format(class_names[0], int(type_1_pred*100))\n",
    "    cv2.putText(frame, type_1_text, (70, 170), \n",
    "                cv2.FONT_HERSHEY_SIMPLEX, 0.6, (240, 240, 240), 2)\n",
    "\n",
    "    # add text\n",
    "    tipe_2_text = '{}: {}%'.format(class_names[1], int(type_2_pred*100))\n",
    "    cv2.putText(frame, tipe_2_text, (70, 200), \n",
    "                cv2.FONT_HERSHEY_SIMPLEX, 0.6, (240, 240, 240), 2)\n",
    "\n",
    "    \n",
    "    # add text\n",
    "    tipe_3_text = '{}: {}%'.format(class_names[2], int(type_3_pred*100))\n",
    "    cv2.putText(frame, tipe_3_text, (70, 230), \n",
    "                cv2.FONT_HERSHEY_SIMPLEX, 0.6, (240, 240, 240), 2)\n",
    "\n",
    "    # add text\n",
    "    tipe_4_text = '{}: {}%'.format(class_names[3], int(type_4_pred*100))\n",
    "    cv2.putText(frame, tipe_4_text, (70, 260), \n",
    "                cv2.FONT_HERSHEY_SIMPLEX, 0.6, (240, 240, 240), 2)\n",
    "\n",
    "    # show the frame\n",
    "    cv2.imshow(\"Test out\", frame)\n",
    "\n",
    "    key = cv2.waitKey(1)\n",
    "\n",
    "    # quit camera if 'q' key is pressed\n",
    "    if key & 0xFF == ord(\"q\"):\n",
    "        break\n",
    "\n",
    "camera.release()\n",
    "cv2.destroyAllWindows()"
   ]
  },
  {
   "cell_type": "code",
   "execution_count": null,
   "metadata": {},
   "outputs": [],
   "source": []
  }
 ],
 "metadata": {
  "kernelspec": {
   "display_name": "Python 3",
   "language": "python",
   "name": "python3"
  },
  "language_info": {
   "codemirror_mode": {
    "name": "ipython",
    "version": 3
   },
   "file_extension": ".py",
   "mimetype": "text/x-python",
   "name": "python",
   "nbconvert_exporter": "python",
   "pygments_lexer": "ipython3",
   "version": "3.6.6"
  }
 },
 "nbformat": 4,
 "nbformat_minor": 2
}
