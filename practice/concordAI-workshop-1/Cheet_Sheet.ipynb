{
  "nbformat": 4,
  "nbformat_minor": 0,
  "metadata": {
    "colab": {
      "name": "Cheet Sheet.ipynb",
      "version": "0.3.2",
      "provenance": []
    },
    "kernelspec": {
      "name": "python3",
      "display_name": "Python 3"
    }
  },
  "cells": [
    {
      "metadata": {
        "id": "o2bY1sg4gSmy",
        "colab_type": "text"
      },
      "cell_type": "markdown",
      "source": [
        "# PANDAS\n"
      ]
    },
    {
      "metadata": {
        "_uuid": "cc337f5030c5e10f798ea070e9db87ad205a219a",
        "colab_type": "code",
        "id": "mbJf7Ud48hYI",
        "colab": {}
      },
      "cell_type": "code",
      "source": [
        "train = all_data[:ntrain]\n",
        "test = all_data[ntrain:]"
      ],
      "execution_count": 0,
      "outputs": []
    },
    {
      "metadata": {
        "id": "IQRjHTfrUTrt",
        "colab_type": "code",
        "colab": {}
      },
      "cell_type": "code",
      "source": [
        ""
      ],
      "execution_count": 0,
      "outputs": []
    },
    {
      "metadata": {
        "_uuid": "4b45251be7be77333051fe738639104ae1005fa5",
        "colab_type": "code",
        "id": "DVPBCXUvMEVO",
        "colab": {}
      },
      "cell_type": "code",
      "source": [
        "# shape\n",
        "train.shape"
      ],
      "execution_count": 0,
      "outputs": []
    },
    {
      "metadata": {
        "_uuid": "145f02fa22f216885a59cddee46dc08550426fa9",
        "colab_type": "code",
        "id": "JNbzSGytMEVB",
        "colab": {}
      },
      "cell_type": "code",
      "source": [
        "# shape\n",
        "test.shape"
      ],
      "execution_count": 0,
      "outputs": []
    },
    {
      "metadata": {
        "_uuid": "ca840f02925751186f87e402fcb5f637ab1ab8a0",
        "id": "2mipdi96-A6r",
        "colab_type": "code",
        "colab": {}
      },
      "cell_type": "code",
      "source": [
        "train.info()"
      ],
      "execution_count": 0,
      "outputs": []
    },
    {
      "metadata": {
        "_uuid": "5899889553c3416b27e93efceddb106eb71f5156",
        "id": "1C7QIYIf-A7c",
        "colab_type": "code",
        "colab": {}
      },
      "cell_type": "code",
      "source": [
        "train.head(5) "
      ],
      "execution_count": 0,
      "outputs": []
    },
    {
      "metadata": {
        "_uuid": "79339442ff1f53ae1054d794337b9541295d3305",
        "id": "6t1ASkGD-A7n",
        "colab_type": "code",
        "colab": {}
      },
      "cell_type": "code",
      "source": [
        "train.tail(10)"
      ],
      "execution_count": 0,
      "outputs": []
    },
    {
      "metadata": {
        "_uuid": "909d61b33ec06249d0842e6115597bbacf21163f",
        "id": "wwNE3Ry7-A88",
        "colab_type": "code",
        "colab": {}
      },
      "cell_type": "code",
      "source": [
        "train.columns"
      ],
      "execution_count": 0,
      "outputs": []
    },
    {
      "metadata": {
        "_uuid": "3f7211e96627b9a81c5b620a9ba61446f7719ea3",
        "id": "luvqSBaj-A8B",
        "colab_type": "code",
        "colab": {}
      },
      "cell_type": "code",
      "source": [
        "train.describe() "
      ],
      "execution_count": 0,
      "outputs": []
    },
    {
      "metadata": {
        "_uuid": "8807b632269e2fa734ad26e8513199400fc09a83",
        "id": "CIfeH-KT-A8Z",
        "colab_type": "code",
        "outputId": "8312bd8c-75f0-46fb-d3ca-78d8a99af991",
        "colab": {
          "base_uri": "https://localhost:8080/",
          "height": 163
        }
      },
      "cell_type": "code",
      "source": [
        "train.isnull().sum()"
      ],
      "execution_count": 0,
      "outputs": [
        {
          "output_type": "error",
          "ename": "NameError",
          "evalue": "ignored",
          "traceback": [
            "\u001b[0;31m---------------------------------------------------------------------------\u001b[0m",
            "\u001b[0;31mNameError\u001b[0m                                 Traceback (most recent call last)",
            "\u001b[0;32m<ipython-input-1-f34a4ca27fa8>\u001b[0m in \u001b[0;36m<module>\u001b[0;34m()\u001b[0m\n\u001b[0;32m----> 1\u001b[0;31m \u001b[0mtrain\u001b[0m\u001b[0;34m.\u001b[0m\u001b[0misnull\u001b[0m\u001b[0;34m(\u001b[0m\u001b[0;34m)\u001b[0m\u001b[0;34m.\u001b[0m\u001b[0msum\u001b[0m\u001b[0;34m(\u001b[0m\u001b[0;34m)\u001b[0m\u001b[0;34m\u001b[0m\u001b[0m\n\u001b[0m",
            "\u001b[0;31mNameError\u001b[0m: name 'train' is not defined"
          ]
        }
      ]
    },
    {
      "metadata": {
        "_uuid": "446e6162e16325213047ff31454813455668b574",
        "id": "rEWOaH4x-A8r",
        "colab_type": "code",
        "outputId": "87af139e-3ab7-4d8b-de12-69046e92daa0",
        "colab": {
          "base_uri": "https://localhost:8080/",
          "height": 408
        }
      },
      "cell_type": "code",
      "source": [
        "train.groupby('SaleType').count()"
      ],
      "execution_count": 0,
      "outputs": [
        {
          "output_type": "execute_result",
          "data": {
            "text/html": [
              "<div>\n",
              "<style scoped>\n",
              "    .dataframe tbody tr th:only-of-type {\n",
              "        vertical-align: middle;\n",
              "    }\n",
              "\n",
              "    .dataframe tbody tr th {\n",
              "        vertical-align: top;\n",
              "    }\n",
              "\n",
              "    .dataframe thead th {\n",
              "        text-align: right;\n",
              "    }\n",
              "</style>\n",
              "<table border=\"1\" class=\"dataframe\">\n",
              "  <thead>\n",
              "    <tr style=\"text-align: right;\">\n",
              "      <th></th>\n",
              "      <th>Id</th>\n",
              "      <th>MSSubClass</th>\n",
              "      <th>MSZoning</th>\n",
              "      <th>LotFrontage</th>\n",
              "      <th>LotArea</th>\n",
              "      <th>Street</th>\n",
              "      <th>Alley</th>\n",
              "      <th>LotShape</th>\n",
              "      <th>LandContour</th>\n",
              "      <th>Utilities</th>\n",
              "      <th>...</th>\n",
              "      <th>ScreenPorch</th>\n",
              "      <th>PoolArea</th>\n",
              "      <th>PoolQC</th>\n",
              "      <th>Fence</th>\n",
              "      <th>MiscFeature</th>\n",
              "      <th>MiscVal</th>\n",
              "      <th>MoSold</th>\n",
              "      <th>YrSold</th>\n",
              "      <th>SaleCondition</th>\n",
              "      <th>SalePrice</th>\n",
              "    </tr>\n",
              "    <tr>\n",
              "      <th>SaleType</th>\n",
              "      <th></th>\n",
              "      <th></th>\n",
              "      <th></th>\n",
              "      <th></th>\n",
              "      <th></th>\n",
              "      <th></th>\n",
              "      <th></th>\n",
              "      <th></th>\n",
              "      <th></th>\n",
              "      <th></th>\n",
              "      <th></th>\n",
              "      <th></th>\n",
              "      <th></th>\n",
              "      <th></th>\n",
              "      <th></th>\n",
              "      <th></th>\n",
              "      <th></th>\n",
              "      <th></th>\n",
              "      <th></th>\n",
              "      <th></th>\n",
              "      <th></th>\n",
              "    </tr>\n",
              "  </thead>\n",
              "  <tbody>\n",
              "    <tr>\n",
              "      <th>COD</th>\n",
              "      <td>43</td>\n",
              "      <td>43</td>\n",
              "      <td>43</td>\n",
              "      <td>32</td>\n",
              "      <td>43</td>\n",
              "      <td>43</td>\n",
              "      <td>3</td>\n",
              "      <td>43</td>\n",
              "      <td>43</td>\n",
              "      <td>43</td>\n",
              "      <td>...</td>\n",
              "      <td>43</td>\n",
              "      <td>43</td>\n",
              "      <td>0</td>\n",
              "      <td>13</td>\n",
              "      <td>2</td>\n",
              "      <td>43</td>\n",
              "      <td>43</td>\n",
              "      <td>43</td>\n",
              "      <td>43</td>\n",
              "      <td>43</td>\n",
              "    </tr>\n",
              "    <tr>\n",
              "      <th>CWD</th>\n",
              "      <td>4</td>\n",
              "      <td>4</td>\n",
              "      <td>4</td>\n",
              "      <td>4</td>\n",
              "      <td>4</td>\n",
              "      <td>4</td>\n",
              "      <td>1</td>\n",
              "      <td>4</td>\n",
              "      <td>4</td>\n",
              "      <td>4</td>\n",
              "      <td>...</td>\n",
              "      <td>4</td>\n",
              "      <td>4</td>\n",
              "      <td>0</td>\n",
              "      <td>2</td>\n",
              "      <td>0</td>\n",
              "      <td>4</td>\n",
              "      <td>4</td>\n",
              "      <td>4</td>\n",
              "      <td>4</td>\n",
              "      <td>4</td>\n",
              "    </tr>\n",
              "    <tr>\n",
              "      <th>Con</th>\n",
              "      <td>2</td>\n",
              "      <td>2</td>\n",
              "      <td>2</td>\n",
              "      <td>2</td>\n",
              "      <td>2</td>\n",
              "      <td>2</td>\n",
              "      <td>0</td>\n",
              "      <td>2</td>\n",
              "      <td>2</td>\n",
              "      <td>2</td>\n",
              "      <td>...</td>\n",
              "      <td>2</td>\n",
              "      <td>2</td>\n",
              "      <td>0</td>\n",
              "      <td>0</td>\n",
              "      <td>0</td>\n",
              "      <td>2</td>\n",
              "      <td>2</td>\n",
              "      <td>2</td>\n",
              "      <td>2</td>\n",
              "      <td>2</td>\n",
              "    </tr>\n",
              "    <tr>\n",
              "      <th>ConLD</th>\n",
              "      <td>9</td>\n",
              "      <td>9</td>\n",
              "      <td>9</td>\n",
              "      <td>8</td>\n",
              "      <td>9</td>\n",
              "      <td>9</td>\n",
              "      <td>0</td>\n",
              "      <td>9</td>\n",
              "      <td>9</td>\n",
              "      <td>9</td>\n",
              "      <td>...</td>\n",
              "      <td>9</td>\n",
              "      <td>9</td>\n",
              "      <td>0</td>\n",
              "      <td>2</td>\n",
              "      <td>1</td>\n",
              "      <td>9</td>\n",
              "      <td>9</td>\n",
              "      <td>9</td>\n",
              "      <td>9</td>\n",
              "      <td>9</td>\n",
              "    </tr>\n",
              "    <tr>\n",
              "      <th>ConLI</th>\n",
              "      <td>5</td>\n",
              "      <td>5</td>\n",
              "      <td>5</td>\n",
              "      <td>4</td>\n",
              "      <td>5</td>\n",
              "      <td>5</td>\n",
              "      <td>1</td>\n",
              "      <td>5</td>\n",
              "      <td>5</td>\n",
              "      <td>5</td>\n",
              "      <td>...</td>\n",
              "      <td>5</td>\n",
              "      <td>5</td>\n",
              "      <td>0</td>\n",
              "      <td>1</td>\n",
              "      <td>1</td>\n",
              "      <td>5</td>\n",
              "      <td>5</td>\n",
              "      <td>5</td>\n",
              "      <td>5</td>\n",
              "      <td>5</td>\n",
              "    </tr>\n",
              "    <tr>\n",
              "      <th>ConLw</th>\n",
              "      <td>5</td>\n",
              "      <td>5</td>\n",
              "      <td>5</td>\n",
              "      <td>5</td>\n",
              "      <td>5</td>\n",
              "      <td>5</td>\n",
              "      <td>0</td>\n",
              "      <td>5</td>\n",
              "      <td>5</td>\n",
              "      <td>5</td>\n",
              "      <td>...</td>\n",
              "      <td>5</td>\n",
              "      <td>5</td>\n",
              "      <td>0</td>\n",
              "      <td>0</td>\n",
              "      <td>0</td>\n",
              "      <td>5</td>\n",
              "      <td>5</td>\n",
              "      <td>5</td>\n",
              "      <td>5</td>\n",
              "      <td>5</td>\n",
              "    </tr>\n",
              "    <tr>\n",
              "      <th>New</th>\n",
              "      <td>122</td>\n",
              "      <td>122</td>\n",
              "      <td>122</td>\n",
              "      <td>121</td>\n",
              "      <td>122</td>\n",
              "      <td>122</td>\n",
              "      <td>7</td>\n",
              "      <td>122</td>\n",
              "      <td>122</td>\n",
              "      <td>122</td>\n",
              "      <td>...</td>\n",
              "      <td>122</td>\n",
              "      <td>122</td>\n",
              "      <td>1</td>\n",
              "      <td>0</td>\n",
              "      <td>0</td>\n",
              "      <td>122</td>\n",
              "      <td>122</td>\n",
              "      <td>122</td>\n",
              "      <td>122</td>\n",
              "      <td>122</td>\n",
              "    </tr>\n",
              "    <tr>\n",
              "      <th>Oth</th>\n",
              "      <td>3</td>\n",
              "      <td>3</td>\n",
              "      <td>3</td>\n",
              "      <td>3</td>\n",
              "      <td>3</td>\n",
              "      <td>3</td>\n",
              "      <td>0</td>\n",
              "      <td>3</td>\n",
              "      <td>3</td>\n",
              "      <td>3</td>\n",
              "      <td>...</td>\n",
              "      <td>3</td>\n",
              "      <td>3</td>\n",
              "      <td>0</td>\n",
              "      <td>1</td>\n",
              "      <td>1</td>\n",
              "      <td>3</td>\n",
              "      <td>3</td>\n",
              "      <td>3</td>\n",
              "      <td>3</td>\n",
              "      <td>3</td>\n",
              "    </tr>\n",
              "    <tr>\n",
              "      <th>WD</th>\n",
              "      <td>1267</td>\n",
              "      <td>1267</td>\n",
              "      <td>1267</td>\n",
              "      <td>1022</td>\n",
              "      <td>1267</td>\n",
              "      <td>1267</td>\n",
              "      <td>79</td>\n",
              "      <td>1267</td>\n",
              "      <td>1267</td>\n",
              "      <td>1267</td>\n",
              "      <td>...</td>\n",
              "      <td>1267</td>\n",
              "      <td>1267</td>\n",
              "      <td>6</td>\n",
              "      <td>262</td>\n",
              "      <td>49</td>\n",
              "      <td>1267</td>\n",
              "      <td>1267</td>\n",
              "      <td>1267</td>\n",
              "      <td>1267</td>\n",
              "      <td>1267</td>\n",
              "    </tr>\n",
              "  </tbody>\n",
              "</table>\n",
              "<p>9 rows × 80 columns</p>\n",
              "</div>"
            ],
            "text/plain": [
              "            Id  MSSubClass  MSZoning  LotFrontage  LotArea  Street  Alley  \\\n",
              "SaleType                                                                    \n",
              "COD         43          43        43           32       43      43      3   \n",
              "CWD          4           4         4            4        4       4      1   \n",
              "Con          2           2         2            2        2       2      0   \n",
              "ConLD        9           9         9            8        9       9      0   \n",
              "ConLI        5           5         5            4        5       5      1   \n",
              "ConLw        5           5         5            5        5       5      0   \n",
              "New        122         122       122          121      122     122      7   \n",
              "Oth          3           3         3            3        3       3      0   \n",
              "WD        1267        1267      1267         1022     1267    1267     79   \n",
              "\n",
              "          LotShape  LandContour  Utilities    ...      ScreenPorch  PoolArea  \\\n",
              "SaleType                                      ...                              \n",
              "COD             43           43         43    ...               43        43   \n",
              "CWD              4            4          4    ...                4         4   \n",
              "Con              2            2          2    ...                2         2   \n",
              "ConLD            9            9          9    ...                9         9   \n",
              "ConLI            5            5          5    ...                5         5   \n",
              "ConLw            5            5          5    ...                5         5   \n",
              "New            122          122        122    ...              122       122   \n",
              "Oth              3            3          3    ...                3         3   \n",
              "WD            1267         1267       1267    ...             1267      1267   \n",
              "\n",
              "          PoolQC  Fence  MiscFeature  MiscVal  MoSold  YrSold  SaleCondition  \\\n",
              "SaleType                                                                       \n",
              "COD            0     13            2       43      43      43             43   \n",
              "CWD            0      2            0        4       4       4              4   \n",
              "Con            0      0            0        2       2       2              2   \n",
              "ConLD          0      2            1        9       9       9              9   \n",
              "ConLI          0      1            1        5       5       5              5   \n",
              "ConLw          0      0            0        5       5       5              5   \n",
              "New            1      0            0      122     122     122            122   \n",
              "Oth            0      1            1        3       3       3              3   \n",
              "WD             6    262           49     1267    1267    1267           1267   \n",
              "\n",
              "          SalePrice  \n",
              "SaleType             \n",
              "COD              43  \n",
              "CWD               4  \n",
              "Con               2  \n",
              "ConLD             9  \n",
              "ConLI             5  \n",
              "ConLw             5  \n",
              "New             122  \n",
              "Oth               3  \n",
              "WD             1267  \n",
              "\n",
              "[9 rows x 80 columns]"
            ]
          },
          "metadata": {
            "tags": []
          },
          "execution_count": 117
        }
      ]
    },
    {
      "metadata": {
        "_uuid": "8b545ff7e8367c5ab9c1db710f70b6936ac8422c",
        "id": "Nc1HXydv-A9O",
        "colab_type": "code",
        "outputId": "5608646e-36b0-4d0c-8eab-cbc89255c7c5",
        "colab": {
          "base_uri": "https://localhost:8080/",
          "height": 160
        }
      },
      "cell_type": "code",
      "source": [
        "train[train['SalePrice']>700000]"
      ],
      "execution_count": 0,
      "outputs": [
        {
          "output_type": "execute_result",
          "data": {
            "text/html": [
              "<div>\n",
              "<style scoped>\n",
              "    .dataframe tbody tr th:only-of-type {\n",
              "        vertical-align: middle;\n",
              "    }\n",
              "\n",
              "    .dataframe tbody tr th {\n",
              "        vertical-align: top;\n",
              "    }\n",
              "\n",
              "    .dataframe thead th {\n",
              "        text-align: right;\n",
              "    }\n",
              "</style>\n",
              "<table border=\"1\" class=\"dataframe\">\n",
              "  <thead>\n",
              "    <tr style=\"text-align: right;\">\n",
              "      <th></th>\n",
              "      <th>Id</th>\n",
              "      <th>MSSubClass</th>\n",
              "      <th>MSZoning</th>\n",
              "      <th>LotFrontage</th>\n",
              "      <th>LotArea</th>\n",
              "      <th>Street</th>\n",
              "      <th>Alley</th>\n",
              "      <th>LotShape</th>\n",
              "      <th>LandContour</th>\n",
              "      <th>Utilities</th>\n",
              "      <th>...</th>\n",
              "      <th>PoolArea</th>\n",
              "      <th>PoolQC</th>\n",
              "      <th>Fence</th>\n",
              "      <th>MiscFeature</th>\n",
              "      <th>MiscVal</th>\n",
              "      <th>MoSold</th>\n",
              "      <th>YrSold</th>\n",
              "      <th>SaleType</th>\n",
              "      <th>SaleCondition</th>\n",
              "      <th>SalePrice</th>\n",
              "    </tr>\n",
              "  </thead>\n",
              "  <tbody>\n",
              "    <tr>\n",
              "      <th>691</th>\n",
              "      <td>692</td>\n",
              "      <td>60</td>\n",
              "      <td>RL</td>\n",
              "      <td>104.000</td>\n",
              "      <td>21535</td>\n",
              "      <td>Pave</td>\n",
              "      <td>NaN</td>\n",
              "      <td>IR1</td>\n",
              "      <td>Lvl</td>\n",
              "      <td>AllPub</td>\n",
              "      <td>...</td>\n",
              "      <td>0</td>\n",
              "      <td>NaN</td>\n",
              "      <td>NaN</td>\n",
              "      <td>NaN</td>\n",
              "      <td>0</td>\n",
              "      <td>1</td>\n",
              "      <td>2007</td>\n",
              "      <td>WD</td>\n",
              "      <td>Normal</td>\n",
              "      <td>755000</td>\n",
              "    </tr>\n",
              "    <tr>\n",
              "      <th>1182</th>\n",
              "      <td>1183</td>\n",
              "      <td>60</td>\n",
              "      <td>RL</td>\n",
              "      <td>160.000</td>\n",
              "      <td>15623</td>\n",
              "      <td>Pave</td>\n",
              "      <td>NaN</td>\n",
              "      <td>IR1</td>\n",
              "      <td>Lvl</td>\n",
              "      <td>AllPub</td>\n",
              "      <td>...</td>\n",
              "      <td>555</td>\n",
              "      <td>Ex</td>\n",
              "      <td>MnPrv</td>\n",
              "      <td>NaN</td>\n",
              "      <td>0</td>\n",
              "      <td>7</td>\n",
              "      <td>2007</td>\n",
              "      <td>WD</td>\n",
              "      <td>Abnorml</td>\n",
              "      <td>745000</td>\n",
              "    </tr>\n",
              "  </tbody>\n",
              "</table>\n",
              "<p>2 rows × 81 columns</p>\n",
              "</div>"
            ],
            "text/plain": [
              "        Id  MSSubClass MSZoning  LotFrontage  LotArea Street Alley LotShape  \\\n",
              "691    692          60       RL      104.000    21535   Pave   NaN      IR1   \n",
              "1182  1183          60       RL      160.000    15623   Pave   NaN      IR1   \n",
              "\n",
              "     LandContour Utilities    ...     PoolArea PoolQC  Fence MiscFeature  \\\n",
              "691          Lvl    AllPub    ...            0    NaN    NaN         NaN   \n",
              "1182         Lvl    AllPub    ...          555     Ex  MnPrv         NaN   \n",
              "\n",
              "     MiscVal MoSold YrSold  SaleType  SaleCondition  SalePrice  \n",
              "691        0      1   2007        WD         Normal     755000  \n",
              "1182       0      7   2007        WD        Abnorml     745000  \n",
              "\n",
              "[2 rows x 81 columns]"
            ]
          },
          "metadata": {
            "tags": []
          },
          "execution_count": 118
        }
      ]
    },
    {
      "metadata": {
        "id": "VBzkK2ToAiEi",
        "colab_type": "text"
      },
      "cell_type": "markdown",
      "source": [
        "# Scraping Data (TO CLEAN AND COMPLETE)"
      ]
    },
    {
      "metadata": {
        "id": "BQlB9a7QAmGW",
        "colab_type": "text"
      },
      "cell_type": "markdown",
      "source": [
        " Literature survey\n",
        "\n",
        "  \n",
        "  Step 4: Data cleaning\n",
        "\n",
        "If you speak with anyone who has spent some time in data science, they will always say that most of their time is spent on cleaning the data. Real world data is always messy. Here are a few common discrepancies in most data-sets and some techniques of how to clean them:\n",
        "\n",
        "Missing values Missing values are values that are blank in the data-set. This can be due to various reasons like value being unknown, unrecorded, confidential etc. Since the reason for a value being missing is not clear, it is hard to guess the value.\n",
        "\n",
        "You could try different techniques to impute missing values starting with simple methods like column mean, median etc. and complex methods like using machine leaning models to estimate missing values.\n",
        "\n",
        "Duplicate records The challenge with duplicate records is identifying a record being duplicate. Duplicate records often occur while merging data from multiple sources. It could also occur due to human error. To identify duplicates, you could approximate a numeric values to certain decimal places and for text values, fuzzy matching could be a good start. Identification of duplicates could help the data engineering team to improve collection of data to prevent such errors.\n",
        "\n",
        "Incorrect values Incorrect values are mostly due to human error. For Eg. If there is a field called age and the value is 500, it is clearly wrong. Having domain knowledge of the data will help identify such values. A good technique to identify incorrect values for numerical columns could be to manually look at values beyond 3 standard deviations from the mean to check for correctness.\n",
        "\n",
        "* Integerizing\n",
        "Label Encoding vs One Hot"
      ]
    },
    {
      "metadata": {
        "_uuid": "a13559aa5f98e70d9cab54c714ac299a63b737f4",
        "id": "gv4ZroxB-A9a",
        "colab_type": "text"
      },
      "cell_type": "markdown",
      "source": [
        "#### 6-1-2Select numberical features and categorical features"
      ]
    },
    {
      "metadata": {
        "_uuid": "55651cdda3b812451c08875762b9708155f53ce2",
        "id": "MK6btxp5-A9d",
        "colab_type": "code",
        "colab": {}
      },
      "cell_type": "code",
      "source": [
        "numberic_features=train.select_dtypes(include=[np.number])\n",
        "categorical_features=train.select_dtypes(include=[np.object])"
      ],
      "execution_count": 0,
      "outputs": []
    },
    {
      "metadata": {
        "_uuid": "85d23b77d7fb1bb3e000535dc2475aca5862f242",
        "id": "H0HS6oFp-A9m",
        "colab_type": "text"
      },
      "cell_type": "markdown",
      "source": [
        "#### 6-1-3 Target Value Analysis\n",
        "as you know **SalePrice** is our target value that we should predict it then now we take a look at it"
      ]
    },
    {
      "metadata": {
        "_uuid": "2d891ad744dec398f3920ce0fd9458c00671ed7b",
        "id": "rYzWHBZb-A9t",
        "colab_type": "code",
        "colab": {}
      },
      "cell_type": "code",
      "source": [
        "\n",
        "train['SalePrice'].describe()"
      ],
      "execution_count": 0,
      "outputs": []
    },
    {
      "metadata": {
        "_uuid": "09f6d29aa3a63f1d0d3033e7ef6b544fd8035889",
        "id": "GXpgNLmn-A95",
        "colab_type": "text"
      },
      "cell_type": "markdown",
      "source": [
        "Flexibly plot a univariate distribution of observations.\n",
        "\n"
      ]
    },
    {
      "metadata": {
        "_uuid": "c7dceaddee057bb78a930c519221d3ad43eed360",
        "id": "xQbaMTOE-A98",
        "colab_type": "code",
        "colab": {}
      },
      "cell_type": "code",
      "source": [
        "sns.distplot(train['SalePrice']);\n"
      ],
      "execution_count": 0,
      "outputs": []
    },
    {
      "metadata": {
        "_uuid": "a4fe40f3d3f57bf1369c7b9847c5c05ec704c0b6",
        "id": "HgmutSsY-A-D",
        "colab_type": "code",
        "colab": {}
      },
      "cell_type": "code",
      "source": [
        "#skewness and kurtosis\n",
        "print(\"Skewness: %f\" % train['SalePrice'].skew())\n",
        "print(\"Kurtosis: %f\" % train['SalePrice'].kurt())"
      ],
      "execution_count": 0,
      "outputs": []
    },
    {
      "metadata": {
        "_uuid": "91dda1f631cf4ed362162501aaaac6d19cfd6cc7",
        "id": "XSmkUKIA-BB4",
        "colab_type": "text"
      },
      "cell_type": "markdown",
      "source": [
        "#### 6-3 Data Preprocessing\n",
        "**Data preprocessing** refers to the transformations applied to our data before feeding it to the algorithm.\n",
        " \n",
        "Data Preprocessing is a technique that is used to convert the raw data into a clean data set. In other words, whenever the data is gathered from different sources it is collected in raw format which is not feasible for the analysis.\n",
        "there are plenty of steps for data preprocessing and we just listed some of them :\n",
        "* removing Target column (id)\n",
        "* Sampling (without replacement)\n",
        "* Making part of iris unbalanced and balancing (with undersampling and SMOTE)\n",
        "* Introducing missing values and treating them (replacing by average values)\n",
        "* Noise filtering\n",
        "* Data discretization\n",
        "* Normalization and standardization\n",
        "* PCA analysis\n",
        "* Feature selection (filter, embedded, wrapper)"
      ]
    },
    {
      "metadata": {
        "_uuid": "1f8ae3a438f0fd7104974daa57b42b29f079ec45",
        "id": "gaX5qpEz-BB9",
        "colab_type": "text"
      },
      "cell_type": "markdown",
      "source": [
        "#### 6-3-1 removing ID"
      ]
    },
    {
      "metadata": {
        "_uuid": "3487e242b0c6ef83c93730c1b8eab2e231fff269",
        "id": "Wmwu7Rif-BB_",
        "colab_type": "code",
        "colab": {}
      },
      "cell_type": "code",
      "source": [
        "# Save Id and drop it\n",
        "train_ID=train['Id']\n",
        "test_ID=test['Id']\n",
        "train.drop('Id',axis=1,inplace=True)\n",
        "test.drop('Id',axis=1,inplace=True)"
      ],
      "execution_count": 0,
      "outputs": []
    },
    {
      "metadata": {
        "_uuid": "247350c88346f931d7987b4aacc3b55cae11d092",
        "id": "QyQ1vj7d-BDI",
        "colab_type": "text"
      },
      "cell_type": "markdown",
      "source": [
        "## 6-3-4 Feature selection\n",
        "let's first concatenate the train and test data in the same dataframe"
      ]
    },
    {
      "metadata": {
        "_uuid": "5584b10a50a819f6e5eb684efa01e69536d6e910",
        "id": "LtsdVVJj-BDL",
        "colab_type": "code",
        "colab": {}
      },
      "cell_type": "code",
      "source": [
        "ntrain = train.shape[0]\n",
        "ntest = test.shape[0]\n",
        "y_train = train.SalePrice.values\n",
        "all_data = pd.concat((train, test)).reset_index(drop=True)\n",
        "all_data.drop(['SalePrice'], axis=1, inplace=True)\n",
        "print(\"all_data size is : {}\".format(all_data.shape))"
      ],
      "execution_count": 0,
      "outputs": []
    },
    {
      "metadata": {
        "_uuid": "58270b83638976da66c1aef6ba97017e01ef6dde",
        "id": "TS6xtGNp-BDQ",
        "colab_type": "text"
      },
      "cell_type": "markdown",
      "source": [
        "#### 6-4 Data Cleaning\n",
        "When dealing with real-world data, dirty data is the norm rather than the exception. We continuously need to predict correct values, impute missing ones, and find links between various data artefacts such as schemas and records. We need to stop treating data cleaning as a piecemeal exercise (resolving different types of errors in isolation), and instead leverage all signals and resources (such as constraints, available statistics, and dictionaries) to accurately predict corrective actions.\n",
        "\n",
        "The primary goal of data cleaning is to detect and remove errors and anomalies to increase the value of data in analytics and decision making. While it has been the focus of many researchers for several years, individual problems have been addressed separately. These include missing value imputation, outliers detection, transformations, integrity constraints violations detection and repair, consistent query answering, deduplication, and many other related problems such as profiling and constraints mining.[8]"
      ]
    },
    {
      "metadata": {
        "_uuid": "4f37f9033ce20f8f60455419038b643e227f4eb7",
        "id": "lpaSn2zO-BDS",
        "colab_type": "code",
        "colab": {}
      },
      "cell_type": "code",
      "source": [
        "all_data_na = (all_data.isnull().sum() / len(all_data)) * 100\n",
        "all_data_na = all_data_na.drop(all_data_na[all_data_na == 0].index).sort_values(ascending=False)[:30]\n",
        "missing_data = pd.DataFrame({'Missing Ratio' :all_data_na})\n",
        "missing_data"
      ],
      "execution_count": 0,
      "outputs": []
    },
    {
      "metadata": {
        "_uuid": "bcf718ed92a7d790f04ebcb5fe493109ad9a0d2d",
        "id": "Go9qhj_v-BDY",
        "colab_type": "code",
        "colab": {}
      },
      "cell_type": "code",
      "source": [
        "f, ax = plt.subplots(figsize=(15, 12))\n",
        "plt.xticks(rotation='90')\n",
        "sns.barplot(x=all_data_na.index, y=all_data_na)\n",
        "plt.xlabel('Features', fontsize=15)\n",
        "plt.ylabel('Percent of missing values', fontsize=15)\n",
        "plt.title('Percent missing data by feature', fontsize=15)"
      ],
      "execution_count": 0,
      "outputs": []
    },
    {
      "metadata": {
        "_uuid": "acebef6cacdb2d377f8c66e15781021b4dd623bd",
        "id": "gRVfGLui-BDj",
        "colab_type": "text"
      },
      "cell_type": "markdown",
      "source": [
        "#### 6-4-1 Imputing missing values"
      ]
    },
    {
      "metadata": {
        "_uuid": "f4d374f64c50c29c534e286798033fd4586c929a",
        "id": "bszqbIJv-BDo",
        "colab_type": "text"
      },
      "cell_type": "markdown",
      "source": [
        "We impute them by proceeding sequentially through features with missing values\n",
        "\n",
        "PoolQC : data description says NA means \"No Pool\". That make sense, given the huge ratio of missing value (+99%) and majority of houses have no Pool at all in general. "
      ]
    },
    {
      "metadata": {
        "_uuid": "cb7ae811b45fd5288639b3933a7cb76117d9e918",
        "id": "rzQUeGr2-BDq",
        "colab_type": "code",
        "colab": {}
      },
      "cell_type": "code",
      "source": [
        "all_data[\"PoolQC\"] = all_data[\"PoolQC\"].fillna(\"None\")"
      ],
      "execution_count": 0,
      "outputs": []
    },
    {
      "metadata": {
        "_uuid": "a698f185d0bc10d50adad032d5aa4df6e971fc42",
        "id": "N_2Uaz0R-BDv",
        "colab_type": "text"
      },
      "cell_type": "markdown",
      "source": [
        "MiscFeature : data description says NA means \"no misc feature\""
      ]
    },
    {
      "metadata": {
        "_uuid": "63c20b645a9b8885ed0421ab0fbe4f7e762c1e80",
        "id": "IVVoHGC6-BDy",
        "colab_type": "code",
        "colab": {}
      },
      "cell_type": "code",
      "source": [
        "all_data[\"MiscFeature\"] = all_data[\"MiscFeature\"].fillna(\"None\")"
      ],
      "execution_count": 0,
      "outputs": []
    },
    {
      "metadata": {
        "_uuid": "6d8cdccabe631475c6911ff2ddacb0c8c0bb099d",
        "id": "wXe5LszA-BD6",
        "colab_type": "text"
      },
      "cell_type": "markdown",
      "source": [
        "Alley : data description says NA means \"no alley access\""
      ]
    },
    {
      "metadata": {
        "_uuid": "d513b815317dfa095ca32de6158fe34e3d8b630a",
        "id": "piKpwEuc-BD7",
        "colab_type": "code",
        "colab": {}
      },
      "cell_type": "code",
      "source": [
        "all_data[\"Alley\"] = all_data[\"Alley\"].fillna(\"None\")"
      ],
      "execution_count": 0,
      "outputs": []
    },
    {
      "metadata": {
        "_uuid": "8df3b4eafb903e8961425d37f5a956f748454049",
        "id": "Wm0tNgwn-BEA",
        "colab_type": "text"
      },
      "cell_type": "markdown",
      "source": [
        "Fence : data description says NA means \"no fence\""
      ]
    },
    {
      "metadata": {
        "_uuid": "ca718d780d6523767d8721ffe2a5776f3318c21e",
        "colab_type": "code",
        "id": "4ZzE8ydwksOD",
        "colab": {}
      },
      "cell_type": "code",
      "source": [
        "all_data[\"Fence\"] = all_data[\"Fence\"].fillna(\"None\")"
      ],
      "execution_count": 0,
      "outputs": []
    },
    {
      "metadata": {
        "_uuid": "c00dc7a0fee9e12df4b679ce15acc0b68bdb9269",
        "id": "Lhbwf1XK-BEJ",
        "colab_type": "text"
      },
      "cell_type": "markdown",
      "source": [
        "FireplaceQu : data description says NA means \"no fireplace\""
      ]
    },
    {
      "metadata": {
        "_uuid": "d264ec2eda6739c5468edec9524fbc88545ab023",
        "id": "9qIwnp_z-BEL",
        "colab_type": "text"
      },
      "cell_type": "markdown",
      "source": [
        "LotFrontage : Since the area of each street connected to the house property most likely have a similar area to other houses in its neighborhood , we can fill in missing values by the median LotFrontage of the neighborhood."
      ]
    },
    {
      "metadata": {
        "_uuid": "043fd8463ce9e9ce9a204c36793cacb0bc9e7da7",
        "id": "rwhC-Oaq-BEN",
        "colab_type": "code",
        "colab": {}
      },
      "cell_type": "code",
      "source": [
        "#Group by neighborhood and fill in missing value by the median LotFrontage of all the neighborhood\n",
        "all_data[\"LotFrontage\"] = all_data.groupby(\"Neighborhood\")[\"LotFrontage\"].transform(\n",
        "    lambda x: x.fillna(x.median()))"
      ],
      "execution_count": 0,
      "outputs": []
    },
    {
      "metadata": {
        "_uuid": "a3de6297ee4b1c8aa191f371b7c4439c44dc6d17",
        "id": "MF5GBP6l-BER",
        "colab_type": "text"
      },
      "cell_type": "markdown",
      "source": [
        "GarageType, GarageFinish, GarageQual and GarageCond : Replacing missing data with None"
      ]
    },
    {
      "metadata": {
        "_uuid": "9e891f0e9f74e1c73df4eb4b6998ca0145ef2cf4",
        "id": "p411QF2c-BEU",
        "colab_type": "code",
        "colab": {}
      },
      "cell_type": "code",
      "source": [
        "for col in ('GarageType', 'GarageFinish', 'GarageQual', 'GarageCond'):\n",
        "    all_data[col] = all_data[col].fillna('None')"
      ],
      "execution_count": 0,
      "outputs": []
    },
    {
      "metadata": {
        "_uuid": "e187c90a90d3ef19ad70502804cbf5793811dea6",
        "id": "eaatlfNv-BEZ",
        "colab_type": "text"
      },
      "cell_type": "markdown",
      "source": [
        "GarageYrBlt, GarageArea and GarageCars : Replacing missing data with 0 (Since No garage = no cars in such garage.)"
      ]
    },
    {
      "metadata": {
        "_uuid": "2299992e24897468a34357457ced6e0a48ed4af9",
        "id": "G_z_s73H-BEa",
        "colab_type": "code",
        "colab": {}
      },
      "cell_type": "code",
      "source": [
        "for col in ('GarageYrBlt', 'GarageArea', 'GarageCars'):\n",
        "    all_data[col] = all_data[col].fillna(0)"
      ],
      "execution_count": 0,
      "outputs": []
    },
    {
      "metadata": {
        "_uuid": "a318163bdbb74721c4312ca50f07dc707be96421",
        "id": "pw1XWmtK-BEf",
        "colab_type": "text"
      },
      "cell_type": "markdown",
      "source": [
        "BsmtFinSF1, BsmtFinSF2, BsmtUnfSF, TotalBsmtSF, BsmtFullBath and BsmtHalfBath : missing values are likely zero for having no basement"
      ]
    },
    {
      "metadata": {
        "_uuid": "626a388694a294d0e4a7196c30b78bcdcd76049f",
        "id": "X3PVDXC--BEm",
        "colab_type": "code",
        "colab": {}
      },
      "cell_type": "code",
      "source": [
        "for col in ('BsmtFinSF1', 'BsmtFinSF2', 'BsmtUnfSF','TotalBsmtSF', 'BsmtFullBath', 'BsmtHalfBath'):\n",
        "    all_data[col] = all_data[col].fillna(0)"
      ],
      "execution_count": 0,
      "outputs": []
    },
    {
      "metadata": {
        "_uuid": "f162adc10c70d93058400053d931117ada886366",
        "id": "s2UrLiAi-BEt",
        "colab_type": "text"
      },
      "cell_type": "markdown",
      "source": [
        "BsmtQual, BsmtCond, BsmtExposure, BsmtFinType1 and BsmtFinType2 : For all these categorical basement-related features, NaN means that there is no basement."
      ]
    },
    {
      "metadata": {
        "_uuid": "3837452a0ff8a13fa9a586460de324990cde7681",
        "id": "-QBiNrRr-BEx",
        "colab_type": "code",
        "colab": {}
      },
      "cell_type": "code",
      "source": [
        "for col in ('BsmtQual', 'BsmtCond', 'BsmtExposure', 'BsmtFinType1', 'BsmtFinType2'):\n",
        "    all_data[col] = all_data[col].fillna('None')"
      ],
      "execution_count": 0,
      "outputs": []
    },
    {
      "metadata": {
        "_uuid": "aeb4b6ba3f5dc22d2611fdef40bf013689adf6cc",
        "id": "L99pohj--BE8",
        "colab_type": "text"
      },
      "cell_type": "markdown",
      "source": [
        "MasVnrArea and MasVnrType : NA most likely means no masonry veneer for these houses. We can fill 0 for the area and None for the type. "
      ]
    },
    {
      "metadata": {
        "_uuid": "5943301908ccdbc320559eebe0fa039768f483b0",
        "id": "5UxyZ-89-BE_",
        "colab_type": "code",
        "colab": {}
      },
      "cell_type": "code",
      "source": [
        "all_data[\"MasVnrType\"] = all_data[\"MasVnrType\"].fillna(\"None\")\n",
        "all_data[\"MasVnrArea\"] = all_data[\"MasVnrArea\"].fillna(0)"
      ],
      "execution_count": 0,
      "outputs": []
    },
    {
      "metadata": {
        "_uuid": "6995b801412966716240fedc95de48ff0fc30324",
        "id": "s-o4OuxW-BFJ",
        "colab_type": "text"
      },
      "cell_type": "markdown",
      "source": [
        "MSZoning (The general zoning classification) : 'RL' is by far the most common value. So we can fill in missing values with 'RL'"
      ]
    },
    {
      "metadata": {
        "_uuid": "a3e9c2f67447bdc7bcff9cede08347e57ccd6fc8",
        "id": "tWs8FUzy-BFN",
        "colab_type": "code",
        "colab": {}
      },
      "cell_type": "code",
      "source": [
        "all_data['MSZoning'] = all_data['MSZoning'].fillna(all_data['MSZoning'].mode()[0])"
      ],
      "execution_count": 0,
      "outputs": []
    },
    {
      "metadata": {
        "_uuid": "bbed86b2cc9be58ccc55717819609fa942959c8a",
        "id": "eRnR6xu3-BFS",
        "colab_type": "text"
      },
      "cell_type": "markdown",
      "source": [
        "Functional : data description says NA means typical"
      ]
    },
    {
      "metadata": {
        "_uuid": "27c02c0abbb923d886107d3c905b7445c6be002a",
        "id": "bFdwiRNl-BFT",
        "colab_type": "code",
        "colab": {}
      },
      "cell_type": "code",
      "source": [
        "all_data[\"Functional\"] = all_data[\"Functional\"].fillna(\"Typ\")"
      ],
      "execution_count": 0,
      "outputs": []
    },
    {
      "metadata": {
        "_uuid": "04a55104d376a28fea4b2c266fa85a93e98ffa09",
        "id": "R5IMQEzT-BFY",
        "colab_type": "text"
      },
      "cell_type": "markdown",
      "source": [
        "Electrical : It has one NA value. Since this feature has mostly 'SBrkr', we can set that for the missing value."
      ]
    },
    {
      "metadata": {
        "_uuid": "c3c3270ff082eece4143bc770fc8e47f4d170868",
        "id": "hdEQnzAt-BFb",
        "colab_type": "code",
        "colab": {}
      },
      "cell_type": "code",
      "source": [
        "all_data['Electrical'] = all_data['Electrical'].fillna(all_data['Electrical'].mode()[0])"
      ],
      "execution_count": 0,
      "outputs": []
    },
    {
      "metadata": {
        "_uuid": "a606a784f53964b90f8d24378c29f5260d81d203",
        "id": "mkJpTy7--BFi",
        "colab_type": "text"
      },
      "cell_type": "markdown",
      "source": [
        "KitchenQual: Only one NA value, and same as Electrical, we set 'TA' (which is the most frequent) for the missing value in KitchenQual."
      ]
    },
    {
      "metadata": {
        "_uuid": "b43419729c3a74bcfde64130805fbbd339d80ca0",
        "id": "nlRguvuD-BFl",
        "colab_type": "code",
        "colab": {}
      },
      "cell_type": "code",
      "source": [
        "all_data['KitchenQual'] = all_data['KitchenQual'].fillna(all_data['KitchenQual'].mode()[0])"
      ],
      "execution_count": 0,
      "outputs": []
    },
    {
      "metadata": {
        "_uuid": "c712c673465bed46fca7a5b66d35413fb1ba90d9",
        "id": "ZOAOGT1E-BFw",
        "colab_type": "text"
      },
      "cell_type": "markdown",
      "source": [
        "Exterior1st and Exterior2nd : Again Both Exterior 1 & 2 have only one missing value. We will just substitute in the most common string"
      ]
    },
    {
      "metadata": {
        "_uuid": "7546dfbcafcc04f672654be1408eeb554882aef2",
        "id": "Y3S_-OBo-BFy",
        "colab_type": "code",
        "colab": {}
      },
      "cell_type": "code",
      "source": [
        "\n",
        "all_data['Exterior1st'] = all_data['Exterior1st'].fillna(all_data['Exterior1st'].mode()[0])\n",
        "all_data['Exterior2nd'] = all_data['Exterior2nd'].fillna(all_data['Exterior2nd'].mode()[0])"
      ],
      "execution_count": 0,
      "outputs": []
    },
    {
      "metadata": {
        "_uuid": "c05bad0b6eedbf0ff8942f7662f2749e704e3c5a",
        "id": "FZpbTMYe-BF3",
        "colab_type": "text"
      },
      "cell_type": "markdown",
      "source": [
        "SaleType : Fill in again with most frequent which is \"WD\""
      ]
    },
    {
      "metadata": {
        "_uuid": "60cb2511b84686d61d82a89b3915357eef08cafb",
        "id": "0sWJlaf--BF5",
        "colab_type": "code",
        "colab": {}
      },
      "cell_type": "code",
      "source": [
        "all_data['SaleType'] = all_data['SaleType'].fillna(all_data['SaleType'].mode()[0])"
      ],
      "execution_count": 0,
      "outputs": []
    },
    {
      "metadata": {
        "_uuid": "d4ab263a1327656d5e9cb8d93f05e4438b1447b6",
        "id": "ukpd97nb-BGB",
        "colab_type": "text"
      },
      "cell_type": "markdown",
      "source": [
        "MSSubClass : Na most likely means No building class. We can replace missing values with None"
      ]
    },
    {
      "metadata": {
        "_uuid": "91b32f390489a4bf3002d45a170437cadc0799b6",
        "id": "r0UIl9hB-BGE",
        "colab_type": "code",
        "colab": {}
      },
      "cell_type": "code",
      "source": [
        "all_data['MSSubClass'] = all_data['MSSubClass'].fillna(\"None\")"
      ],
      "execution_count": 0,
      "outputs": []
    },
    {
      "metadata": {
        "_uuid": "fe8d0d7661c16446e9b3f8064ce9a7c9347833c2",
        "id": "eMdolX4C-BGL",
        "colab_type": "text"
      },
      "cell_type": "markdown",
      "source": [
        "FireplaceQu : data description says NA means \"no fireplace\""
      ]
    },
    {
      "metadata": {
        "_uuid": "a641088283207c78240be69c4df50b3199bbc4ac",
        "id": "idAtV1bY-BGL",
        "colab_type": "code",
        "colab": {}
      },
      "cell_type": "code",
      "source": [
        "all_data[\"FireplaceQu\"] = all_data[\"FireplaceQu\"].fillna(\"None\")"
      ],
      "execution_count": 0,
      "outputs": []
    },
    {
      "metadata": {
        "_uuid": "d51b94089f5c8fd6275a3baf26b0af3b71304053",
        "id": "vip3ewSJ-BGQ",
        "colab_type": "text"
      },
      "cell_type": "markdown",
      "source": [
        "Is there any remaining missing value ?"
      ]
    },
    {
      "metadata": {
        "_uuid": "58706fd1525df4334577d7e5c8e502dd745af232",
        "id": "8tOX-ZTB-BGR",
        "colab_type": "code",
        "colab": {}
      },
      "cell_type": "code",
      "source": [
        "#Check remaining missing values if any \n",
        "all_data_na = (all_data.isnull().sum() / len(all_data)) * 100\n",
        "all_data_na = all_data_na.drop(all_data_na[all_data_na == 0].index).sort_values(ascending=False)\n",
        "missing_data = pd.DataFrame({'Missing Ratio' :all_data_na})\n",
        "missing_data.head()"
      ],
      "execution_count": 0,
      "outputs": []
    },
    {
      "metadata": {
        "_uuid": "d41b34f251f139dc614e88b13b6732ff89ab2a7e",
        "id": "fyjS8gln-BGa",
        "colab_type": "text"
      },
      "cell_type": "markdown",
      "source": [
        "#### 6-4-2 More features engeneering\n",
        "\n",
        "Transforming some numerical variables that are really categorical"
      ]
    },
    {
      "metadata": {
        "_uuid": "62cb0d2fdf9f7c43145549f95b50fd3a72645db9",
        "id": "72QMOMMZ-BGb",
        "colab_type": "code",
        "colab": {}
      },
      "cell_type": "code",
      "source": [
        "#MSSubClass=The building class\n",
        "all_data['MSSubClass'] = all_data['MSSubClass'].apply(str)\n",
        "\n",
        "\n",
        "#Changing OverallCond into a categorical variable\n",
        "all_data['OverallCond'] = all_data['OverallCond'].astype(str)\n",
        "\n",
        "\n",
        "#Year and month sold are transformed into categorical features.\n",
        "all_data['YrSold'] = all_data['YrSold'].astype(str)\n",
        "all_data['MoSold'] = all_data['MoSold'].astype(str)"
      ],
      "execution_count": 0,
      "outputs": []
    },
    {
      "metadata": {
        "_uuid": "8596a40b16f3b2ff70f89e9bf6c96d37d597c0bb",
        "id": "y6Uqac9g-BGk",
        "colab_type": "text"
      },
      "cell_type": "markdown",
      "source": [
        "Label Encoding some categorical variables that may contain information in their ordering set"
      ]
    },
    {
      "metadata": {
        "_uuid": "76dfc757e71406abfe2a46c6f9b5d851833173c8",
        "id": "qZ20XiRo-BGm",
        "colab_type": "code",
        "colab": {}
      },
      "cell_type": "code",
      "source": [
        "from sklearn.preprocessing import LabelEncoder\n",
        "cols = ('FireplaceQu', 'BsmtQual', 'BsmtCond', 'GarageQual', 'GarageCond', \n",
        "        'ExterQual', 'ExterCond','HeatingQC', 'PoolQC', 'KitchenQual', 'BsmtFinType1', \n",
        "        'BsmtFinType2', 'Functional', 'Fence', 'BsmtExposure', 'GarageFinish', 'LandSlope',\n",
        "        'LotShape', 'PavedDrive', 'Street', 'Alley', 'CentralAir', 'MSSubClass', 'OverallCond', \n",
        "        'YrSold', 'MoSold')\n",
        "# process columns, apply LabelEncoder to categorical features\n",
        "for c in cols:\n",
        "    lbl = LabelEncoder() \n",
        "    lbl.fit(list(all_data[c].values)) \n",
        "    all_data[c] = lbl.transform(list(all_data[c].values))\n",
        "\n",
        "# shape        \n",
        "print('Shape all_data: {}'.format(all_data.shape))\n",
        "print(all_data)"
      ],
      "execution_count": 0,
      "outputs": []
    },
    {
      "metadata": {
        "_uuid": "1323b314e494ba961bd78e1d37b66fd1b04b4848",
        "id": "iWd_17cn-BGs",
        "colab_type": "text"
      },
      "cell_type": "markdown",
      "source": [
        "Adding one more important feature"
      ]
    },
    {
      "metadata": {
        "_uuid": "f06c3bf68559168f99b3e6d986555957871621c5",
        "id": "3oLBFrAx-BGu",
        "colab_type": "text"
      },
      "cell_type": "markdown",
      "source": [
        "Since area related features are very important to determine house prices, we add one more feature which is the total area of basement, first and second floor areas of each house"
      ]
    },
    {
      "metadata": {
        "_uuid": "fd970993e0049ba8f5b5e245e59667a264a1c2ab",
        "colab_type": "text",
        "id": "phaVbqYI8hX3"
      },
      "cell_type": "markdown",
      "source": [
        "#### 6-5 Skewed features"
      ]
    },
    {
      "metadata": {
        "_uuid": "e6084e1a715325e47d110bb30aed9b662b205444",
        "colab_type": "code",
        "id": "5Z2_3Igg8hX5",
        "colab": {}
      },
      "cell_type": "code",
      "source": [
        "numeric_feats = all_data.dtypes[all_data.dtypes != \"object\"].index\n",
        "\n",
        "# Check the skew of all numerical features\n",
        "skewed_feats = all_data[numeric_feats].apply(lambda x: skew(x.dropna())).sort_values(ascending=False)\n",
        "print(\"\\nSkew in numerical features: \\n\")\n",
        "skewness = pd.DataFrame({'Skew' :skewed_feats})\n",
        "skewness.head(10)"
      ],
      "execution_count": 0,
      "outputs": []
    },
    {
      "metadata": {
        "_uuid": "dfa3549f9cca97eb1d11cc398b24f4c2f3bcc6e1",
        "colab_type": "text",
        "id": "lqGUAe8N8hX8"
      },
      "cell_type": "markdown",
      "source": [
        "Box Cox Transformation of (highly) skewed features\n",
        "\n",
        "We use the scipy function boxcox1p which computes the Box-Cox transformation of \n",
        "1+x\n",
        "1+x\n",
        ".\n",
        "Note that setting \n",
        "λ=0\n",
        "λ=0\n",
        "is equivalent to log1p used above for the target variable.\n",
        "See this page for more details on Box Cox Transformation as well as the scipy function's page"
      ]
    },
    {
      "metadata": {
        "_uuid": "cf4f2d574d61654a43bd5d51e905a43bee1a8a63",
        "colab_type": "code",
        "id": "aXyw0bCT8hX-",
        "colab": {}
      },
      "cell_type": "code",
      "source": [
        "skewness = skewness[abs(skewness) > 0.75]\n",
        "print(\"There are {} skewed numerical features to Box Cox transform\".format(skewness.shape[0]))\n",
        "\n",
        "from scipy.special import boxcox1p\n",
        "skewed_features = skewness.index\n",
        "lam = 0.15\n",
        "for feat in skewed_features:\n",
        "    #all_data[feat] += 1\n",
        "    all_data[feat] = boxcox1p(all_data[feat], lam)\n",
        "    \n",
        "#all_data[skewed_features] = np.log1p(all_data[skewed_features])"
      ],
      "execution_count": 0,
      "outputs": []
    },
    {
      "metadata": {
        "_uuid": "8a5c392b2a526da1525c8a932371b09e7d17e72d",
        "colab_type": "text",
        "id": "xwL319NS8hYB"
      },
      "cell_type": "markdown",
      "source": [
        "Getting dummy categorical features"
      ]
    },
    {
      "metadata": {
        "_uuid": "289cf5d2051cdc8ecaf6c65526ddb57ca400a28a",
        "colab_type": "code",
        "id": "SZIQr8PD8hYD",
        "colab": {}
      },
      "cell_type": "code",
      "source": [
        "all_data = pd.get_dummies(all_data)\n",
        "print(all_data.shape)"
      ],
      "execution_count": 0,
      "outputs": []
    },
    {
      "metadata": {
        "_uuid": "bf69a592a66f806c9609d5d541701f8f94248531",
        "colab_type": "text",
        "id": "O6kgkDvG8hYH"
      },
      "cell_type": "markdown",
      "source": [
        "Getting the new train and test sets."
      ]
    }
  ]
}