{
 "cells": [
  {
   "cell_type": "markdown",
   "metadata": {},
   "source": [
    "# DataSci Summaritive File\n",
    "**Matteo Esposito | August 2018**"
   ]
  },
  {
   "cell_type": "markdown",
   "metadata": {
    "heading_collapsed": true
   },
   "source": [
    "## Packages"
   ]
  },
  {
   "cell_type": "code",
   "execution_count": 1,
   "metadata": {
    "hidden": true
   },
   "outputs": [],
   "source": [
    "import numpy as np\n",
    "import pandas as pd\n",
    "import matplotlib as plt\n",
    "import os\n",
    "%matplotlib inline"
   ]
  },
  {
   "cell_type": "markdown",
   "metadata": {
    "hidden": true
   },
   "source": [
    "### os"
   ]
  },
  {
   "cell_type": "code",
   "execution_count": 2,
   "metadata": {
    "hidden": true
   },
   "outputs": [],
   "source": [
    "# Change working directory and load in data\n",
    "os.chdir(\"/Users/Matteo/Github/PyProjects/data/\")\n",
    "df = pd.read_csv(\"wc_matches.csv\")"
   ]
  },
  {
   "cell_type": "markdown",
   "metadata": {
    "hidden": true
   },
   "source": [
    "### numpy"
   ]
  },
  {
   "cell_type": "code",
   "execution_count": 3,
   "metadata": {
    "collapsed": true,
    "hidden": true
   },
   "outputs": [
    {
     "name": "stdout",
     "output_type": "stream",
     "text": [
      "<class 'pandas.core.frame.DataFrame'>\n",
      "RangeIndex: 64 entries, 0 to 63\n",
      "Data columns (total 20 columns):\n",
      "date           64 non-null object\n",
      "league_id      64 non-null int64\n",
      "league         64 non-null object\n",
      "team1          64 non-null object\n",
      "team2          64 non-null object\n",
      "spi1           64 non-null float64\n",
      "spi2           64 non-null float64\n",
      "prob1          64 non-null float64\n",
      "prob2          64 non-null float64\n",
      "probtie        64 non-null float64\n",
      "proj_score1    64 non-null float64\n",
      "proj_score2    64 non-null float64\n",
      "score1         64 non-null int64\n",
      "score2         64 non-null int64\n",
      "xg1            64 non-null float64\n",
      "xg2            64 non-null float64\n",
      "nsxg1          64 non-null float64\n",
      "nsxg2          64 non-null float64\n",
      "adj_score1     64 non-null float64\n",
      "adj_score2     64 non-null float64\n",
      "dtypes: float64(13), int64(3), object(4)\n",
      "memory usage: 10.1+ KB\n"
     ]
    }
   ],
   "source": [
    "df.head()\n",
    "df.describe()\n",
    "df.info()"
   ]
  },
  {
   "cell_type": "code",
   "execution_count": 4,
   "metadata": {
    "hidden": true
   },
   "outputs": [
    {
     "data": {
      "text/html": [
       "<div>\n",
       "<style scoped>\n",
       "    .dataframe tbody tr th:only-of-type {\n",
       "        vertical-align: middle;\n",
       "    }\n",
       "\n",
       "    .dataframe tbody tr th {\n",
       "        vertical-align: top;\n",
       "    }\n",
       "\n",
       "    .dataframe thead th {\n",
       "        text-align: right;\n",
       "    }\n",
       "</style>\n",
       "<table border=\"1\" class=\"dataframe\">\n",
       "  <thead>\n",
       "    <tr style=\"text-align: right;\">\n",
       "      <th></th>\n",
       "      <th>date</th>\n",
       "      <th>league_id</th>\n",
       "      <th>league</th>\n",
       "      <th>team1</th>\n",
       "      <th>team2</th>\n",
       "      <th>spi1</th>\n",
       "      <th>spi2</th>\n",
       "      <th>prob1</th>\n",
       "      <th>prob2</th>\n",
       "      <th>probtie</th>\n",
       "      <th>proj_score1</th>\n",
       "      <th>proj_score2</th>\n",
       "      <th>score1</th>\n",
       "      <th>score2</th>\n",
       "      <th>xg1</th>\n",
       "      <th>xg2</th>\n",
       "      <th>nsxg1</th>\n",
       "      <th>nsxg2</th>\n",
       "      <th>adj_score1</th>\n",
       "      <th>adj_score2</th>\n",
       "    </tr>\n",
       "  </thead>\n",
       "  <tbody>\n",
       "    <tr>\n",
       "      <th>0</th>\n",
       "      <td>2018-06-14</td>\n",
       "      <td>1908</td>\n",
       "      <td>FIFA World Cup</td>\n",
       "      <td>Russia</td>\n",
       "      <td>Saudi Arabia</td>\n",
       "      <td>70.14</td>\n",
       "      <td>51.33</td>\n",
       "      <td>0.6615</td>\n",
       "      <td>0.1200</td>\n",
       "      <td>0.2184</td>\n",
       "      <td>2.03</td>\n",
       "      <td>0.73</td>\n",
       "      <td>5</td>\n",
       "      <td>0</td>\n",
       "      <td>1.62</td>\n",
       "      <td>0.20</td>\n",
       "      <td>1.55</td>\n",
       "      <td>0.11</td>\n",
       "      <td>4.18</td>\n",
       "      <td>0.00</td>\n",
       "    </tr>\n",
       "    <tr>\n",
       "      <th>1</th>\n",
       "      <td>2018-06-15</td>\n",
       "      <td>1908</td>\n",
       "      <td>FIFA World Cup</td>\n",
       "      <td>Egypt</td>\n",
       "      <td>Uruguay</td>\n",
       "      <td>62.46</td>\n",
       "      <td>79.52</td>\n",
       "      <td>0.1845</td>\n",
       "      <td>0.5433</td>\n",
       "      <td>0.2723</td>\n",
       "      <td>0.82</td>\n",
       "      <td>1.61</td>\n",
       "      <td>0</td>\n",
       "      <td>1</td>\n",
       "      <td>0.42</td>\n",
       "      <td>1.94</td>\n",
       "      <td>0.65</td>\n",
       "      <td>1.94</td>\n",
       "      <td>0.00</td>\n",
       "      <td>1.05</td>\n",
       "    </tr>\n",
       "    <tr>\n",
       "      <th>2</th>\n",
       "      <td>2018-06-15</td>\n",
       "      <td>1908</td>\n",
       "      <td>FIFA World Cup</td>\n",
       "      <td>Morocco</td>\n",
       "      <td>Iran</td>\n",
       "      <td>72.33</td>\n",
       "      <td>65.57</td>\n",
       "      <td>0.4004</td>\n",
       "      <td>0.2667</td>\n",
       "      <td>0.3330</td>\n",
       "      <td>1.13</td>\n",
       "      <td>0.86</td>\n",
       "      <td>0</td>\n",
       "      <td>1</td>\n",
       "      <td>0.86</td>\n",
       "      <td>0.72</td>\n",
       "      <td>0.57</td>\n",
       "      <td>0.36</td>\n",
       "      <td>0.00</td>\n",
       "      <td>1.05</td>\n",
       "    </tr>\n",
       "  </tbody>\n",
       "</table>\n",
       "</div>"
      ],
      "text/plain": [
       "         date  league_id          league    team1         team2   spi1   spi2  \\\n",
       "0  2018-06-14       1908  FIFA World Cup   Russia  Saudi Arabia  70.14  51.33   \n",
       "1  2018-06-15       1908  FIFA World Cup    Egypt       Uruguay  62.46  79.52   \n",
       "2  2018-06-15       1908  FIFA World Cup  Morocco          Iran  72.33  65.57   \n",
       "\n",
       "    prob1   prob2  probtie  proj_score1  proj_score2  score1  score2   xg1  \\\n",
       "0  0.6615  0.1200   0.2184         2.03         0.73       5       0  1.62   \n",
       "1  0.1845  0.5433   0.2723         0.82         1.61       0       1  0.42   \n",
       "2  0.4004  0.2667   0.3330         1.13         0.86       0       1  0.86   \n",
       "\n",
       "    xg2  nsxg1  nsxg2  adj_score1  adj_score2  \n",
       "0  0.20   1.55   0.11        4.18        0.00  \n",
       "1  1.94   0.65   1.94        0.00        1.05  \n",
       "2  0.72   0.57   0.36        0.00        1.05  "
      ]
     },
     "execution_count": 4,
     "metadata": {},
     "output_type": "execute_result"
    }
   ],
   "source": [
    "df[:3]"
   ]
  },
  {
   "cell_type": "code",
   "execution_count": 5,
   "metadata": {
    "hidden": true
   },
   "outputs": [
    {
     "data": {
      "text/plain": [
       "20"
      ]
     },
     "execution_count": 5,
     "metadata": {},
     "output_type": "execute_result"
    }
   ],
   "source": [
    "# number of columns\n",
    "df.shape[1]"
   ]
  },
  {
   "cell_type": "code",
   "execution_count": 6,
   "metadata": {
    "hidden": true
   },
   "outputs": [
    {
     "data": {
      "text/plain": [
       "64"
      ]
     },
     "execution_count": 6,
     "metadata": {},
     "output_type": "execute_result"
    }
   ],
   "source": [
    "# number of rows\n",
    "df.shape[0]"
   ]
  },
  {
   "cell_type": "markdown",
   "metadata": {
    "hidden": true
   },
   "source": [
    "### pandas"
   ]
  },
  {
   "cell_type": "code",
   "execution_count": 7,
   "metadata": {
    "hidden": true
   },
   "outputs": [
    {
     "data": {
      "text/plain": [
       "0      Russia\n",
       "1       Egypt\n",
       "2     Morocco\n",
       "3    Portugal\n",
       "4      France\n",
       "Name: team1, dtype: object"
      ]
     },
     "execution_count": 7,
     "metadata": {},
     "output_type": "execute_result"
    }
   ],
   "source": [
    "df[\"team1\"].head()"
   ]
  },
  {
   "cell_type": "code",
   "execution_count": 8,
   "metadata": {
    "hidden": true
   },
   "outputs": [
    {
     "data": {
      "text/html": [
       "<div>\n",
       "<style scoped>\n",
       "    .dataframe tbody tr th:only-of-type {\n",
       "        vertical-align: middle;\n",
       "    }\n",
       "\n",
       "    .dataframe tbody tr th {\n",
       "        vertical-align: top;\n",
       "    }\n",
       "\n",
       "    .dataframe thead th {\n",
       "        text-align: right;\n",
       "    }\n",
       "</style>\n",
       "<table border=\"1\" class=\"dataframe\">\n",
       "  <thead>\n",
       "    <tr style=\"text-align: right;\">\n",
       "      <th></th>\n",
       "      <th>team1</th>\n",
       "      <th>team2</th>\n",
       "    </tr>\n",
       "  </thead>\n",
       "  <tbody>\n",
       "    <tr>\n",
       "      <th>0</th>\n",
       "      <td>Russia</td>\n",
       "      <td>Saudi Arabia</td>\n",
       "    </tr>\n",
       "    <tr>\n",
       "      <th>1</th>\n",
       "      <td>Egypt</td>\n",
       "      <td>Uruguay</td>\n",
       "    </tr>\n",
       "    <tr>\n",
       "      <th>2</th>\n",
       "      <td>Morocco</td>\n",
       "      <td>Iran</td>\n",
       "    </tr>\n",
       "    <tr>\n",
       "      <th>3</th>\n",
       "      <td>Portugal</td>\n",
       "      <td>Spain</td>\n",
       "    </tr>\n",
       "    <tr>\n",
       "      <th>4</th>\n",
       "      <td>France</td>\n",
       "      <td>Australia</td>\n",
       "    </tr>\n",
       "  </tbody>\n",
       "</table>\n",
       "</div>"
      ],
      "text/plain": [
       "      team1         team2\n",
       "0    Russia  Saudi Arabia\n",
       "1     Egypt       Uruguay\n",
       "2   Morocco          Iran\n",
       "3  Portugal         Spain\n",
       "4    France     Australia"
      ]
     },
     "execution_count": 8,
     "metadata": {},
     "output_type": "execute_result"
    }
   ],
   "source": [
    "df[[\"team1\",\"team2\"]].head()"
   ]
  },
  {
   "cell_type": "code",
   "execution_count": 9,
   "metadata": {
    "hidden": true
   },
   "outputs": [
    {
     "data": {
      "text/html": [
       "<div>\n",
       "<style scoped>\n",
       "    .dataframe tbody tr th:only-of-type {\n",
       "        vertical-align: middle;\n",
       "    }\n",
       "\n",
       "    .dataframe tbody tr th {\n",
       "        vertical-align: top;\n",
       "    }\n",
       "\n",
       "    .dataframe thead th {\n",
       "        text-align: right;\n",
       "    }\n",
       "</style>\n",
       "<table border=\"1\" class=\"dataframe\">\n",
       "  <thead>\n",
       "    <tr style=\"text-align: right;\">\n",
       "      <th></th>\n",
       "      <th>date</th>\n",
       "      <th>league_id</th>\n",
       "      <th>league</th>\n",
       "      <th>team2</th>\n",
       "      <th>spi1</th>\n",
       "      <th>spi2</th>\n",
       "      <th>prob1</th>\n",
       "      <th>prob2</th>\n",
       "      <th>probtie</th>\n",
       "      <th>proj_score1</th>\n",
       "      <th>proj_score2</th>\n",
       "      <th>score1</th>\n",
       "      <th>score2</th>\n",
       "      <th>xg1</th>\n",
       "      <th>xg2</th>\n",
       "      <th>nsxg1</th>\n",
       "      <th>nsxg2</th>\n",
       "      <th>adj_score1</th>\n",
       "      <th>adj_score2</th>\n",
       "    </tr>\n",
       "  </thead>\n",
       "  <tbody>\n",
       "    <tr>\n",
       "      <th>0</th>\n",
       "      <td>2018-06-14</td>\n",
       "      <td>1908</td>\n",
       "      <td>FIFA World Cup</td>\n",
       "      <td>Saudi Arabia</td>\n",
       "      <td>70.14</td>\n",
       "      <td>51.33</td>\n",
       "      <td>0.6615</td>\n",
       "      <td>0.1200</td>\n",
       "      <td>0.2184</td>\n",
       "      <td>2.03</td>\n",
       "      <td>0.73</td>\n",
       "      <td>5</td>\n",
       "      <td>0</td>\n",
       "      <td>1.62</td>\n",
       "      <td>0.20</td>\n",
       "      <td>1.55</td>\n",
       "      <td>0.11</td>\n",
       "      <td>4.18</td>\n",
       "      <td>0.00</td>\n",
       "    </tr>\n",
       "    <tr>\n",
       "      <th>1</th>\n",
       "      <td>2018-06-15</td>\n",
       "      <td>1908</td>\n",
       "      <td>FIFA World Cup</td>\n",
       "      <td>Uruguay</td>\n",
       "      <td>62.46</td>\n",
       "      <td>79.52</td>\n",
       "      <td>0.1845</td>\n",
       "      <td>0.5433</td>\n",
       "      <td>0.2723</td>\n",
       "      <td>0.82</td>\n",
       "      <td>1.61</td>\n",
       "      <td>0</td>\n",
       "      <td>1</td>\n",
       "      <td>0.42</td>\n",
       "      <td>1.94</td>\n",
       "      <td>0.65</td>\n",
       "      <td>1.94</td>\n",
       "      <td>0.00</td>\n",
       "      <td>1.05</td>\n",
       "    </tr>\n",
       "    <tr>\n",
       "      <th>2</th>\n",
       "      <td>2018-06-15</td>\n",
       "      <td>1908</td>\n",
       "      <td>FIFA World Cup</td>\n",
       "      <td>Iran</td>\n",
       "      <td>72.33</td>\n",
       "      <td>65.57</td>\n",
       "      <td>0.4004</td>\n",
       "      <td>0.2667</td>\n",
       "      <td>0.3330</td>\n",
       "      <td>1.13</td>\n",
       "      <td>0.86</td>\n",
       "      <td>0</td>\n",
       "      <td>1</td>\n",
       "      <td>0.86</td>\n",
       "      <td>0.72</td>\n",
       "      <td>0.57</td>\n",
       "      <td>0.36</td>\n",
       "      <td>0.00</td>\n",
       "      <td>1.05</td>\n",
       "    </tr>\n",
       "    <tr>\n",
       "      <th>3</th>\n",
       "      <td>2018-06-15</td>\n",
       "      <td>1908</td>\n",
       "      <td>FIFA World Cup</td>\n",
       "      <td>Spain</td>\n",
       "      <td>83.47</td>\n",
       "      <td>91.30</td>\n",
       "      <td>0.2459</td>\n",
       "      <td>0.4809</td>\n",
       "      <td>0.2732</td>\n",
       "      <td>1.07</td>\n",
       "      <td>1.60</td>\n",
       "      <td>3</td>\n",
       "      <td>3</td>\n",
       "      <td>1.15</td>\n",
       "      <td>1.63</td>\n",
       "      <td>0.80</td>\n",
       "      <td>2.59</td>\n",
       "      <td>3.15</td>\n",
       "      <td>3.15</td>\n",
       "    </tr>\n",
       "    <tr>\n",
       "      <th>4</th>\n",
       "      <td>2018-06-16</td>\n",
       "      <td>1908</td>\n",
       "      <td>FIFA World Cup</td>\n",
       "      <td>Australia</td>\n",
       "      <td>87.18</td>\n",
       "      <td>61.69</td>\n",
       "      <td>0.7694</td>\n",
       "      <td>0.0746</td>\n",
       "      <td>0.1560</td>\n",
       "      <td>2.61</td>\n",
       "      <td>0.69</td>\n",
       "      <td>2</td>\n",
       "      <td>1</td>\n",
       "      <td>1.38</td>\n",
       "      <td>1.03</td>\n",
       "      <td>1.24</td>\n",
       "      <td>0.39</td>\n",
       "      <td>2.10</td>\n",
       "      <td>1.05</td>\n",
       "    </tr>\n",
       "  </tbody>\n",
       "</table>\n",
       "</div>"
      ],
      "text/plain": [
       "         date  league_id          league         team2   spi1   spi2   prob1  \\\n",
       "0  2018-06-14       1908  FIFA World Cup  Saudi Arabia  70.14  51.33  0.6615   \n",
       "1  2018-06-15       1908  FIFA World Cup       Uruguay  62.46  79.52  0.1845   \n",
       "2  2018-06-15       1908  FIFA World Cup          Iran  72.33  65.57  0.4004   \n",
       "3  2018-06-15       1908  FIFA World Cup         Spain  83.47  91.30  0.2459   \n",
       "4  2018-06-16       1908  FIFA World Cup     Australia  87.18  61.69  0.7694   \n",
       "\n",
       "    prob2  probtie  proj_score1  proj_score2  score1  score2   xg1   xg2  \\\n",
       "0  0.1200   0.2184         2.03         0.73       5       0  1.62  0.20   \n",
       "1  0.5433   0.2723         0.82         1.61       0       1  0.42  1.94   \n",
       "2  0.2667   0.3330         1.13         0.86       0       1  0.86  0.72   \n",
       "3  0.4809   0.2732         1.07         1.60       3       3  1.15  1.63   \n",
       "4  0.0746   0.1560         2.61         0.69       2       1  1.38  1.03   \n",
       "\n",
       "   nsxg1  nsxg2  adj_score1  adj_score2  \n",
       "0   1.55   0.11        4.18        0.00  \n",
       "1   0.65   1.94        0.00        1.05  \n",
       "2   0.57   0.36        0.00        1.05  \n",
       "3   0.80   2.59        3.15        3.15  \n",
       "4   1.24   0.39        2.10        1.05  "
      ]
     },
     "execution_count": 9,
     "metadata": {},
     "output_type": "execute_result"
    }
   ],
   "source": [
    "##NOTE: This doesn't remove the column from the table in memory\n",
    "df.drop('team1',axis=1).head() "
   ]
  },
  {
   "cell_type": "code",
   "execution_count": 10,
   "metadata": {
    "hidden": true
   },
   "outputs": [
    {
     "data": {
      "text/plain": [
       "date             2018-06-14\n",
       "league_id              1908\n",
       "league       FIFA World Cup\n",
       "team1                Russia\n",
       "team2          Saudi Arabia\n",
       "Name: 0, dtype: object"
      ]
     },
     "execution_count": 10,
     "metadata": {},
     "output_type": "execute_result"
    }
   ],
   "source": [
    "## Useful if your index is not the std. numerical type\n",
    "## i.e. A,B,C,... (label not position)\n",
    "df.iloc[0].head()"
   ]
  },
  {
   "cell_type": "code",
   "execution_count": 11,
   "metadata": {
    "hidden": true
   },
   "outputs": [
    {
     "data": {
      "text/plain": [
       "date             2018-06-14\n",
       "league_id              1908\n",
       "league       FIFA World Cup\n",
       "team1                Russia\n",
       "team2          Saudi Arabia\n",
       "Name: 0, dtype: object"
      ]
     },
     "execution_count": 11,
     "metadata": {},
     "output_type": "execute_result"
    }
   ],
   "source": [
    "df.loc[0].head()"
   ]
  },
  {
   "cell_type": "code",
   "execution_count": 12,
   "metadata": {
    "hidden": true
   },
   "outputs": [
    {
     "data": {
      "text/html": [
       "<div>\n",
       "<style scoped>\n",
       "    .dataframe tbody tr th:only-of-type {\n",
       "        vertical-align: middle;\n",
       "    }\n",
       "\n",
       "    .dataframe tbody tr th {\n",
       "        vertical-align: top;\n",
       "    }\n",
       "\n",
       "    .dataframe thead th {\n",
       "        text-align: right;\n",
       "    }\n",
       "</style>\n",
       "<table border=\"1\" class=\"dataframe\">\n",
       "  <thead>\n",
       "    <tr style=\"text-align: right;\">\n",
       "      <th></th>\n",
       "      <th>index</th>\n",
       "      <th>date</th>\n",
       "      <th>league_id</th>\n",
       "      <th>league</th>\n",
       "      <th>team1</th>\n",
       "      <th>team2</th>\n",
       "      <th>spi1</th>\n",
       "      <th>spi2</th>\n",
       "      <th>prob1</th>\n",
       "      <th>prob2</th>\n",
       "      <th>...</th>\n",
       "      <th>proj_score1</th>\n",
       "      <th>proj_score2</th>\n",
       "      <th>score1</th>\n",
       "      <th>score2</th>\n",
       "      <th>xg1</th>\n",
       "      <th>xg2</th>\n",
       "      <th>nsxg1</th>\n",
       "      <th>nsxg2</th>\n",
       "      <th>adj_score1</th>\n",
       "      <th>adj_score2</th>\n",
       "    </tr>\n",
       "  </thead>\n",
       "  <tbody>\n",
       "    <tr>\n",
       "      <th>0</th>\n",
       "      <td>0</td>\n",
       "      <td>2018-06-14</td>\n",
       "      <td>1908</td>\n",
       "      <td>FIFA World Cup</td>\n",
       "      <td>Russia</td>\n",
       "      <td>Saudi Arabia</td>\n",
       "      <td>70.14</td>\n",
       "      <td>51.33</td>\n",
       "      <td>0.6615</td>\n",
       "      <td>0.1200</td>\n",
       "      <td>...</td>\n",
       "      <td>2.03</td>\n",
       "      <td>0.73</td>\n",
       "      <td>5</td>\n",
       "      <td>0</td>\n",
       "      <td>1.62</td>\n",
       "      <td>0.20</td>\n",
       "      <td>1.55</td>\n",
       "      <td>0.11</td>\n",
       "      <td>4.18</td>\n",
       "      <td>0.00</td>\n",
       "    </tr>\n",
       "    <tr>\n",
       "      <th>1</th>\n",
       "      <td>1</td>\n",
       "      <td>2018-06-15</td>\n",
       "      <td>1908</td>\n",
       "      <td>FIFA World Cup</td>\n",
       "      <td>Egypt</td>\n",
       "      <td>Uruguay</td>\n",
       "      <td>62.46</td>\n",
       "      <td>79.52</td>\n",
       "      <td>0.1845</td>\n",
       "      <td>0.5433</td>\n",
       "      <td>...</td>\n",
       "      <td>0.82</td>\n",
       "      <td>1.61</td>\n",
       "      <td>0</td>\n",
       "      <td>1</td>\n",
       "      <td>0.42</td>\n",
       "      <td>1.94</td>\n",
       "      <td>0.65</td>\n",
       "      <td>1.94</td>\n",
       "      <td>0.00</td>\n",
       "      <td>1.05</td>\n",
       "    </tr>\n",
       "    <tr>\n",
       "      <th>2</th>\n",
       "      <td>2</td>\n",
       "      <td>2018-06-15</td>\n",
       "      <td>1908</td>\n",
       "      <td>FIFA World Cup</td>\n",
       "      <td>Morocco</td>\n",
       "      <td>Iran</td>\n",
       "      <td>72.33</td>\n",
       "      <td>65.57</td>\n",
       "      <td>0.4004</td>\n",
       "      <td>0.2667</td>\n",
       "      <td>...</td>\n",
       "      <td>1.13</td>\n",
       "      <td>0.86</td>\n",
       "      <td>0</td>\n",
       "      <td>1</td>\n",
       "      <td>0.86</td>\n",
       "      <td>0.72</td>\n",
       "      <td>0.57</td>\n",
       "      <td>0.36</td>\n",
       "      <td>0.00</td>\n",
       "      <td>1.05</td>\n",
       "    </tr>\n",
       "    <tr>\n",
       "      <th>3</th>\n",
       "      <td>3</td>\n",
       "      <td>2018-06-15</td>\n",
       "      <td>1908</td>\n",
       "      <td>FIFA World Cup</td>\n",
       "      <td>Portugal</td>\n",
       "      <td>Spain</td>\n",
       "      <td>83.47</td>\n",
       "      <td>91.30</td>\n",
       "      <td>0.2459</td>\n",
       "      <td>0.4809</td>\n",
       "      <td>...</td>\n",
       "      <td>1.07</td>\n",
       "      <td>1.60</td>\n",
       "      <td>3</td>\n",
       "      <td>3</td>\n",
       "      <td>1.15</td>\n",
       "      <td>1.63</td>\n",
       "      <td>0.80</td>\n",
       "      <td>2.59</td>\n",
       "      <td>3.15</td>\n",
       "      <td>3.15</td>\n",
       "    </tr>\n",
       "    <tr>\n",
       "      <th>4</th>\n",
       "      <td>4</td>\n",
       "      <td>2018-06-16</td>\n",
       "      <td>1908</td>\n",
       "      <td>FIFA World Cup</td>\n",
       "      <td>France</td>\n",
       "      <td>Australia</td>\n",
       "      <td>87.18</td>\n",
       "      <td>61.69</td>\n",
       "      <td>0.7694</td>\n",
       "      <td>0.0746</td>\n",
       "      <td>...</td>\n",
       "      <td>2.61</td>\n",
       "      <td>0.69</td>\n",
       "      <td>2</td>\n",
       "      <td>1</td>\n",
       "      <td>1.38</td>\n",
       "      <td>1.03</td>\n",
       "      <td>1.24</td>\n",
       "      <td>0.39</td>\n",
       "      <td>2.10</td>\n",
       "      <td>1.05</td>\n",
       "    </tr>\n",
       "  </tbody>\n",
       "</table>\n",
       "<p>5 rows × 21 columns</p>\n",
       "</div>"
      ],
      "text/plain": [
       "   index        date  league_id          league     team1         team2  \\\n",
       "0      0  2018-06-14       1908  FIFA World Cup    Russia  Saudi Arabia   \n",
       "1      1  2018-06-15       1908  FIFA World Cup     Egypt       Uruguay   \n",
       "2      2  2018-06-15       1908  FIFA World Cup   Morocco          Iran   \n",
       "3      3  2018-06-15       1908  FIFA World Cup  Portugal         Spain   \n",
       "4      4  2018-06-16       1908  FIFA World Cup    France     Australia   \n",
       "\n",
       "    spi1   spi2   prob1   prob2     ...      proj_score1  proj_score2  score1  \\\n",
       "0  70.14  51.33  0.6615  0.1200     ...             2.03         0.73       5   \n",
       "1  62.46  79.52  0.1845  0.5433     ...             0.82         1.61       0   \n",
       "2  72.33  65.57  0.4004  0.2667     ...             1.13         0.86       0   \n",
       "3  83.47  91.30  0.2459  0.4809     ...             1.07         1.60       3   \n",
       "4  87.18  61.69  0.7694  0.0746     ...             2.61         0.69       2   \n",
       "\n",
       "   score2   xg1   xg2  nsxg1  nsxg2  adj_score1  adj_score2  \n",
       "0       0  1.62  0.20   1.55   0.11        4.18        0.00  \n",
       "1       1  0.42  1.94   0.65   1.94        0.00        1.05  \n",
       "2       1  0.86  0.72   0.57   0.36        0.00        1.05  \n",
       "3       3  1.15  1.63   0.80   2.59        3.15        3.15  \n",
       "4       1  1.38  1.03   1.24   0.39        2.10        1.05  \n",
       "\n",
       "[5 rows x 21 columns]"
      ]
     },
     "execution_count": 12,
     "metadata": {},
     "output_type": "execute_result"
    }
   ],
   "source": [
    "# Reset to default 0,1...n index\n",
    "df.reset_index().head()"
   ]
  },
  {
   "cell_type": "code",
   "execution_count": 13,
   "metadata": {
    "hidden": true
   },
   "outputs": [
    {
     "data": {
      "text/plain": [
       "array(['Russia', 'Egypt', 'Morocco', 'Portugal', 'France', 'Argentina',\n",
       "       'Peru', 'Croatia', 'Costa Rica', 'Germany', 'Brazil', 'Sweden',\n",
       "       'Belgium', 'Tunisia', 'Colombia', 'Poland', 'Uruguay', 'Iran',\n",
       "       'Denmark', 'Nigeria', 'Serbia', 'South Korea', 'England', 'Japan',\n",
       "       'Saudi Arabia', 'Spain', 'Australia', 'Iceland', 'Mexico',\n",
       "       'Switzerland', 'Senegal', 'Panama'], dtype=object)"
      ]
     },
     "execution_count": 13,
     "metadata": {},
     "output_type": "execute_result"
    }
   ],
   "source": [
    "df['team1'].unique()"
   ]
  },
  {
   "cell_type": "code",
   "execution_count": 14,
   "metadata": {
    "hidden": true
   },
   "outputs": [
    {
     "data": {
      "text/plain": [
       "32"
      ]
     },
     "execution_count": 14,
     "metadata": {},
     "output_type": "execute_result"
    }
   ],
   "source": [
    "df['team1'].nunique()"
   ]
  },
  {
   "cell_type": "code",
   "execution_count": 15,
   "metadata": {
    "hidden": true
   },
   "outputs": [
    {
     "data": {
      "text/plain": [
       "France     5\n",
       "Uruguay    4\n",
       "Belgium    4\n",
       "Brazil     4\n",
       "Sweden     3\n",
       "Name: team1, dtype: int64"
      ]
     },
     "execution_count": 15,
     "metadata": {},
     "output_type": "execute_result"
    }
   ],
   "source": [
    "# Very powerful command (frequency table)\n",
    "df['team1'].value_counts().head()"
   ]
  },
  {
   "cell_type": "code",
   "execution_count": 16,
   "metadata": {
    "hidden": true
   },
   "outputs": [
    {
     "data": {
      "text/plain": [
       "0    140.28\n",
       "1    124.92\n",
       "2    144.66\n",
       "3    166.94\n",
       "4    174.36\n",
       "Name: spi1, dtype: float64"
      ]
     },
     "execution_count": 16,
     "metadata": {},
     "output_type": "execute_result"
    }
   ],
   "source": [
    "def times2(x):\n",
    "    return x*2\n",
    "\n",
    "df['spi1'].apply(times2).head()"
   ]
  },
  {
   "cell_type": "code",
   "execution_count": 22,
   "metadata": {
    "hidden": true
   },
   "outputs": [],
   "source": [
    "# Deleting column by name\n",
    "del df['league']"
   ]
  },
  {
   "cell_type": "code",
   "execution_count": 29,
   "metadata": {
    "collapsed": true,
    "hidden": true
   },
   "outputs": [
    {
     "data": {
      "text/plain": [
       "date           0\n",
       "league_id      0\n",
       "team1          0\n",
       "team2          0\n",
       "spi1           0\n",
       "spi2           0\n",
       "prob1          0\n",
       "prob2          0\n",
       "probtie        0\n",
       "proj_score1    0\n",
       "proj_score2    0\n",
       "score1         0\n",
       "score2         0\n",
       "xg1            0\n",
       "xg2            0\n",
       "nsxg1          0\n",
       "nsxg2          0\n",
       "adj_score1     0\n",
       "adj_score2     0\n",
       "dtype: int64"
      ]
     },
     "execution_count": 29,
     "metadata": {},
     "output_type": "execute_result"
    }
   ],
   "source": [
    "## NA counter function for each column\n",
    "def nacount(table):\n",
    "    return table.isnull().sum()\n",
    "\n",
    "nacount(df)"
   ]
  },
  {
   "cell_type": "markdown",
   "metadata": {},
   "source": [
    "## Useful Operations"
   ]
  },
  {
   "cell_type": "code",
   "execution_count": null,
   "metadata": {},
   "outputs": [],
   "source": [
    "## Mean imputation\n",
    "df['A'].fillna(value=df['A'].mean())"
   ]
  }
 ],
 "metadata": {
  "kernelspec": {
   "display_name": "Python 3",
   "language": "python",
   "name": "python3"
  },
  "language_info": {
   "codemirror_mode": {
    "name": "ipython",
    "version": 3
   },
   "file_extension": ".py",
   "mimetype": "text/x-python",
   "name": "python",
   "nbconvert_exporter": "python",
   "pygments_lexer": "ipython3",
   "version": "3.6.6"
  },
  "toc": {
   "base_numbering": 1,
   "nav_menu": {},
   "number_sections": true,
   "sideBar": true,
   "skip_h1_title": false,
   "title_cell": "Table of Contents",
   "title_sidebar": "Contents",
   "toc_cell": false,
   "toc_position": {
    "height": "calc(100% - 180px)",
    "left": "10px",
    "top": "150px",
    "width": "206px"
   },
   "toc_section_display": true,
   "toc_window_display": true
  },
  "varInspector": {
   "cols": {
    "lenName": 16,
    "lenType": 16,
    "lenVar": 40
   },
   "kernels_config": {
    "python": {
     "delete_cmd_postfix": "",
     "delete_cmd_prefix": "del ",
     "library": "var_list.py",
     "varRefreshCmd": "print(var_dic_list())"
    },
    "r": {
     "delete_cmd_postfix": ") ",
     "delete_cmd_prefix": "rm(",
     "library": "var_list.r",
     "varRefreshCmd": "cat(var_dic_list()) "
    }
   },
   "types_to_exclude": [
    "module",
    "function",
    "builtin_function_or_method",
    "instance",
    "_Feature"
   ],
   "window_display": false
  }
 },
 "nbformat": 4,
 "nbformat_minor": 2
}
